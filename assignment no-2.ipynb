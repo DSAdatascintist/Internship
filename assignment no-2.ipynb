{
 "cells": [
  {
   "cell_type": "code",
   "execution_count": 1,
   "id": "0ce83d1f",
   "metadata": {},
   "outputs": [
    {
     "name": "stdout",
     "output_type": "stream",
     "text": [
      "Requirement already satisfied: selenium in c:\\users\\sai baba\\anaconda3\\lib\\site-packages (4.1.0)\n",
      "Requirement already satisfied: urllib3[secure]~=1.26 in c:\\users\\sai baba\\anaconda3\\lib\\site-packages (from selenium) (1.26.4)\n",
      "Requirement already satisfied: trio-websocket~=0.9 in c:\\users\\sai baba\\anaconda3\\lib\\site-packages (from selenium) (0.9.2)\n",
      "Requirement already satisfied: trio~=0.17 in c:\\users\\sai baba\\anaconda3\\lib\\site-packages (from selenium) (0.19.0)\n",
      "Requirement already satisfied: async-generator>=1.9 in c:\\users\\sai baba\\anaconda3\\lib\\site-packages (from trio~=0.17->selenium) (1.10)\n",
      "Requirement already satisfied: attrs>=19.2.0 in c:\\users\\sai baba\\anaconda3\\lib\\site-packages (from trio~=0.17->selenium) (20.3.0)\n",
      "Requirement already satisfied: idna in c:\\users\\sai baba\\anaconda3\\lib\\site-packages (from trio~=0.17->selenium) (2.10)\n",
      "Requirement already satisfied: sniffio in c:\\users\\sai baba\\anaconda3\\lib\\site-packages (from trio~=0.17->selenium) (1.2.0)\n",
      "Requirement already satisfied: cffi>=1.14 in c:\\users\\sai baba\\anaconda3\\lib\\site-packages (from trio~=0.17->selenium) (1.14.5)\n",
      "Requirement already satisfied: sortedcontainers in c:\\users\\sai baba\\anaconda3\\lib\\site-packages (from trio~=0.17->selenium) (2.3.0)\n",
      "Requirement already satisfied: outcome in c:\\users\\sai baba\\anaconda3\\lib\\site-packages (from trio~=0.17->selenium) (1.1.0)\n",
      "Requirement already satisfied: pycparser in c:\\users\\sai baba\\anaconda3\\lib\\site-packages (from cffi>=1.14->trio~=0.17->selenium) (2.20)\n",
      "Requirement already satisfied: wsproto>=0.14 in c:\\users\\sai baba\\anaconda3\\lib\\site-packages (from trio-websocket~=0.9->selenium) (1.0.0)\n",
      "Requirement already satisfied: cryptography>=1.3.4 in c:\\users\\sai baba\\anaconda3\\lib\\site-packages (from urllib3[secure]~=1.26->selenium) (3.4.7)\n",
      "Requirement already satisfied: pyOpenSSL>=0.14 in c:\\users\\sai baba\\anaconda3\\lib\\site-packages (from urllib3[secure]~=1.26->selenium) (20.0.1)\n",
      "Requirement already satisfied: certifi in c:\\users\\sai baba\\anaconda3\\lib\\site-packages (from urllib3[secure]~=1.26->selenium) (2020.12.5)\n",
      "Requirement already satisfied: six>=1.5.2 in c:\\users\\sai baba\\anaconda3\\lib\\site-packages (from pyOpenSSL>=0.14->urllib3[secure]~=1.26->selenium) (1.15.0)\n",
      "Requirement already satisfied: h11<1,>=0.9.0 in c:\\users\\sai baba\\anaconda3\\lib\\site-packages (from wsproto>=0.14->trio-websocket~=0.9->selenium) (0.12.0)\n"
     ]
    }
   ],
   "source": [
    "#first install the selenium library\n",
    "! pip install selenium"
   ]
  },
  {
   "cell_type": "code",
   "execution_count": 2,
   "id": "06478a82",
   "metadata": {},
   "outputs": [],
   "source": [
    "#lets import all the required libraries\n",
    "import selenium\n",
    "import pandas as pd\n",
    "from selenium import webdriver"
   ]
  },
  {
   "cell_type": "code",
   "execution_count": 3,
   "id": "d1554e4b",
   "metadata": {},
   "outputs": [],
   "source": [
    "import warnings\n",
    "warnings.filterwarnings('ignore')"
   ]
  },
  {
   "cell_type": "code",
   "execution_count": 4,
   "id": "f4fdc76d",
   "metadata": {},
   "outputs": [],
   "source": [
    "#lets first connect to web driver\n",
    "driver = webdriver.Chrome(r\"C:/Users/SAI BABA/Downloads/chromedriver_win32/chromedriver.exe\")"
   ]
  },
  {
   "cell_type": "code",
   "execution_count": 5,
   "id": "57ec4ed6",
   "metadata": {},
   "outputs": [],
   "source": [
    "#driver.close()"
   ]
  },
  {
   "cell_type": "code",
   "execution_count": 6,
   "id": "acd795a8",
   "metadata": {},
   "outputs": [],
   "source": [
    "#Q1: Write a python program to scrape data for “Data Analyst” Job position in “Bangalore” location. You \n",
    "#have to scrape the job-title, job-location, company_name, experience_required. You have to scrape first 10 \n",
    "#jobs data.\n",
    "driver.get('https://www.naukri.com/')\n"
   ]
  },
  {
   "cell_type": "code",
   "execution_count": 7,
   "id": "925ffd7f",
   "metadata": {},
   "outputs": [],
   "source": [
    "#finding element for job search bar\n",
    "search_job=driver.find_element_by_id('qsb-keyword-sugg')\n",
    "search_job.send_keys(\"Data Analyst\")\n",
    "search_loc=driver.find_element_by_xpath(\"//input[@id='qsb-location-sugg']\")\n",
    "search_loc.send_keys(\"Bangalore\")"
   ]
  },
  {
   "cell_type": "code",
   "execution_count": 8,
   "id": "6d6bd01d",
   "metadata": {},
   "outputs": [],
   "source": [
    "search_btn=driver.find_element_by_xpath(\"//div[@class='search-btn']/button\")\n",
    "search_btn.click()"
   ]
  },
  {
   "cell_type": "code",
   "execution_count": 9,
   "id": "91394c2e",
   "metadata": {},
   "outputs": [],
   "source": [
    "#specifying url of webpage to be scrapped\n",
    "url=\"https://www.naukri.com/data-analyst-jobs-in-bangalore?k=data%20analyst&l=bangalore\""
   ]
  },
  {
   "cell_type": "code",
   "execution_count": 10,
   "id": "9058712e",
   "metadata": {},
   "outputs": [],
   "source": [
    "#lets open web page through our webdriver\n",
    "driver.get(url)"
   ]
  },
  {
   "cell_type": "code",
   "execution_count": 11,
   "id": "93c0adaf",
   "metadata": {},
   "outputs": [],
   "source": [
    "job_titles=[]\n",
    "company_names=[]\n",
    "locations_list=[]\n",
    "experience_list=[]"
   ]
  },
  {
   "cell_type": "code",
   "execution_count": 12,
   "id": "fd5e454b",
   "metadata": {},
   "outputs": [
    {
     "data": {
      "text/plain": [
       "[<selenium.webdriver.remote.webelement.WebElement (session=\"96481398427ab8936c80560528c7e98f\", element=\"5a3deb51-be7f-4649-9e8f-41db86b5ca8d\")>,\n",
       " <selenium.webdriver.remote.webelement.WebElement (session=\"96481398427ab8936c80560528c7e98f\", element=\"44553182-63a1-4e9c-8f1c-aa9ba925a198\")>,\n",
       " <selenium.webdriver.remote.webelement.WebElement (session=\"96481398427ab8936c80560528c7e98f\", element=\"0ed4db81-7ebe-487a-bbc8-3d60ae1fd62f\")>,\n",
       " <selenium.webdriver.remote.webelement.WebElement (session=\"96481398427ab8936c80560528c7e98f\", element=\"a8e27509-750f-4cd1-8fd0-6b61a05d4b69\")>,\n",
       " <selenium.webdriver.remote.webelement.WebElement (session=\"96481398427ab8936c80560528c7e98f\", element=\"e9065e3c-99d2-4205-92a2-7ffda589babb\")>,\n",
       " <selenium.webdriver.remote.webelement.WebElement (session=\"96481398427ab8936c80560528c7e98f\", element=\"816a68ad-dd16-4c50-8ffa-4072690f1e97\")>,\n",
       " <selenium.webdriver.remote.webelement.WebElement (session=\"96481398427ab8936c80560528c7e98f\", element=\"3ed15e3f-4c7d-40d6-84a3-a9b76caab54f\")>,\n",
       " <selenium.webdriver.remote.webelement.WebElement (session=\"96481398427ab8936c80560528c7e98f\", element=\"eecfd02a-d2ef-430f-9c72-bb7825a459d9\")>,\n",
       " <selenium.webdriver.remote.webelement.WebElement (session=\"96481398427ab8936c80560528c7e98f\", element=\"f6835883-0795-4873-a8dd-71219074a6e8\")>,\n",
       " <selenium.webdriver.remote.webelement.WebElement (session=\"96481398427ab8936c80560528c7e98f\", element=\"1459cb5a-57de-42b9-bd77-45c7bca1fcf7\")>]"
      ]
     },
     "execution_count": 12,
     "metadata": {},
     "output_type": "execute_result"
    }
   ],
   "source": [
    "#so lets extract all the tag having job title\n",
    "titles_tags=driver.find_elements_by_xpath(\"//a[@class='title fw500 ellipsis']\")\n",
    "titles_tags[0:10]"
   ]
  },
  {
   "cell_type": "code",
   "execution_count": 13,
   "id": "3dbf361a",
   "metadata": {},
   "outputs": [
    {
     "data": {
      "text/plain": [
       "['Hiring -Data Analyst, Business Analyst, MIS Analyst -3rd Party Payroll',\n",
       " 'Senior Data Analyst III',\n",
       " 'Business Analyst/ Data Analyst- Capital Market & SQL (Mandatory)',\n",
       " 'Customer Data Management Analyst',\n",
       " 'Data Analyst',\n",
       " 'Assistant/deputy Manager - Geo-spatial Data Analyst',\n",
       " 'Senior Data Analyst',\n",
       " 'Senior Data Analyst',\n",
       " 'Senior Data Analyst',\n",
       " 'Openings For SQL Data Analyst']"
      ]
     },
     "execution_count": 13,
     "metadata": {},
     "output_type": "execute_result"
    }
   ],
   "source": [
    "for i in titles_tags:\n",
    "    titles=i.text\n",
    "    job_titles.append(titles)\n",
    "job_titles[0:10]  "
   ]
  },
  {
   "cell_type": "code",
   "execution_count": 14,
   "id": "f98ee820",
   "metadata": {},
   "outputs": [
    {
     "data": {
      "text/plain": [
       "[<selenium.webdriver.remote.webelement.WebElement (session=\"96481398427ab8936c80560528c7e98f\", element=\"d8ac5e04-f90e-48a5-9620-ce17f9eca0d3\")>,\n",
       " <selenium.webdriver.remote.webelement.WebElement (session=\"96481398427ab8936c80560528c7e98f\", element=\"c6753309-ea63-46dd-a11a-47c2f6487777\")>,\n",
       " <selenium.webdriver.remote.webelement.WebElement (session=\"96481398427ab8936c80560528c7e98f\", element=\"6bd99d2f-4a88-430c-9ecd-6bd129f78389\")>,\n",
       " <selenium.webdriver.remote.webelement.WebElement (session=\"96481398427ab8936c80560528c7e98f\", element=\"43a13c2c-484d-4347-89c2-745be1c5f330\")>,\n",
       " <selenium.webdriver.remote.webelement.WebElement (session=\"96481398427ab8936c80560528c7e98f\", element=\"9c662004-a56f-405a-aa3c-156652f46e7b\")>,\n",
       " <selenium.webdriver.remote.webelement.WebElement (session=\"96481398427ab8936c80560528c7e98f\", element=\"10cf39af-64ca-48a2-ac3a-d91e9ef0f146\")>,\n",
       " <selenium.webdriver.remote.webelement.WebElement (session=\"96481398427ab8936c80560528c7e98f\", element=\"4b48a727-7602-4ea4-ab66-73baa2fdf19f\")>,\n",
       " <selenium.webdriver.remote.webelement.WebElement (session=\"96481398427ab8936c80560528c7e98f\", element=\"9e770ac1-d282-42c5-9448-229ace287f25\")>,\n",
       " <selenium.webdriver.remote.webelement.WebElement (session=\"96481398427ab8936c80560528c7e98f\", element=\"389fc11d-921f-4cd4-8763-176956d8d8b3\")>,\n",
       " <selenium.webdriver.remote.webelement.WebElement (session=\"96481398427ab8936c80560528c7e98f\", element=\"00eed5ba-d89c-4305-8338-6cfe98f76679\")>]"
      ]
     },
     "execution_count": 14,
     "metadata": {},
     "output_type": "execute_result"
    }
   ],
   "source": [
    "#extract all the tag having company name\n",
    "companies_tags=driver.find_elements_by_xpath(\"//a[@class='subTitle ellipsis fleft']\")\n",
    "companies_tags[0:10]"
   ]
  },
  {
   "cell_type": "code",
   "execution_count": 15,
   "id": "c92a6a21",
   "metadata": {},
   "outputs": [
    {
     "data": {
      "text/plain": [
       "['Flipkart',\n",
       " 'Flipkart',\n",
       " 'Genpact',\n",
       " 'Aspect',\n",
       " 'GlaxoSmithKline Pharmaceuticals Limited',\n",
       " 'Maruti Suzuki India',\n",
       " 'Rapido',\n",
       " 'SYREN TECHNOLOGIES PRIVATE LIMITED',\n",
       " 'Flipkart',\n",
       " 'StackNexus Technologies India Pvt. Ltd']"
      ]
     },
     "execution_count": 15,
     "metadata": {},
     "output_type": "execute_result"
    }
   ],
   "source": [
    "for i in companies_tags:\n",
    "    company_name=i.text\n",
    "    company_names.append(company_name)\n",
    "company_names[0:10]  "
   ]
  },
  {
   "cell_type": "code",
   "execution_count": 16,
   "id": "0aff077f",
   "metadata": {},
   "outputs": [
    {
     "data": {
      "text/plain": [
       "[<selenium.webdriver.remote.webelement.WebElement (session=\"96481398427ab8936c80560528c7e98f\", element=\"921a201b-7c92-4c1c-afb6-2c2cbb50c2c9\")>,\n",
       " <selenium.webdriver.remote.webelement.WebElement (session=\"96481398427ab8936c80560528c7e98f\", element=\"c4a7f002-2cca-48a7-841d-f85e08eeb071\")>,\n",
       " <selenium.webdriver.remote.webelement.WebElement (session=\"96481398427ab8936c80560528c7e98f\", element=\"c0b5e6d8-3a20-4ed2-97a2-3f4ac538df97\")>,\n",
       " <selenium.webdriver.remote.webelement.WebElement (session=\"96481398427ab8936c80560528c7e98f\", element=\"95681d3f-a63e-48be-86e0-a5ada43cbc64\")>,\n",
       " <selenium.webdriver.remote.webelement.WebElement (session=\"96481398427ab8936c80560528c7e98f\", element=\"437ccc70-85d8-43f5-a05e-310c19106ea2\")>,\n",
       " <selenium.webdriver.remote.webelement.WebElement (session=\"96481398427ab8936c80560528c7e98f\", element=\"9a1792b8-ec57-4e05-8354-7ac341bfac0b\")>,\n",
       " <selenium.webdriver.remote.webelement.WebElement (session=\"96481398427ab8936c80560528c7e98f\", element=\"fb8ad160-e845-467e-b870-82bcfb862324\")>,\n",
       " <selenium.webdriver.remote.webelement.WebElement (session=\"96481398427ab8936c80560528c7e98f\", element=\"e699cd29-5808-4754-9232-0e4b9c91bad3\")>,\n",
       " <selenium.webdriver.remote.webelement.WebElement (session=\"96481398427ab8936c80560528c7e98f\", element=\"ce5ff6ad-07ec-4c69-9a60-95bd60e4d472\")>,\n",
       " <selenium.webdriver.remote.webelement.WebElement (session=\"96481398427ab8936c80560528c7e98f\", element=\"fb4c2250-5935-40e6-be24-11fb9b2c517a\")>]"
      ]
     },
     "execution_count": 16,
     "metadata": {},
     "output_type": "execute_result"
    }
   ],
   "source": [
    "#extract all the tag having job-location\n",
    "locations_tags=driver.find_elements_by_xpath(\"//li[@class='fleft grey-text br2 placeHolderLi location']\")\n",
    "locations_tags[0:10]"
   ]
  },
  {
   "cell_type": "code",
   "execution_count": 17,
   "id": "c1085ddc",
   "metadata": {},
   "outputs": [
    {
     "data": {
      "text/plain": [
       "['Bangalore/Bengaluru',\n",
       " 'Bengaluru/Bangalore',\n",
       " 'Pune, Bangalore/Bengaluru',\n",
       " 'Bangalore/Bengaluru',\n",
       " 'Bangalore/Bengaluru',\n",
       " 'Gurgaon/Gurugram, bangalore',\n",
       " 'Bangalore/Bengaluru',\n",
       " 'Kolkata, Hyderabad/Secunderabad, Pune, Ahmedabad, Chennai, Bangalore/Bengaluru, Delhi / NCR, Mumbai (All Areas)\\n(WFH during Covid)',\n",
       " 'Bengaluru/Bangalore',\n",
       " 'Hyderabad/Secunderabad, Bangalore/Bengaluru\\n(WFH during Covid)']"
      ]
     },
     "execution_count": 17,
     "metadata": {},
     "output_type": "execute_result"
    }
   ],
   "source": [
    "for i in locations_tags:\n",
    "    location=i.text\n",
    "    locations_list.append(location)\n",
    "locations_list[0:10] "
   ]
  },
  {
   "cell_type": "code",
   "execution_count": 18,
   "id": "47cb13e6",
   "metadata": {},
   "outputs": [
    {
     "data": {
      "text/plain": [
       "[<selenium.webdriver.remote.webelement.WebElement (session=\"96481398427ab8936c80560528c7e98f\", element=\"3e9c9e31-8c1e-4283-be1a-334146edc9b9\")>,\n",
       " <selenium.webdriver.remote.webelement.WebElement (session=\"96481398427ab8936c80560528c7e98f\", element=\"292936db-8162-4d77-9f1b-0478654fafa0\")>,\n",
       " <selenium.webdriver.remote.webelement.WebElement (session=\"96481398427ab8936c80560528c7e98f\", element=\"00d17a14-37d5-45ca-9cd3-d0fcb5239e3d\")>,\n",
       " <selenium.webdriver.remote.webelement.WebElement (session=\"96481398427ab8936c80560528c7e98f\", element=\"fce42d80-9bcd-4128-a5aa-8e19e2e63708\")>,\n",
       " <selenium.webdriver.remote.webelement.WebElement (session=\"96481398427ab8936c80560528c7e98f\", element=\"852dea34-1ca1-400b-830d-c852a9bdb7a3\")>,\n",
       " <selenium.webdriver.remote.webelement.WebElement (session=\"96481398427ab8936c80560528c7e98f\", element=\"7347ba7d-3a9b-46fd-9e1b-f3545eac405e\")>,\n",
       " <selenium.webdriver.remote.webelement.WebElement (session=\"96481398427ab8936c80560528c7e98f\", element=\"25d1c998-04ec-46ac-ba40-a8a064a9f7d6\")>,\n",
       " <selenium.webdriver.remote.webelement.WebElement (session=\"96481398427ab8936c80560528c7e98f\", element=\"1476adde-8680-441c-902c-f56fbe6caf0c\")>,\n",
       " <selenium.webdriver.remote.webelement.WebElement (session=\"96481398427ab8936c80560528c7e98f\", element=\"e846bdfa-f968-4e56-8efc-9e2d21556a41\")>,\n",
       " <selenium.webdriver.remote.webelement.WebElement (session=\"96481398427ab8936c80560528c7e98f\", element=\"cdf03d88-3d25-47b8-ae6f-cb1dab309b73\")>]"
      ]
     },
     "execution_count": 18,
     "metadata": {},
     "output_type": "execute_result"
    }
   ],
   "source": [
    "#extract all the tag having experience required\n",
    "experience_tags=driver.find_elements_by_xpath(\"//li[@class='fleft grey-text br2 placeHolderLi experience']\")\n",
    "experience_tags[0:10]"
   ]
  },
  {
   "cell_type": "code",
   "execution_count": 19,
   "id": "f3188f6d",
   "metadata": {},
   "outputs": [
    {
     "data": {
      "text/plain": [
       "['1-6 Yrs',\n",
       " '2-4 Yrs',\n",
       " '7-12 Yrs',\n",
       " '0-2 Yrs',\n",
       " '3-8 Yrs',\n",
       " '3-5 Yrs',\n",
       " '1-6 Yrs',\n",
       " '5-10 Yrs',\n",
       " '4-5 Yrs',\n",
       " '3-6 Yrs']"
      ]
     },
     "execution_count": 19,
     "metadata": {},
     "output_type": "execute_result"
    }
   ],
   "source": [
    "for i in experience_tags:\n",
    "    experience=i.text\n",
    "    experience_list.append(experience)\n",
    "experience_list[0:10] "
   ]
  },
  {
   "cell_type": "code",
   "execution_count": 20,
   "id": "3936cf7e",
   "metadata": {},
   "outputs": [
    {
     "name": "stdout",
     "output_type": "stream",
     "text": [
      "20 20 20 20\n"
     ]
    }
   ],
   "source": [
    "print(len(job_titles),len(company_names),len(experience_list),len(locations_list))"
   ]
  },
  {
   "cell_type": "code",
   "execution_count": 21,
   "id": "97909a2f",
   "metadata": {},
   "outputs": [],
   "source": [
    "jobs=pd.DataFrame({})\n",
    "jobs['title']=job_titles\n",
    "jobs['company']=company_names\n",
    "jobs['experience_required']=experience_list\n",
    "jobs['location']=locations_list\n"
   ]
  },
  {
   "cell_type": "code",
   "execution_count": 22,
   "id": "15d00178",
   "metadata": {},
   "outputs": [
    {
     "data": {
      "text/html": [
       "<div>\n",
       "<style scoped>\n",
       "    .dataframe tbody tr th:only-of-type {\n",
       "        vertical-align: middle;\n",
       "    }\n",
       "\n",
       "    .dataframe tbody tr th {\n",
       "        vertical-align: top;\n",
       "    }\n",
       "\n",
       "    .dataframe thead th {\n",
       "        text-align: right;\n",
       "    }\n",
       "</style>\n",
       "<table border=\"1\" class=\"dataframe\">\n",
       "  <thead>\n",
       "    <tr style=\"text-align: right;\">\n",
       "      <th></th>\n",
       "      <th>title</th>\n",
       "      <th>company</th>\n",
       "      <th>experience_required</th>\n",
       "      <th>location</th>\n",
       "    </tr>\n",
       "  </thead>\n",
       "  <tbody>\n",
       "    <tr>\n",
       "      <th>0</th>\n",
       "      <td>Hiring -Data Analyst, Business Analyst, MIS An...</td>\n",
       "      <td>Flipkart</td>\n",
       "      <td>1-6 Yrs</td>\n",
       "      <td>Bangalore/Bengaluru</td>\n",
       "    </tr>\n",
       "    <tr>\n",
       "      <th>1</th>\n",
       "      <td>Senior Data Analyst III</td>\n",
       "      <td>Flipkart</td>\n",
       "      <td>2-4 Yrs</td>\n",
       "      <td>Bengaluru/Bangalore</td>\n",
       "    </tr>\n",
       "    <tr>\n",
       "      <th>2</th>\n",
       "      <td>Business Analyst/ Data Analyst- Capital Market...</td>\n",
       "      <td>Genpact</td>\n",
       "      <td>7-12 Yrs</td>\n",
       "      <td>Pune, Bangalore/Bengaluru</td>\n",
       "    </tr>\n",
       "    <tr>\n",
       "      <th>3</th>\n",
       "      <td>Customer Data Management Analyst</td>\n",
       "      <td>Aspect</td>\n",
       "      <td>0-2 Yrs</td>\n",
       "      <td>Bangalore/Bengaluru</td>\n",
       "    </tr>\n",
       "    <tr>\n",
       "      <th>4</th>\n",
       "      <td>Data Analyst</td>\n",
       "      <td>GlaxoSmithKline Pharmaceuticals Limited</td>\n",
       "      <td>3-8 Yrs</td>\n",
       "      <td>Bangalore/Bengaluru</td>\n",
       "    </tr>\n",
       "    <tr>\n",
       "      <th>5</th>\n",
       "      <td>Assistant/deputy Manager - Geo-spatial Data An...</td>\n",
       "      <td>Maruti Suzuki India</td>\n",
       "      <td>3-5 Yrs</td>\n",
       "      <td>Gurgaon/Gurugram, bangalore</td>\n",
       "    </tr>\n",
       "    <tr>\n",
       "      <th>6</th>\n",
       "      <td>Senior Data Analyst</td>\n",
       "      <td>Rapido</td>\n",
       "      <td>1-6 Yrs</td>\n",
       "      <td>Bangalore/Bengaluru</td>\n",
       "    </tr>\n",
       "    <tr>\n",
       "      <th>7</th>\n",
       "      <td>Senior Data Analyst</td>\n",
       "      <td>SYREN TECHNOLOGIES PRIVATE LIMITED</td>\n",
       "      <td>5-10 Yrs</td>\n",
       "      <td>Kolkata, Hyderabad/Secunderabad, Pune, Ahmedab...</td>\n",
       "    </tr>\n",
       "    <tr>\n",
       "      <th>8</th>\n",
       "      <td>Senior Data Analyst</td>\n",
       "      <td>Flipkart</td>\n",
       "      <td>4-5 Yrs</td>\n",
       "      <td>Bengaluru/Bangalore</td>\n",
       "    </tr>\n",
       "    <tr>\n",
       "      <th>9</th>\n",
       "      <td>Openings For SQL Data Analyst</td>\n",
       "      <td>StackNexus Technologies India Pvt. Ltd</td>\n",
       "      <td>3-6 Yrs</td>\n",
       "      <td>Hyderabad/Secunderabad, Bangalore/Bengaluru\\n(...</td>\n",
       "    </tr>\n",
       "  </tbody>\n",
       "</table>\n",
       "</div>"
      ],
      "text/plain": [
       "                                               title  \\\n",
       "0  Hiring -Data Analyst, Business Analyst, MIS An...   \n",
       "1                            Senior Data Analyst III   \n",
       "2  Business Analyst/ Data Analyst- Capital Market...   \n",
       "3                   Customer Data Management Analyst   \n",
       "4                                       Data Analyst   \n",
       "5  Assistant/deputy Manager - Geo-spatial Data An...   \n",
       "6                                Senior Data Analyst   \n",
       "7                                Senior Data Analyst   \n",
       "8                                Senior Data Analyst   \n",
       "9                      Openings For SQL Data Analyst   \n",
       "\n",
       "                                   company experience_required  \\\n",
       "0                                 Flipkart             1-6 Yrs   \n",
       "1                                 Flipkart             2-4 Yrs   \n",
       "2                                  Genpact            7-12 Yrs   \n",
       "3                                   Aspect             0-2 Yrs   \n",
       "4  GlaxoSmithKline Pharmaceuticals Limited             3-8 Yrs   \n",
       "5                      Maruti Suzuki India             3-5 Yrs   \n",
       "6                                   Rapido             1-6 Yrs   \n",
       "7       SYREN TECHNOLOGIES PRIVATE LIMITED            5-10 Yrs   \n",
       "8                                 Flipkart             4-5 Yrs   \n",
       "9   StackNexus Technologies India Pvt. Ltd             3-6 Yrs   \n",
       "\n",
       "                                            location  \n",
       "0                                Bangalore/Bengaluru  \n",
       "1                                Bengaluru/Bangalore  \n",
       "2                          Pune, Bangalore/Bengaluru  \n",
       "3                                Bangalore/Bengaluru  \n",
       "4                                Bangalore/Bengaluru  \n",
       "5                        Gurgaon/Gurugram, bangalore  \n",
       "6                                Bangalore/Bengaluru  \n",
       "7  Kolkata, Hyderabad/Secunderabad, Pune, Ahmedab...  \n",
       "8                                Bengaluru/Bangalore  \n",
       "9  Hyderabad/Secunderabad, Bangalore/Bengaluru\\n(...  "
      ]
     },
     "execution_count": 22,
     "metadata": {},
     "output_type": "execute_result"
    }
   ],
   "source": [
    "jobs[0:10]"
   ]
  },
  {
   "cell_type": "code",
   "execution_count": 23,
   "id": "fa108f6b",
   "metadata": {},
   "outputs": [],
   "source": [
    "#lets first connect to web driver\n",
    "driver = webdriver.Chrome(r\"C:/Users/SAI BABA/Downloads/chromedriver_win32/chromedriver.exe\")"
   ]
  },
  {
   "cell_type": "code",
   "execution_count": 24,
   "id": "8894f81b",
   "metadata": {},
   "outputs": [],
   "source": [
    "driver.get('https://www.naukri.com/')\n"
   ]
  },
  {
   "cell_type": "code",
   "execution_count": 25,
   "id": "c05caafc",
   "metadata": {},
   "outputs": [],
   "source": [
    "#Q2Write a python program to scrape data for “Data Scientist” Job position in “Bangalore” location. You \n",
    "#have to scrape the job-title, job-location, company_name. You have to scrape first 10 jobs data.\n",
    "#finding element for job search bar\n",
    "search_job=driver.find_element_by_id('qsb-keyword-sugg')\n",
    "search_job.send_keys(\"Data Scientist\")\n",
    "search_loc=driver.find_element_by_xpath(\"//input[@id='qsb-location-sugg']\")\n",
    "search_loc.send_keys(\"Bangalore\")"
   ]
  },
  {
   "cell_type": "code",
   "execution_count": 26,
   "id": "9e19cdce",
   "metadata": {},
   "outputs": [],
   "source": [
    "search_btn=driver.find_element_by_xpath(\"//div[@class='search-btn']/button\")\n",
    "search_btn.click()"
   ]
  },
  {
   "cell_type": "code",
   "execution_count": 27,
   "id": "379d179f",
   "metadata": {},
   "outputs": [],
   "source": [
    "job_titles=[]\n",
    "company_names=[]\n",
    "locations_list=[]\n"
   ]
  },
  {
   "cell_type": "code",
   "execution_count": 28,
   "id": "9145a2a9",
   "metadata": {},
   "outputs": [
    {
     "data": {
      "text/plain": [
       "[<selenium.webdriver.remote.webelement.WebElement (session=\"a8a3f5693b7802bbd89e391652c65b8a\", element=\"596e142c-76ed-4fc4-a9a1-c3583e7b7356\")>,\n",
       " <selenium.webdriver.remote.webelement.WebElement (session=\"a8a3f5693b7802bbd89e391652c65b8a\", element=\"7a9dbe4d-bc9e-4b6e-ba0e-55661c78ff4e\")>,\n",
       " <selenium.webdriver.remote.webelement.WebElement (session=\"a8a3f5693b7802bbd89e391652c65b8a\", element=\"0627c36e-f117-4533-8f2f-c36913c93a4d\")>,\n",
       " <selenium.webdriver.remote.webelement.WebElement (session=\"a8a3f5693b7802bbd89e391652c65b8a\", element=\"00f3c573-7d4a-4733-9d3f-aa7a6c169825\")>,\n",
       " <selenium.webdriver.remote.webelement.WebElement (session=\"a8a3f5693b7802bbd89e391652c65b8a\", element=\"038ae854-7b42-4587-ad9b-5c0e81ea6024\")>,\n",
       " <selenium.webdriver.remote.webelement.WebElement (session=\"a8a3f5693b7802bbd89e391652c65b8a\", element=\"540d2e72-5888-4e07-b7e0-23f19455df8f\")>,\n",
       " <selenium.webdriver.remote.webelement.WebElement (session=\"a8a3f5693b7802bbd89e391652c65b8a\", element=\"16a5711f-bc35-43bd-a4e0-d3fa5b22eae8\")>,\n",
       " <selenium.webdriver.remote.webelement.WebElement (session=\"a8a3f5693b7802bbd89e391652c65b8a\", element=\"13da8f8f-99c6-4c81-9383-2ebd2e61d85c\")>,\n",
       " <selenium.webdriver.remote.webelement.WebElement (session=\"a8a3f5693b7802bbd89e391652c65b8a\", element=\"b6886aa8-5935-45a4-93eb-ba5adc9f95ec\")>,\n",
       " <selenium.webdriver.remote.webelement.WebElement (session=\"a8a3f5693b7802bbd89e391652c65b8a\", element=\"27cf2471-c667-441d-bda2-c6344a220d16\")>]"
      ]
     },
     "execution_count": 28,
     "metadata": {},
     "output_type": "execute_result"
    }
   ],
   "source": [
    "#so lets extract all the tag having job title\n",
    "titles_tags=driver.find_elements_by_xpath(\"//a[@class='title fw500 ellipsis']\")\n",
    "titles_tags[0:10]"
   ]
  },
  {
   "cell_type": "code",
   "execution_count": 29,
   "id": "0c6d9246",
   "metadata": {},
   "outputs": [
    {
     "data": {
      "text/plain": [
       "['Lead / Principal Data Scientist',\n",
       " 'Data Scientist',\n",
       " 'Senior Data Scientist',\n",
       " 'Data Scientist - Credit Risk',\n",
       " 'Lead/Senior Data Scientist (NLP)',\n",
       " 'Data Scientist 2',\n",
       " 'Machine Learning AI Data Scientist',\n",
       " 'Sr. Associate Consultant Data Scientist',\n",
       " 'Senior Engineer - AIML - Data Scientist',\n",
       " 'Data Scientist /Senior Data Science Executive']"
      ]
     },
     "execution_count": 29,
     "metadata": {},
     "output_type": "execute_result"
    }
   ],
   "source": [
    "for i in titles_tags:\n",
    "    titles=i.text\n",
    "    job_titles.append(titles)\n",
    "job_titles[0:10]  "
   ]
  },
  {
   "cell_type": "code",
   "execution_count": 30,
   "id": "0043d6fc",
   "metadata": {},
   "outputs": [
    {
     "data": {
      "text/plain": [
       "[<selenium.webdriver.remote.webelement.WebElement (session=\"a8a3f5693b7802bbd89e391652c65b8a\", element=\"78a13ec2-268e-403c-9061-79d478f747c9\")>,\n",
       " <selenium.webdriver.remote.webelement.WebElement (session=\"a8a3f5693b7802bbd89e391652c65b8a\", element=\"080c7f21-137d-47c1-baaa-6e99092ae2a3\")>,\n",
       " <selenium.webdriver.remote.webelement.WebElement (session=\"a8a3f5693b7802bbd89e391652c65b8a\", element=\"011c4124-98ea-4bd1-8aec-bdad2c2d7cb4\")>,\n",
       " <selenium.webdriver.remote.webelement.WebElement (session=\"a8a3f5693b7802bbd89e391652c65b8a\", element=\"2e173610-23da-42f8-92ad-f49a7021157d\")>,\n",
       " <selenium.webdriver.remote.webelement.WebElement (session=\"a8a3f5693b7802bbd89e391652c65b8a\", element=\"984ec07a-b335-4963-a4cf-345d831ee663\")>,\n",
       " <selenium.webdriver.remote.webelement.WebElement (session=\"a8a3f5693b7802bbd89e391652c65b8a\", element=\"165fa78d-2dca-4328-9615-1e399fc02853\")>,\n",
       " <selenium.webdriver.remote.webelement.WebElement (session=\"a8a3f5693b7802bbd89e391652c65b8a\", element=\"8ae13b38-31ab-4ae6-aac9-46879c0796cf\")>,\n",
       " <selenium.webdriver.remote.webelement.WebElement (session=\"a8a3f5693b7802bbd89e391652c65b8a\", element=\"0e3477e3-8e3d-4f12-bb52-fbb7f016b5ca\")>,\n",
       " <selenium.webdriver.remote.webelement.WebElement (session=\"a8a3f5693b7802bbd89e391652c65b8a\", element=\"b08c9ef0-12a5-4d5a-b6e1-12c2416ef75c\")>,\n",
       " <selenium.webdriver.remote.webelement.WebElement (session=\"a8a3f5693b7802bbd89e391652c65b8a\", element=\"45d85332-62c4-4a9a-b223-d782fe480d97\")>]"
      ]
     },
     "execution_count": 30,
     "metadata": {},
     "output_type": "execute_result"
    }
   ],
   "source": [
    "#extract all the tag having company name\n",
    "companies_tags=driver.find_elements_by_xpath(\"//a[@class='subTitle ellipsis fleft']\")\n",
    "companies_tags[0:10]"
   ]
  },
  {
   "cell_type": "code",
   "execution_count": 31,
   "id": "ee31a7ac",
   "metadata": {},
   "outputs": [
    {
     "data": {
      "text/plain": [
       "['Aviso Inc',\n",
       " 'Snaphunt',\n",
       " 'Ally-Executive',\n",
       " 'Scienaptic Systems',\n",
       " 'Samya.AI A FRACTAL Entity',\n",
       " 'ANI Technologies Pvt. Ltd.',\n",
       " 'EKO Infomatics Solutions Private Limited',\n",
       " 'Eli Lilly and Company',\n",
       " 'Unisys',\n",
       " 'Sejal Consulting Hub']"
      ]
     },
     "execution_count": 31,
     "metadata": {},
     "output_type": "execute_result"
    }
   ],
   "source": [
    "for i in companies_tags:\n",
    "    company_name=i.text\n",
    "    company_names.append(company_name)\n",
    "company_names[0:10]  "
   ]
  },
  {
   "cell_type": "code",
   "execution_count": 32,
   "id": "bad8e602",
   "metadata": {},
   "outputs": [
    {
     "data": {
      "text/plain": [
       "[<selenium.webdriver.remote.webelement.WebElement (session=\"a8a3f5693b7802bbd89e391652c65b8a\", element=\"fcab945c-4aff-4313-ad39-ba48d0240252\")>,\n",
       " <selenium.webdriver.remote.webelement.WebElement (session=\"a8a3f5693b7802bbd89e391652c65b8a\", element=\"2c875c6d-9ae7-4108-b669-7b07d21dd815\")>,\n",
       " <selenium.webdriver.remote.webelement.WebElement (session=\"a8a3f5693b7802bbd89e391652c65b8a\", element=\"b5259140-cb34-4e6e-a64a-6153f25da067\")>,\n",
       " <selenium.webdriver.remote.webelement.WebElement (session=\"a8a3f5693b7802bbd89e391652c65b8a\", element=\"d0639dee-f285-4302-afb8-9c9f349c249b\")>,\n",
       " <selenium.webdriver.remote.webelement.WebElement (session=\"a8a3f5693b7802bbd89e391652c65b8a\", element=\"05d5e05f-9748-4292-a87b-28626af32b2e\")>,\n",
       " <selenium.webdriver.remote.webelement.WebElement (session=\"a8a3f5693b7802bbd89e391652c65b8a\", element=\"db884eef-786e-439b-a541-cce5c9f3ee75\")>,\n",
       " <selenium.webdriver.remote.webelement.WebElement (session=\"a8a3f5693b7802bbd89e391652c65b8a\", element=\"e1a9c507-6a2a-4fa2-9518-1c1129f9cc85\")>,\n",
       " <selenium.webdriver.remote.webelement.WebElement (session=\"a8a3f5693b7802bbd89e391652c65b8a\", element=\"2cdb8f04-b26e-439a-8b51-2c1ddfcb079a\")>,\n",
       " <selenium.webdriver.remote.webelement.WebElement (session=\"a8a3f5693b7802bbd89e391652c65b8a\", element=\"041071ae-e231-4f81-a2d0-45f6ac4e8807\")>,\n",
       " <selenium.webdriver.remote.webelement.WebElement (session=\"a8a3f5693b7802bbd89e391652c65b8a\", element=\"93263dc3-9d37-4cc4-9b44-f2e192dc226f\")>]"
      ]
     },
     "execution_count": 32,
     "metadata": {},
     "output_type": "execute_result"
    }
   ],
   "source": [
    "#extract all the tag having job-location\n",
    "locations_tags=driver.find_elements_by_xpath(\"//li[@class='fleft grey-text br2 placeHolderLi location']\")\n",
    "locations_tags[0:10]"
   ]
  },
  {
   "cell_type": "code",
   "execution_count": 33,
   "id": "68983035",
   "metadata": {},
   "outputs": [
    {
     "data": {
      "text/plain": [
       "['Mumbai, Hyderabad/Secunderabad, Pune, Delhi / NCR, Bangalore/Bengaluru',\n",
       " 'Bangalore/Bengaluru',\n",
       " 'Bangalore/Bengaluru',\n",
       " 'Bangalore/Bengaluru',\n",
       " 'Bangalore/Bengaluru\\n(WFH during Covid)',\n",
       " 'Bangalore/Bengaluru',\n",
       " 'Bangalore/Bengaluru',\n",
       " 'Bangalore/Bengaluru',\n",
       " 'Bangalore/Bengaluru',\n",
       " 'Kolkata, Mumbai, Bangalore/Bengaluru']"
      ]
     },
     "execution_count": 33,
     "metadata": {},
     "output_type": "execute_result"
    }
   ],
   "source": [
    "for i in locations_tags:\n",
    "    location=i.text\n",
    "    locations_list.append(location)\n",
    "locations_list[0:10] "
   ]
  },
  {
   "cell_type": "code",
   "execution_count": 34,
   "id": "838255dc",
   "metadata": {},
   "outputs": [
    {
     "name": "stdout",
     "output_type": "stream",
     "text": [
      "20 20 20\n"
     ]
    }
   ],
   "source": [
    "print(len(job_titles),len(company_names),len(locations_list))"
   ]
  },
  {
   "cell_type": "code",
   "execution_count": 35,
   "id": "8e5242fc",
   "metadata": {},
   "outputs": [],
   "source": [
    "jobs=pd.DataFrame({})\n",
    "jobs['title']=job_titles\n",
    "jobs['company']=company_names\n",
    "jobs['location']=locations_list"
   ]
  },
  {
   "cell_type": "code",
   "execution_count": 36,
   "id": "e62e307d",
   "metadata": {},
   "outputs": [
    {
     "data": {
      "text/html": [
       "<div>\n",
       "<style scoped>\n",
       "    .dataframe tbody tr th:only-of-type {\n",
       "        vertical-align: middle;\n",
       "    }\n",
       "\n",
       "    .dataframe tbody tr th {\n",
       "        vertical-align: top;\n",
       "    }\n",
       "\n",
       "    .dataframe thead th {\n",
       "        text-align: right;\n",
       "    }\n",
       "</style>\n",
       "<table border=\"1\" class=\"dataframe\">\n",
       "  <thead>\n",
       "    <tr style=\"text-align: right;\">\n",
       "      <th></th>\n",
       "      <th>title</th>\n",
       "      <th>company</th>\n",
       "      <th>location</th>\n",
       "    </tr>\n",
       "  </thead>\n",
       "  <tbody>\n",
       "    <tr>\n",
       "      <th>0</th>\n",
       "      <td>Lead / Principal Data Scientist</td>\n",
       "      <td>Aviso Inc</td>\n",
       "      <td>Mumbai, Hyderabad/Secunderabad, Pune, Delhi / ...</td>\n",
       "    </tr>\n",
       "    <tr>\n",
       "      <th>1</th>\n",
       "      <td>Data Scientist</td>\n",
       "      <td>Snaphunt</td>\n",
       "      <td>Bangalore/Bengaluru</td>\n",
       "    </tr>\n",
       "    <tr>\n",
       "      <th>2</th>\n",
       "      <td>Senior Data Scientist</td>\n",
       "      <td>Ally-Executive</td>\n",
       "      <td>Bangalore/Bengaluru</td>\n",
       "    </tr>\n",
       "    <tr>\n",
       "      <th>3</th>\n",
       "      <td>Data Scientist - Credit Risk</td>\n",
       "      <td>Scienaptic Systems</td>\n",
       "      <td>Bangalore/Bengaluru</td>\n",
       "    </tr>\n",
       "    <tr>\n",
       "      <th>4</th>\n",
       "      <td>Lead/Senior Data Scientist (NLP)</td>\n",
       "      <td>Samya.AI A FRACTAL Entity</td>\n",
       "      <td>Bangalore/Bengaluru\\n(WFH during Covid)</td>\n",
       "    </tr>\n",
       "    <tr>\n",
       "      <th>5</th>\n",
       "      <td>Data Scientist 2</td>\n",
       "      <td>ANI Technologies Pvt. Ltd.</td>\n",
       "      <td>Bangalore/Bengaluru</td>\n",
       "    </tr>\n",
       "    <tr>\n",
       "      <th>6</th>\n",
       "      <td>Machine Learning AI Data Scientist</td>\n",
       "      <td>EKO Infomatics Solutions Private Limited</td>\n",
       "      <td>Bangalore/Bengaluru</td>\n",
       "    </tr>\n",
       "    <tr>\n",
       "      <th>7</th>\n",
       "      <td>Sr. Associate Consultant Data Scientist</td>\n",
       "      <td>Eli Lilly and Company</td>\n",
       "      <td>Bangalore/Bengaluru</td>\n",
       "    </tr>\n",
       "    <tr>\n",
       "      <th>8</th>\n",
       "      <td>Senior Engineer - AIML - Data Scientist</td>\n",
       "      <td>Unisys</td>\n",
       "      <td>Bangalore/Bengaluru</td>\n",
       "    </tr>\n",
       "    <tr>\n",
       "      <th>9</th>\n",
       "      <td>Data Scientist /Senior Data Science Executive</td>\n",
       "      <td>Sejal Consulting Hub</td>\n",
       "      <td>Kolkata, Mumbai, Bangalore/Bengaluru</td>\n",
       "    </tr>\n",
       "  </tbody>\n",
       "</table>\n",
       "</div>"
      ],
      "text/plain": [
       "                                           title  \\\n",
       "0                Lead / Principal Data Scientist   \n",
       "1                                 Data Scientist   \n",
       "2                          Senior Data Scientist   \n",
       "3                   Data Scientist - Credit Risk   \n",
       "4               Lead/Senior Data Scientist (NLP)   \n",
       "5                               Data Scientist 2   \n",
       "6             Machine Learning AI Data Scientist   \n",
       "7        Sr. Associate Consultant Data Scientist   \n",
       "8        Senior Engineer - AIML - Data Scientist   \n",
       "9  Data Scientist /Senior Data Science Executive   \n",
       "\n",
       "                                    company  \\\n",
       "0                                 Aviso Inc   \n",
       "1                                  Snaphunt   \n",
       "2                            Ally-Executive   \n",
       "3                        Scienaptic Systems   \n",
       "4                 Samya.AI A FRACTAL Entity   \n",
       "5                ANI Technologies Pvt. Ltd.   \n",
       "6  EKO Infomatics Solutions Private Limited   \n",
       "7                     Eli Lilly and Company   \n",
       "8                                    Unisys   \n",
       "9                      Sejal Consulting Hub   \n",
       "\n",
       "                                            location  \n",
       "0  Mumbai, Hyderabad/Secunderabad, Pune, Delhi / ...  \n",
       "1                                Bangalore/Bengaluru  \n",
       "2                                Bangalore/Bengaluru  \n",
       "3                                Bangalore/Bengaluru  \n",
       "4            Bangalore/Bengaluru\\n(WFH during Covid)  \n",
       "5                                Bangalore/Bengaluru  \n",
       "6                                Bangalore/Bengaluru  \n",
       "7                                Bangalore/Bengaluru  \n",
       "8                                Bangalore/Bengaluru  \n",
       "9               Kolkata, Mumbai, Bangalore/Bengaluru  "
      ]
     },
     "execution_count": 36,
     "metadata": {},
     "output_type": "execute_result"
    }
   ],
   "source": [
    "jobs[0:10]"
   ]
  },
  {
   "cell_type": "code",
   "execution_count": 37,
   "id": "79150ce6",
   "metadata": {},
   "outputs": [],
   "source": [
    "#Q3lets first connect to web driver\n",
    "driver = webdriver.Chrome(r\"C:/Users/SAI BABA/Downloads/chromedriver_win32/chromedriver.exe\")"
   ]
  },
  {
   "cell_type": "code",
   "execution_count": 38,
   "id": "3f01af79",
   "metadata": {},
   "outputs": [],
   "source": [
    "driver.get('https://www.naukri.com/')"
   ]
  },
  {
   "cell_type": "code",
   "execution_count": 39,
   "id": "0460e6c8",
   "metadata": {},
   "outputs": [],
   "source": [
    "#finding element for job search bar\n",
    "search_job=driver.find_element_by_id('qsb-keyword-sugg')\n",
    "search_job.send_keys(\"Data scientist\")\n",
    "#search_loc=driver.find_element_by_xpath(\"//input[@id='qsb-location-sugg']\")\n",
    "#search_loc.send_keys(\"Bangalore\")"
   ]
  },
  {
   "cell_type": "code",
   "execution_count": 40,
   "id": "6f220bd0",
   "metadata": {},
   "outputs": [],
   "source": [
    "search_btn=driver.find_element_by_xpath(\"//div[@class='search-btn']/button\")\n",
    "search_btn.click()"
   ]
  },
  {
   "cell_type": "code",
   "execution_count": 41,
   "id": "2c4256b2",
   "metadata": {},
   "outputs": [],
   "source": [
    "url=\"https://www.naukri.com/data-scientist-jobs?k=data%20scientist&ctcFilter=3to6&cityTypeGid=9508\""
   ]
  },
  {
   "cell_type": "code",
   "execution_count": 42,
   "id": "02e071e2",
   "metadata": {},
   "outputs": [],
   "source": [
    "driver.get(url)"
   ]
  },
  {
   "cell_type": "code",
   "execution_count": 43,
   "id": "02ca9933",
   "metadata": {},
   "outputs": [],
   "source": [
    "job_titles=[]\n",
    "company_names=[]\n",
    "locations_list=[]\n",
    "experience_list=[]"
   ]
  },
  {
   "cell_type": "code",
   "execution_count": 44,
   "id": "ca00a640",
   "metadata": {},
   "outputs": [
    {
     "data": {
      "text/plain": [
       "[<selenium.webdriver.remote.webelement.WebElement (session=\"2dc469e6fcab8bf9926e596d2e04c51d\", element=\"1581b2bc-904f-4b50-8905-bbcd3fe9d403\")>,\n",
       " <selenium.webdriver.remote.webelement.WebElement (session=\"2dc469e6fcab8bf9926e596d2e04c51d\", element=\"e4fccdd0-a82e-47ac-b516-89f8e6a9fabf\")>,\n",
       " <selenium.webdriver.remote.webelement.WebElement (session=\"2dc469e6fcab8bf9926e596d2e04c51d\", element=\"bff6cf5c-e233-4b09-b0be-b1689a18e890\")>,\n",
       " <selenium.webdriver.remote.webelement.WebElement (session=\"2dc469e6fcab8bf9926e596d2e04c51d\", element=\"b88f3368-8e71-4260-9130-87e7c9f78d50\")>,\n",
       " <selenium.webdriver.remote.webelement.WebElement (session=\"2dc469e6fcab8bf9926e596d2e04c51d\", element=\"8c872817-b4eb-4c8a-8e15-a6eaa1806278\")>,\n",
       " <selenium.webdriver.remote.webelement.WebElement (session=\"2dc469e6fcab8bf9926e596d2e04c51d\", element=\"5dc84850-d8f9-4985-84af-a9d2bdeabb9f\")>,\n",
       " <selenium.webdriver.remote.webelement.WebElement (session=\"2dc469e6fcab8bf9926e596d2e04c51d\", element=\"4b6aec6e-cdf8-4828-a53f-81d264b64ae6\")>,\n",
       " <selenium.webdriver.remote.webelement.WebElement (session=\"2dc469e6fcab8bf9926e596d2e04c51d\", element=\"482a8c9e-f31f-4a2f-b444-c943d6d1f175\")>,\n",
       " <selenium.webdriver.remote.webelement.WebElement (session=\"2dc469e6fcab8bf9926e596d2e04c51d\", element=\"54f59d18-ca9a-49e8-b9bd-3ee5722e93ad\")>,\n",
       " <selenium.webdriver.remote.webelement.WebElement (session=\"2dc469e6fcab8bf9926e596d2e04c51d\", element=\"882f64a5-23ba-42e1-a79a-7e62dd3f4ba9\")>]"
      ]
     },
     "execution_count": 44,
     "metadata": {},
     "output_type": "execute_result"
    }
   ],
   "source": [
    "#so lets extract all the tag having job title\n",
    "titles_tags=driver.find_elements_by_xpath(\"//a[@class='title fw500 ellipsis']\")\n",
    "titles_tags[0:10]"
   ]
  },
  {
   "cell_type": "code",
   "execution_count": 45,
   "id": "514ec411",
   "metadata": {},
   "outputs": [
    {
     "data": {
      "text/plain": [
       "['Data Scientist',\n",
       " 'Data Scientist',\n",
       " 'Hiring For Data Scientist',\n",
       " 'Data Scientist/ Senior Data Scientist',\n",
       " 'Project Manager | Team Leader | Senior Data Scientist',\n",
       " 'Data Scientist',\n",
       " 'Data Scientist',\n",
       " 'Data Analyst / Data Scientist / Business Analytics / Fresher - MNC',\n",
       " 'Data Scientist',\n",
       " 'Senior Data Scientist']"
      ]
     },
     "execution_count": 45,
     "metadata": {},
     "output_type": "execute_result"
    }
   ],
   "source": [
    "for i in titles_tags:\n",
    "    titles=i.text\n",
    "    job_titles.append(titles)\n",
    "job_titles[0:10]  "
   ]
  },
  {
   "cell_type": "code",
   "execution_count": 46,
   "id": "c3a48177",
   "metadata": {},
   "outputs": [
    {
     "data": {
      "text/plain": [
       "[<selenium.webdriver.remote.webelement.WebElement (session=\"2dc469e6fcab8bf9926e596d2e04c51d\", element=\"e41face2-b911-470a-869f-d0574e29e44e\")>,\n",
       " <selenium.webdriver.remote.webelement.WebElement (session=\"2dc469e6fcab8bf9926e596d2e04c51d\", element=\"86220d5a-daa7-455d-84a9-c482ae075efc\")>,\n",
       " <selenium.webdriver.remote.webelement.WebElement (session=\"2dc469e6fcab8bf9926e596d2e04c51d\", element=\"cfdf6f1f-a2f4-46b2-a964-83d1608e8e63\")>,\n",
       " <selenium.webdriver.remote.webelement.WebElement (session=\"2dc469e6fcab8bf9926e596d2e04c51d\", element=\"99b7a283-99de-43eb-b010-da16d485145c\")>,\n",
       " <selenium.webdriver.remote.webelement.WebElement (session=\"2dc469e6fcab8bf9926e596d2e04c51d\", element=\"33076339-636b-4f44-8416-c6d6c33cc980\")>,\n",
       " <selenium.webdriver.remote.webelement.WebElement (session=\"2dc469e6fcab8bf9926e596d2e04c51d\", element=\"2a69e4e9-bbeb-4fa8-9c8e-2473288c3e6f\")>,\n",
       " <selenium.webdriver.remote.webelement.WebElement (session=\"2dc469e6fcab8bf9926e596d2e04c51d\", element=\"ef19723b-9241-4c8f-882e-f1415b2e96e8\")>,\n",
       " <selenium.webdriver.remote.webelement.WebElement (session=\"2dc469e6fcab8bf9926e596d2e04c51d\", element=\"563e5fd4-2980-4849-aad9-854a335d9486\")>,\n",
       " <selenium.webdriver.remote.webelement.WebElement (session=\"2dc469e6fcab8bf9926e596d2e04c51d\", element=\"de50d055-4692-4925-99c9-48865b00246b\")>,\n",
       " <selenium.webdriver.remote.webelement.WebElement (session=\"2dc469e6fcab8bf9926e596d2e04c51d\", element=\"3254db48-1f4f-4800-95ab-87b6d62ad031\")>]"
      ]
     },
     "execution_count": 46,
     "metadata": {},
     "output_type": "execute_result"
    }
   ],
   "source": [
    "#extract all the tag having company name\n",
    "companies_tags=driver.find_elements_by_xpath(\"//a[@class='subTitle ellipsis fleft']\")\n",
    "companies_tags[0:10]"
   ]
  },
  {
   "cell_type": "code",
   "execution_count": 47,
   "id": "9d9d4eb3",
   "metadata": {},
   "outputs": [
    {
     "data": {
      "text/plain": [
       "['LG Electronics India Pvt. Ltd.',\n",
       " 'Navikenz India Pvt Ltd',\n",
       " 'Tata Consultancy Services Ltd.',\n",
       " 'Newgen Software Technologies',\n",
       " 'Tidyquant (OPC) Private Limited',\n",
       " 'Teleperformance',\n",
       " 'WEGARNER SOLUTIONS PRIVATE LIMITED',\n",
       " 'GABA Consultancy services',\n",
       " 'The Boston Consulting Group (India) Pvt Limited',\n",
       " 'iNICU']"
      ]
     },
     "execution_count": 47,
     "metadata": {},
     "output_type": "execute_result"
    }
   ],
   "source": [
    "for i in companies_tags:\n",
    "    company_name=i.text\n",
    "    company_names.append(company_name)\n",
    "company_names[0:10]  "
   ]
  },
  {
   "cell_type": "code",
   "execution_count": 48,
   "id": "e6735d65",
   "metadata": {},
   "outputs": [
    {
     "data": {
      "text/plain": [
       "[<selenium.webdriver.remote.webelement.WebElement (session=\"2dc469e6fcab8bf9926e596d2e04c51d\", element=\"b9706b5f-6b76-4cd6-97ef-faeacb92037e\")>,\n",
       " <selenium.webdriver.remote.webelement.WebElement (session=\"2dc469e6fcab8bf9926e596d2e04c51d\", element=\"779d59f6-3f58-46f2-a5fc-054bfd5b92d4\")>,\n",
       " <selenium.webdriver.remote.webelement.WebElement (session=\"2dc469e6fcab8bf9926e596d2e04c51d\", element=\"406932e2-c5e0-4a64-ae5e-3c8e4085dbd5\")>,\n",
       " <selenium.webdriver.remote.webelement.WebElement (session=\"2dc469e6fcab8bf9926e596d2e04c51d\", element=\"f0edf719-4451-4a28-a0d3-2007d15e79d2\")>,\n",
       " <selenium.webdriver.remote.webelement.WebElement (session=\"2dc469e6fcab8bf9926e596d2e04c51d\", element=\"26a23a79-765e-449a-8e94-c6b59ff84af0\")>,\n",
       " <selenium.webdriver.remote.webelement.WebElement (session=\"2dc469e6fcab8bf9926e596d2e04c51d\", element=\"ee896ced-8b99-49b4-9216-910e35ad9727\")>,\n",
       " <selenium.webdriver.remote.webelement.WebElement (session=\"2dc469e6fcab8bf9926e596d2e04c51d\", element=\"80d3cc20-7c62-4a68-8b90-00d9a612a978\")>,\n",
       " <selenium.webdriver.remote.webelement.WebElement (session=\"2dc469e6fcab8bf9926e596d2e04c51d\", element=\"2685afbe-edc9-42ed-8c30-860037ddaee6\")>,\n",
       " <selenium.webdriver.remote.webelement.WebElement (session=\"2dc469e6fcab8bf9926e596d2e04c51d\", element=\"268a97e9-5b90-4f0e-ab17-a791395dad2b\")>,\n",
       " <selenium.webdriver.remote.webelement.WebElement (session=\"2dc469e6fcab8bf9926e596d2e04c51d\", element=\"1d33fa53-27b2-41d2-88b4-54f0f4b5036c\")>]"
      ]
     },
     "execution_count": 48,
     "metadata": {},
     "output_type": "execute_result"
    }
   ],
   "source": [
    "#extract all the tag having job-location\n",
    "locations_tags=driver.find_elements_by_xpath(\"//li[@class='fleft grey-text br2 placeHolderLi location']\")\n",
    "locations_tags[0:10]"
   ]
  },
  {
   "cell_type": "code",
   "execution_count": 49,
   "id": "19660fd5",
   "metadata": {},
   "outputs": [
    {
     "data": {
      "text/plain": [
       "['Noida, New Delhi, Faridabad, Gurgaon/Gurugram, Delhi / NCR',\n",
       " 'Noida, Nodia\\n(WFH during Covid)',\n",
       " 'Hyderabad/Secunderabad, Pune, Chennai, Bangalore/Bengaluru, Delhi / NCR, Mumbai (All Areas)\\n(WFH during Covid)',\n",
       " 'Noida',\n",
       " 'Remote',\n",
       " 'Gurgaon/Gurugram, Chennai',\n",
       " 'Noida, Pune, Mumbai (All Areas)',\n",
       " 'Noida, Ghaziabad, Delhi / NCR',\n",
       " 'New Delhi',\n",
       " 'Delhi']"
      ]
     },
     "execution_count": 49,
     "metadata": {},
     "output_type": "execute_result"
    }
   ],
   "source": [
    "for i in locations_tags:\n",
    "    location=i.text\n",
    "    locations_list.append(location)\n",
    "locations_list[0:10] "
   ]
  },
  {
   "cell_type": "code",
   "execution_count": 50,
   "id": "ba99d326",
   "metadata": {},
   "outputs": [
    {
     "data": {
      "text/plain": [
       "[<selenium.webdriver.remote.webelement.WebElement (session=\"2dc469e6fcab8bf9926e596d2e04c51d\", element=\"70ae8042-119a-43f5-963c-ff588008e6e6\")>,\n",
       " <selenium.webdriver.remote.webelement.WebElement (session=\"2dc469e6fcab8bf9926e596d2e04c51d\", element=\"5458f8f4-e6af-4e56-8ed9-562f850c2b50\")>,\n",
       " <selenium.webdriver.remote.webelement.WebElement (session=\"2dc469e6fcab8bf9926e596d2e04c51d\", element=\"93bc8bc2-0646-44a0-8fab-8c8d39644629\")>,\n",
       " <selenium.webdriver.remote.webelement.WebElement (session=\"2dc469e6fcab8bf9926e596d2e04c51d\", element=\"c4cd6d0c-b519-456a-b7a9-524be1803e45\")>,\n",
       " <selenium.webdriver.remote.webelement.WebElement (session=\"2dc469e6fcab8bf9926e596d2e04c51d\", element=\"6117cb8b-9be6-4a98-9b24-6f96209d4ac6\")>,\n",
       " <selenium.webdriver.remote.webelement.WebElement (session=\"2dc469e6fcab8bf9926e596d2e04c51d\", element=\"211688d0-5bac-4a24-9b26-d225ded4d77c\")>,\n",
       " <selenium.webdriver.remote.webelement.WebElement (session=\"2dc469e6fcab8bf9926e596d2e04c51d\", element=\"08e28c27-ffdd-4eb0-85cd-403072de247f\")>,\n",
       " <selenium.webdriver.remote.webelement.WebElement (session=\"2dc469e6fcab8bf9926e596d2e04c51d\", element=\"6d72a554-1437-4cf4-b851-9d81cb8041c7\")>,\n",
       " <selenium.webdriver.remote.webelement.WebElement (session=\"2dc469e6fcab8bf9926e596d2e04c51d\", element=\"b1092cde-2d83-4ec4-9e15-76fc2b2f8aac\")>,\n",
       " <selenium.webdriver.remote.webelement.WebElement (session=\"2dc469e6fcab8bf9926e596d2e04c51d\", element=\"0006320a-b064-4138-9135-0a95adbb228b\")>]"
      ]
     },
     "execution_count": 50,
     "metadata": {},
     "output_type": "execute_result"
    }
   ],
   "source": [
    "#extract all the tag having experience required\n",
    "experience_tags=driver.find_elements_by_xpath(\"//li[@class='fleft grey-text br2 placeHolderLi experience']\")\n",
    "experience_tags[0:10]"
   ]
  },
  {
   "cell_type": "code",
   "execution_count": 51,
   "id": "93022047",
   "metadata": {},
   "outputs": [
    {
     "data": {
      "text/plain": [
       "['0-2 Yrs',\n",
       " '2-7 Yrs',\n",
       " '4-9 Yrs',\n",
       " '2-5 Yrs',\n",
       " '1-5 Yrs',\n",
       " '4-9 Yrs',\n",
       " '2-6 Yrs',\n",
       " '0-0 Yrs',\n",
       " '2-5 Yrs',\n",
       " '1-5 Yrs']"
      ]
     },
     "execution_count": 51,
     "metadata": {},
     "output_type": "execute_result"
    }
   ],
   "source": [
    "for i in experience_tags:\n",
    "    experience=i.text\n",
    "    experience_list.append(experience)\n",
    "experience_list[0:10] "
   ]
  },
  {
   "cell_type": "code",
   "execution_count": 52,
   "id": "0e02281e",
   "metadata": {},
   "outputs": [
    {
     "name": "stdout",
     "output_type": "stream",
     "text": [
      "20 20 20 20\n"
     ]
    }
   ],
   "source": [
    "print(len(job_titles),len(company_names),len(experience_list),len(locations_list))"
   ]
  },
  {
   "cell_type": "code",
   "execution_count": 53,
   "id": "dc46aca8",
   "metadata": {},
   "outputs": [],
   "source": [
    "jobs=pd.DataFrame({})\n",
    "jobs['title']=job_titles\n",
    "jobs['company']=company_names\n",
    "jobs['experience_required']=experience_list\n",
    "jobs['location']=locations_list\n"
   ]
  },
  {
   "cell_type": "code",
   "execution_count": 54,
   "id": "cdb62575",
   "metadata": {},
   "outputs": [
    {
     "data": {
      "text/html": [
       "<div>\n",
       "<style scoped>\n",
       "    .dataframe tbody tr th:only-of-type {\n",
       "        vertical-align: middle;\n",
       "    }\n",
       "\n",
       "    .dataframe tbody tr th {\n",
       "        vertical-align: top;\n",
       "    }\n",
       "\n",
       "    .dataframe thead th {\n",
       "        text-align: right;\n",
       "    }\n",
       "</style>\n",
       "<table border=\"1\" class=\"dataframe\">\n",
       "  <thead>\n",
       "    <tr style=\"text-align: right;\">\n",
       "      <th></th>\n",
       "      <th>title</th>\n",
       "      <th>company</th>\n",
       "      <th>experience_required</th>\n",
       "      <th>location</th>\n",
       "    </tr>\n",
       "  </thead>\n",
       "  <tbody>\n",
       "    <tr>\n",
       "      <th>0</th>\n",
       "      <td>Data Scientist</td>\n",
       "      <td>LG Electronics India Pvt. Ltd.</td>\n",
       "      <td>0-2 Yrs</td>\n",
       "      <td>Noida, New Delhi, Faridabad, Gurgaon/Gurugram,...</td>\n",
       "    </tr>\n",
       "    <tr>\n",
       "      <th>1</th>\n",
       "      <td>Data Scientist</td>\n",
       "      <td>Navikenz India Pvt Ltd</td>\n",
       "      <td>2-7 Yrs</td>\n",
       "      <td>Noida, Nodia\\n(WFH during Covid)</td>\n",
       "    </tr>\n",
       "    <tr>\n",
       "      <th>2</th>\n",
       "      <td>Hiring For Data Scientist</td>\n",
       "      <td>Tata Consultancy Services Ltd.</td>\n",
       "      <td>4-9 Yrs</td>\n",
       "      <td>Hyderabad/Secunderabad, Pune, Chennai, Bangalo...</td>\n",
       "    </tr>\n",
       "    <tr>\n",
       "      <th>3</th>\n",
       "      <td>Data Scientist/ Senior Data Scientist</td>\n",
       "      <td>Newgen Software Technologies</td>\n",
       "      <td>2-5 Yrs</td>\n",
       "      <td>Noida</td>\n",
       "    </tr>\n",
       "    <tr>\n",
       "      <th>4</th>\n",
       "      <td>Project Manager | Team Leader | Senior Data Sc...</td>\n",
       "      <td>Tidyquant (OPC) Private Limited</td>\n",
       "      <td>1-5 Yrs</td>\n",
       "      <td>Remote</td>\n",
       "    </tr>\n",
       "    <tr>\n",
       "      <th>5</th>\n",
       "      <td>Data Scientist</td>\n",
       "      <td>Teleperformance</td>\n",
       "      <td>4-9 Yrs</td>\n",
       "      <td>Gurgaon/Gurugram, Chennai</td>\n",
       "    </tr>\n",
       "    <tr>\n",
       "      <th>6</th>\n",
       "      <td>Data Scientist</td>\n",
       "      <td>WEGARNER SOLUTIONS PRIVATE LIMITED</td>\n",
       "      <td>2-6 Yrs</td>\n",
       "      <td>Noida, Pune, Mumbai (All Areas)</td>\n",
       "    </tr>\n",
       "    <tr>\n",
       "      <th>7</th>\n",
       "      <td>Data Analyst / Data Scientist / Business Analy...</td>\n",
       "      <td>GABA Consultancy services</td>\n",
       "      <td>0-0 Yrs</td>\n",
       "      <td>Noida, Ghaziabad, Delhi / NCR</td>\n",
       "    </tr>\n",
       "    <tr>\n",
       "      <th>8</th>\n",
       "      <td>Data Scientist</td>\n",
       "      <td>The Boston Consulting Group (India) Pvt Limited</td>\n",
       "      <td>2-5 Yrs</td>\n",
       "      <td>New Delhi</td>\n",
       "    </tr>\n",
       "    <tr>\n",
       "      <th>9</th>\n",
       "      <td>Senior Data Scientist</td>\n",
       "      <td>iNICU</td>\n",
       "      <td>1-5 Yrs</td>\n",
       "      <td>Delhi</td>\n",
       "    </tr>\n",
       "  </tbody>\n",
       "</table>\n",
       "</div>"
      ],
      "text/plain": [
       "                                               title  \\\n",
       "0                                     Data Scientist   \n",
       "1                                     Data Scientist   \n",
       "2                          Hiring For Data Scientist   \n",
       "3              Data Scientist/ Senior Data Scientist   \n",
       "4  Project Manager | Team Leader | Senior Data Sc...   \n",
       "5                                     Data Scientist   \n",
       "6                                     Data Scientist   \n",
       "7  Data Analyst / Data Scientist / Business Analy...   \n",
       "8                                     Data Scientist   \n",
       "9                              Senior Data Scientist   \n",
       "\n",
       "                                           company experience_required  \\\n",
       "0                   LG Electronics India Pvt. Ltd.             0-2 Yrs   \n",
       "1                           Navikenz India Pvt Ltd             2-7 Yrs   \n",
       "2                   Tata Consultancy Services Ltd.             4-9 Yrs   \n",
       "3                     Newgen Software Technologies             2-5 Yrs   \n",
       "4                  Tidyquant (OPC) Private Limited             1-5 Yrs   \n",
       "5                                  Teleperformance             4-9 Yrs   \n",
       "6               WEGARNER SOLUTIONS PRIVATE LIMITED             2-6 Yrs   \n",
       "7                        GABA Consultancy services             0-0 Yrs   \n",
       "8  The Boston Consulting Group (India) Pvt Limited             2-5 Yrs   \n",
       "9                                            iNICU             1-5 Yrs   \n",
       "\n",
       "                                            location  \n",
       "0  Noida, New Delhi, Faridabad, Gurgaon/Gurugram,...  \n",
       "1                   Noida, Nodia\\n(WFH during Covid)  \n",
       "2  Hyderabad/Secunderabad, Pune, Chennai, Bangalo...  \n",
       "3                                              Noida  \n",
       "4                                             Remote  \n",
       "5                          Gurgaon/Gurugram, Chennai  \n",
       "6                    Noida, Pune, Mumbai (All Areas)  \n",
       "7                      Noida, Ghaziabad, Delhi / NCR  \n",
       "8                                          New Delhi  \n",
       "9                                              Delhi  "
      ]
     },
     "execution_count": 54,
     "metadata": {},
     "output_type": "execute_result"
    }
   ],
   "source": [
    "jobs[0:10]"
   ]
  },
  {
   "cell_type": "code",
   "execution_count": 55,
   "id": "768cb43f",
   "metadata": {},
   "outputs": [],
   "source": [
    "#Q4: Scrape data of first 100 sunglasses listings on flipkart.com.\n",
    "driver = webdriver.Chrome(r\"C:/Users/SAI BABA/Downloads/chromedriver_win32/chromedriver.exe\")"
   ]
  },
  {
   "cell_type": "code",
   "execution_count": 56,
   "id": "a26559c9",
   "metadata": {},
   "outputs": [],
   "source": [
    "driver.get('https://www.flipkart.com/')"
   ]
  },
  {
   "cell_type": "code",
   "execution_count": 57,
   "id": "b178431d",
   "metadata": {},
   "outputs": [],
   "source": [
    "url=\"https://www.flipkart.com/search?q=sunglasses&sid=26x&as=on&as-show=on&otracker=AS_QueryStore_OrganicAutoSuggest_1_3_na_na_na&otracker1=AS_QueryStore_OrganicAutoSuggest_1_3_na_na_na&as-pos=1&as-type=HISTORY&suggestionId=sunglasses%7CSunglasses&requestId=9220d771-2a82-46ee-bc0e-26d1f3a9ed63\"\n"
   ]
  },
  {
   "cell_type": "code",
   "execution_count": 58,
   "id": "34a4ff0c",
   "metadata": {},
   "outputs": [],
   "source": [
    "driver.get(url)"
   ]
  },
  {
   "cell_type": "code",
   "execution_count": 59,
   "id": "a6e7fb2b",
   "metadata": {},
   "outputs": [],
   "source": [
    "brand_list=[]\n",
    "product_description=[]\n",
    "price_list=[]"
   ]
  },
  {
   "cell_type": "code",
   "execution_count": 60,
   "id": "ac6fe1e6",
   "metadata": {},
   "outputs": [
    {
     "data": {
      "text/plain": [
       "[<selenium.webdriver.remote.webelement.WebElement (session=\"57949f092d95b630fb95926abd3308f9\", element=\"b63b8275-ea22-4a51-a67e-6e2b6b9c62b7\")>,\n",
       " <selenium.webdriver.remote.webelement.WebElement (session=\"57949f092d95b630fb95926abd3308f9\", element=\"33059f57-06fa-448f-9bf2-c95feb7f27ad\")>,\n",
       " <selenium.webdriver.remote.webelement.WebElement (session=\"57949f092d95b630fb95926abd3308f9\", element=\"96515b36-cc52-4c96-9270-4145e8d82b95\")>,\n",
       " <selenium.webdriver.remote.webelement.WebElement (session=\"57949f092d95b630fb95926abd3308f9\", element=\"18dd3546-87bb-4aba-b5fa-77df6dd859fa\")>,\n",
       " <selenium.webdriver.remote.webelement.WebElement (session=\"57949f092d95b630fb95926abd3308f9\", element=\"3b5bc593-83a4-4245-a2c0-c6e0e9812c2d\")>,\n",
       " <selenium.webdriver.remote.webelement.WebElement (session=\"57949f092d95b630fb95926abd3308f9\", element=\"dec26fa1-dc31-42de-932e-439f465df856\")>,\n",
       " <selenium.webdriver.remote.webelement.WebElement (session=\"57949f092d95b630fb95926abd3308f9\", element=\"cef1ab15-54cf-42ce-a37b-c831ab64d4db\")>,\n",
       " <selenium.webdriver.remote.webelement.WebElement (session=\"57949f092d95b630fb95926abd3308f9\", element=\"279f4c8f-e268-4c89-9ec7-0a8a3ee807e5\")>,\n",
       " <selenium.webdriver.remote.webelement.WebElement (session=\"57949f092d95b630fb95926abd3308f9\", element=\"284775c2-c4f5-4c4d-a905-68ddf84f70de\")>,\n",
       " <selenium.webdriver.remote.webelement.WebElement (session=\"57949f092d95b630fb95926abd3308f9\", element=\"4315849d-8a01-446a-bde3-39bbe41459aa\")>,\n",
       " <selenium.webdriver.remote.webelement.WebElement (session=\"57949f092d95b630fb95926abd3308f9\", element=\"dda4cd36-f334-4afc-9c03-b9227c9ccd1a\")>,\n",
       " <selenium.webdriver.remote.webelement.WebElement (session=\"57949f092d95b630fb95926abd3308f9\", element=\"358b1cb8-7af5-44f7-b8f5-6a8d28b938af\")>,\n",
       " <selenium.webdriver.remote.webelement.WebElement (session=\"57949f092d95b630fb95926abd3308f9\", element=\"4d38cc12-4910-4de8-8649-cf8d2610517e\")>,\n",
       " <selenium.webdriver.remote.webelement.WebElement (session=\"57949f092d95b630fb95926abd3308f9\", element=\"73e2377e-aa39-4fa6-890e-aa647ca68f81\")>,\n",
       " <selenium.webdriver.remote.webelement.WebElement (session=\"57949f092d95b630fb95926abd3308f9\", element=\"51408f0a-3e60-4584-823a-03db7ec31f0b\")>,\n",
       " <selenium.webdriver.remote.webelement.WebElement (session=\"57949f092d95b630fb95926abd3308f9\", element=\"ca6d606c-d984-489e-ba35-d785dca85a79\")>,\n",
       " <selenium.webdriver.remote.webelement.WebElement (session=\"57949f092d95b630fb95926abd3308f9\", element=\"44133e48-8e89-46c3-a481-4f179073aeb0\")>,\n",
       " <selenium.webdriver.remote.webelement.WebElement (session=\"57949f092d95b630fb95926abd3308f9\", element=\"61c45667-cd01-4cb7-a097-bac65caf01bc\")>,\n",
       " <selenium.webdriver.remote.webelement.WebElement (session=\"57949f092d95b630fb95926abd3308f9\", element=\"feaed7fc-526b-4742-b3e1-8d56d0b51547\")>,\n",
       " <selenium.webdriver.remote.webelement.WebElement (session=\"57949f092d95b630fb95926abd3308f9\", element=\"3367aad0-c421-49a4-8be8-c37c6ec3f859\")>,\n",
       " <selenium.webdriver.remote.webelement.WebElement (session=\"57949f092d95b630fb95926abd3308f9\", element=\"3dac0c8b-d677-40de-9d62-d8e4c7987b32\")>,\n",
       " <selenium.webdriver.remote.webelement.WebElement (session=\"57949f092d95b630fb95926abd3308f9\", element=\"be1f5eca-0958-4168-ade1-6fb016f37840\")>,\n",
       " <selenium.webdriver.remote.webelement.WebElement (session=\"57949f092d95b630fb95926abd3308f9\", element=\"2fef6c80-de58-4030-82fb-95808b8a967f\")>,\n",
       " <selenium.webdriver.remote.webelement.WebElement (session=\"57949f092d95b630fb95926abd3308f9\", element=\"b0894d44-60a7-4d59-b57e-8459d97426a0\")>,\n",
       " <selenium.webdriver.remote.webelement.WebElement (session=\"57949f092d95b630fb95926abd3308f9\", element=\"3dd88563-4a84-48f0-a8dd-b2bb7803add2\")>,\n",
       " <selenium.webdriver.remote.webelement.WebElement (session=\"57949f092d95b630fb95926abd3308f9\", element=\"341753d1-2dfb-450e-9768-254b91b26dbe\")>,\n",
       " <selenium.webdriver.remote.webelement.WebElement (session=\"57949f092d95b630fb95926abd3308f9\", element=\"541e7bc2-6118-423a-815b-6adc1719528c\")>,\n",
       " <selenium.webdriver.remote.webelement.WebElement (session=\"57949f092d95b630fb95926abd3308f9\", element=\"a1706525-8a65-4dbb-9bf7-9b54fa82b6a8\")>,\n",
       " <selenium.webdriver.remote.webelement.WebElement (session=\"57949f092d95b630fb95926abd3308f9\", element=\"a73f7d60-92e7-4798-ab1d-acd4f35ea11f\")>,\n",
       " <selenium.webdriver.remote.webelement.WebElement (session=\"57949f092d95b630fb95926abd3308f9\", element=\"08eb0e9d-2195-494a-9d39-233fec9a7570\")>,\n",
       " <selenium.webdriver.remote.webelement.WebElement (session=\"57949f092d95b630fb95926abd3308f9\", element=\"9d64be02-e927-458c-8c7a-725790c2d7b6\")>,\n",
       " <selenium.webdriver.remote.webelement.WebElement (session=\"57949f092d95b630fb95926abd3308f9\", element=\"35569451-1fa8-4f00-8fd4-d098be90cda7\")>,\n",
       " <selenium.webdriver.remote.webelement.WebElement (session=\"57949f092d95b630fb95926abd3308f9\", element=\"daaf8229-d974-45e1-aaaf-f03b67bdaa30\")>,\n",
       " <selenium.webdriver.remote.webelement.WebElement (session=\"57949f092d95b630fb95926abd3308f9\", element=\"24f66917-4496-4adf-9e89-2a94c0bde875\")>,\n",
       " <selenium.webdriver.remote.webelement.WebElement (session=\"57949f092d95b630fb95926abd3308f9\", element=\"1b0f62e1-3c9a-45fd-90c2-e8b199cc8967\")>,\n",
       " <selenium.webdriver.remote.webelement.WebElement (session=\"57949f092d95b630fb95926abd3308f9\", element=\"df162f24-5b1c-4af8-b661-aedf962cd30c\")>,\n",
       " <selenium.webdriver.remote.webelement.WebElement (session=\"57949f092d95b630fb95926abd3308f9\", element=\"d50beefb-f53f-4fff-a5cc-1d0008f35168\")>,\n",
       " <selenium.webdriver.remote.webelement.WebElement (session=\"57949f092d95b630fb95926abd3308f9\", element=\"02312337-0f84-4a06-8c76-d8e630f96e57\")>,\n",
       " <selenium.webdriver.remote.webelement.WebElement (session=\"57949f092d95b630fb95926abd3308f9\", element=\"a43f08f1-35a1-4ac2-90d0-f4b5d112e5df\")>,\n",
       " <selenium.webdriver.remote.webelement.WebElement (session=\"57949f092d95b630fb95926abd3308f9\", element=\"39f929b0-326f-4ec5-835a-2b0498aa4451\")>]"
      ]
     },
     "execution_count": 60,
     "metadata": {},
     "output_type": "execute_result"
    }
   ],
   "source": [
    "#so lets extract all the tag having brand name\n",
    "brand_tags=driver.find_elements_by_xpath(\"//div[@class='_2WkVRV']\")\n",
    "brand_tags[0:100]"
   ]
  },
  {
   "cell_type": "code",
   "execution_count": 61,
   "id": "23c44dea",
   "metadata": {},
   "outputs": [
    {
     "data": {
      "text/plain": [
       "['SRPM',\n",
       " 'Elligator',\n",
       " 'PIRASO',\n",
       " 'New Specs',\n",
       " 'PIRASO',\n",
       " 'kingsunglasses',\n",
       " 'SHAAH COLLECTIONS',\n",
       " 'ROZZETTA CRAFT',\n",
       " 'PIRASO',\n",
       " 'kingsunglasses',\n",
       " 'ROZZETTA CRAFT',\n",
       " 'Fastrack',\n",
       " 'kingsunglasses',\n",
       " 'PHENOMENAL',\n",
       " 'ROZZETTA CRAFT',\n",
       " 'New Specs',\n",
       " 'ROYAL SON',\n",
       " 'Rich Club',\n",
       " 'PHENOMENAL',\n",
       " 'PIRASO',\n",
       " 'SHAAH COLLECTIONS',\n",
       " 'Singco India',\n",
       " 'ROYAL SON',\n",
       " 'SUNBEE',\n",
       " 'hipe',\n",
       " 'Rich Club',\n",
       " 'PIRASO',\n",
       " 'Fastrack',\n",
       " 'ROZZETTA CRAFT',\n",
       " 'PIRASO',\n",
       " 'Singco India',\n",
       " 'PIRASO',\n",
       " 'Lee Topper',\n",
       " 'PIRASO',\n",
       " 'ROYAL SON',\n",
       " 'kingsunglasses',\n",
       " 'ROZZETTA CRAFT',\n",
       " 'agera',\n",
       " 'PIRASO',\n",
       " 'ROYAL SON']"
      ]
     },
     "execution_count": 61,
     "metadata": {},
     "output_type": "execute_result"
    }
   ],
   "source": [
    "for i in brand_tags:\n",
    "    brand=i.text\n",
    "    brand_list.append(brand)\n",
    "brand_list[0:100]  "
   ]
  },
  {
   "cell_type": "code",
   "execution_count": 62,
   "id": "f3dd1fae",
   "metadata": {},
   "outputs": [
    {
     "data": {
      "text/plain": [
       "[<selenium.webdriver.remote.webelement.WebElement (session=\"57949f092d95b630fb95926abd3308f9\", element=\"8bd87e1f-278f-488e-853f-42e93c974986\")>,\n",
       " <selenium.webdriver.remote.webelement.WebElement (session=\"57949f092d95b630fb95926abd3308f9\", element=\"dfdc2ce8-3727-45ae-89de-aea45bed23bf\")>,\n",
       " <selenium.webdriver.remote.webelement.WebElement (session=\"57949f092d95b630fb95926abd3308f9\", element=\"bdbdc3c2-c5df-4f57-99b2-e7044ccbde53\")>,\n",
       " <selenium.webdriver.remote.webelement.WebElement (session=\"57949f092d95b630fb95926abd3308f9\", element=\"c9a631dc-55c8-4974-bf74-25f7b92c7851\")>,\n",
       " <selenium.webdriver.remote.webelement.WebElement (session=\"57949f092d95b630fb95926abd3308f9\", element=\"db399f1d-1de2-4807-b26e-94a6cf141b6f\")>,\n",
       " <selenium.webdriver.remote.webelement.WebElement (session=\"57949f092d95b630fb95926abd3308f9\", element=\"b0be702f-dc83-4313-9b7e-4c97deb55363\")>,\n",
       " <selenium.webdriver.remote.webelement.WebElement (session=\"57949f092d95b630fb95926abd3308f9\", element=\"72677713-5bdc-4e6e-8828-a5065405e0b8\")>,\n",
       " <selenium.webdriver.remote.webelement.WebElement (session=\"57949f092d95b630fb95926abd3308f9\", element=\"b92005bb-b617-4a39-a73b-dbe133ba1cb9\")>,\n",
       " <selenium.webdriver.remote.webelement.WebElement (session=\"57949f092d95b630fb95926abd3308f9\", element=\"228b5766-ee2c-43a4-81a1-088e7499b76b\")>,\n",
       " <selenium.webdriver.remote.webelement.WebElement (session=\"57949f092d95b630fb95926abd3308f9\", element=\"fde9c55b-78e9-458e-84a4-c979f6ef5640\")>,\n",
       " <selenium.webdriver.remote.webelement.WebElement (session=\"57949f092d95b630fb95926abd3308f9\", element=\"b507bb8a-e465-44cc-8937-3f7495de8f71\")>,\n",
       " <selenium.webdriver.remote.webelement.WebElement (session=\"57949f092d95b630fb95926abd3308f9\", element=\"0b4b6cae-d1ed-4ad7-90a6-e1a1f9548c9a\")>,\n",
       " <selenium.webdriver.remote.webelement.WebElement (session=\"57949f092d95b630fb95926abd3308f9\", element=\"93187417-f3f8-4044-aa67-eef06adae6f6\")>,\n",
       " <selenium.webdriver.remote.webelement.WebElement (session=\"57949f092d95b630fb95926abd3308f9\", element=\"c3295465-384f-4557-825a-62deb6e54d54\")>,\n",
       " <selenium.webdriver.remote.webelement.WebElement (session=\"57949f092d95b630fb95926abd3308f9\", element=\"a8770980-ec13-43db-be4d-5640781fec11\")>,\n",
       " <selenium.webdriver.remote.webelement.WebElement (session=\"57949f092d95b630fb95926abd3308f9\", element=\"a89708e4-f21c-45df-8951-4a78e55856e9\")>,\n",
       " <selenium.webdriver.remote.webelement.WebElement (session=\"57949f092d95b630fb95926abd3308f9\", element=\"8f25119c-a883-4354-9c1f-d7cb6c0f4048\")>,\n",
       " <selenium.webdriver.remote.webelement.WebElement (session=\"57949f092d95b630fb95926abd3308f9\", element=\"dcb395d2-4bb3-4436-aa4e-814797567754\")>,\n",
       " <selenium.webdriver.remote.webelement.WebElement (session=\"57949f092d95b630fb95926abd3308f9\", element=\"fea90208-8bac-4443-a8ee-21d6364c7fd9\")>,\n",
       " <selenium.webdriver.remote.webelement.WebElement (session=\"57949f092d95b630fb95926abd3308f9\", element=\"29bdeed9-a383-483a-abb0-bb6f58a2be98\")>,\n",
       " <selenium.webdriver.remote.webelement.WebElement (session=\"57949f092d95b630fb95926abd3308f9\", element=\"038adc74-7222-4037-a787-bb5eb5bb7a6b\")>,\n",
       " <selenium.webdriver.remote.webelement.WebElement (session=\"57949f092d95b630fb95926abd3308f9\", element=\"56845aa2-66d8-4c9f-8c7f-0c44f4a5e141\")>,\n",
       " <selenium.webdriver.remote.webelement.WebElement (session=\"57949f092d95b630fb95926abd3308f9\", element=\"7167f5a3-af5f-4e40-b436-cd5b1a5eb668\")>,\n",
       " <selenium.webdriver.remote.webelement.WebElement (session=\"57949f092d95b630fb95926abd3308f9\", element=\"ddd6668a-bcec-40d9-bade-98f32c6da300\")>,\n",
       " <selenium.webdriver.remote.webelement.WebElement (session=\"57949f092d95b630fb95926abd3308f9\", element=\"e2297f56-c220-4a64-bd3f-d4c59ea2f011\")>,\n",
       " <selenium.webdriver.remote.webelement.WebElement (session=\"57949f092d95b630fb95926abd3308f9\", element=\"a5d51681-6888-4fe7-a03f-35558862520e\")>,\n",
       " <selenium.webdriver.remote.webelement.WebElement (session=\"57949f092d95b630fb95926abd3308f9\", element=\"699dfedd-6982-4029-ba02-d07d5b95d0bb\")>,\n",
       " <selenium.webdriver.remote.webelement.WebElement (session=\"57949f092d95b630fb95926abd3308f9\", element=\"edfe487a-6bdf-4f46-9130-9535892da313\")>,\n",
       " <selenium.webdriver.remote.webelement.WebElement (session=\"57949f092d95b630fb95926abd3308f9\", element=\"ef118684-8ebe-44ac-83f0-4d619b1dd8b0\")>,\n",
       " <selenium.webdriver.remote.webelement.WebElement (session=\"57949f092d95b630fb95926abd3308f9\", element=\"78bdc1da-3c96-4901-b5ef-94383cac0a27\")>,\n",
       " <selenium.webdriver.remote.webelement.WebElement (session=\"57949f092d95b630fb95926abd3308f9\", element=\"c0623f19-98a5-4273-a771-13e41d318f40\")>,\n",
       " <selenium.webdriver.remote.webelement.WebElement (session=\"57949f092d95b630fb95926abd3308f9\", element=\"50c7533b-11a8-431b-ab90-a5f265505e47\")>,\n",
       " <selenium.webdriver.remote.webelement.WebElement (session=\"57949f092d95b630fb95926abd3308f9\", element=\"e3e3c4ae-54e8-47eb-b8d9-55d697af906b\")>,\n",
       " <selenium.webdriver.remote.webelement.WebElement (session=\"57949f092d95b630fb95926abd3308f9\", element=\"4ab691b7-a963-47f6-b964-ef6237f9252f\")>,\n",
       " <selenium.webdriver.remote.webelement.WebElement (session=\"57949f092d95b630fb95926abd3308f9\", element=\"818c87dc-61b8-44cb-867f-4dd34575c422\")>,\n",
       " <selenium.webdriver.remote.webelement.WebElement (session=\"57949f092d95b630fb95926abd3308f9\", element=\"0008d81b-9a7a-462b-8c52-0621e17968d1\")>,\n",
       " <selenium.webdriver.remote.webelement.WebElement (session=\"57949f092d95b630fb95926abd3308f9\", element=\"fec0ab91-ff22-4ed7-9816-753be85069c3\")>,\n",
       " <selenium.webdriver.remote.webelement.WebElement (session=\"57949f092d95b630fb95926abd3308f9\", element=\"bc32eb3d-a486-40c4-a781-57ebc24e24f6\")>,\n",
       " <selenium.webdriver.remote.webelement.WebElement (session=\"57949f092d95b630fb95926abd3308f9\", element=\"b966347c-421f-4462-b9b4-bad70ee2aed3\")>,\n",
       " <selenium.webdriver.remote.webelement.WebElement (session=\"57949f092d95b630fb95926abd3308f9\", element=\"771a2137-c494-4560-b48d-f3863209a970\")>]"
      ]
     },
     "execution_count": 62,
     "metadata": {},
     "output_type": "execute_result"
    }
   ],
   "source": [
    "#extract all the tag having description\n",
    "description_tags=driver.find_elements_by_xpath(\"//a[@class='IRpwTa']\")\n",
    "description_tags[0:100]"
   ]
  },
  {
   "cell_type": "code",
   "execution_count": 63,
   "id": "fe465ea9",
   "metadata": {},
   "outputs": [
    {
     "data": {
      "text/plain": [
       "['UV Protection Wayfarer Sunglasses (56)',\n",
       " 'UV Protection Round Sunglasses (54)',\n",
       " 'UV Protection Aviator Sunglasses (54)',\n",
       " 'UV Protection Rectangular Sunglasses (Free Size)',\n",
       " 'UV Protection Aviator Sunglasses (54)',\n",
       " 'UV Protection Round Sunglasses (54)',\n",
       " 'UV Protection, Polarized, Mirrored Rectangular Sunglass...',\n",
       " 'UV Protection, Gradient Rectangular Sunglasses (Free Si...',\n",
       " 'UV Protection Aviator Sunglasses (55)',\n",
       " 'Mirrored, UV Protection Wayfarer Sunglasses (53)',\n",
       " 'UV Protection Retro Square Sunglasses (Free Size)',\n",
       " 'UV Protection Wayfarer Sunglasses (Free Size)',\n",
       " 'UV Protection, Riding Glasses, Mirrored Wayfarer Sungla...',\n",
       " 'UV Protection Retro Square Sunglasses (Free Size)',\n",
       " 'UV Protection Round Sunglasses (Free Size)',\n",
       " 'Mirrored, UV Protection, Riding Glasses, Others Round S...',\n",
       " 'UV Protection Rectangular Sunglasses (58)',\n",
       " 'Polarized Round Sunglasses (48)',\n",
       " 'UV Protection, Mirrored Retro Square Sunglasses (53)',\n",
       " 'UV Protection Aviator Sunglasses (54)',\n",
       " 'UV Protection, Polarized, Mirrored Rectangular Sunglass...',\n",
       " 'Mirrored, Riding Glasses, Others Sports Sunglasses (50)',\n",
       " 'Mirrored Aviator Sunglasses (55)',\n",
       " 'UV Protection, Polarized, Mirrored Round Sunglasses (Fr...',\n",
       " 'UV Protection Sports Sunglasses (Free Size)',\n",
       " 'Polarized Round Sunglasses (48)',\n",
       " 'UV Protection Wayfarer Sunglasses (32)',\n",
       " 'UV Protection Rectangular Sunglasses (Free Size)',\n",
       " 'UV Protection, Gradient Retro Square Sunglasses (Free S...',\n",
       " 'UV Protection Butterfly Sunglasses (65)',\n",
       " 'UV Protection, Riding Glasses, Others Aviator, Wayfarer...',\n",
       " 'UV Protection, Polarized Aviator Sunglasses (32)',\n",
       " 'Riding Glasses, Night Vision Wrap-around Sunglasses (Fr...',\n",
       " 'UV Protection Aviator Sunglasses (58)',\n",
       " 'Mirrored Aviator Sunglasses (55)',\n",
       " 'Mirrored, UV Protection Aviator Sunglasses (56)',\n",
       " 'UV Protection, Gradient Round Sunglasses (Free Size)',\n",
       " 'Gradient Aviator Sunglasses (55)',\n",
       " 'UV Protection Aviator Sunglasses (Free Size)',\n",
       " 'UV Protection, Gradient Butterfly Sunglasses (57)']"
      ]
     },
     "execution_count": 63,
     "metadata": {},
     "output_type": "execute_result"
    }
   ],
   "source": [
    "for i in description_tags:\n",
    "    description=i.text\n",
    "    product_description.append(description)\n",
    "product_description[0:100]  "
   ]
  },
  {
   "cell_type": "code",
   "execution_count": 64,
   "id": "403da58c",
   "metadata": {},
   "outputs": [
    {
     "data": {
      "text/plain": [
       "[<selenium.webdriver.remote.webelement.WebElement (session=\"57949f092d95b630fb95926abd3308f9\", element=\"a7c2626d-5aef-4d35-bd27-15b9e9dcadb7\")>,\n",
       " <selenium.webdriver.remote.webelement.WebElement (session=\"57949f092d95b630fb95926abd3308f9\", element=\"b1941736-3b4e-4da8-86ef-42178455dfc8\")>,\n",
       " <selenium.webdriver.remote.webelement.WebElement (session=\"57949f092d95b630fb95926abd3308f9\", element=\"c2cb93f3-8739-44f9-a242-776aac7f8fcb\")>,\n",
       " <selenium.webdriver.remote.webelement.WebElement (session=\"57949f092d95b630fb95926abd3308f9\", element=\"474d96f8-ced5-4516-832f-6364726d4ad9\")>,\n",
       " <selenium.webdriver.remote.webelement.WebElement (session=\"57949f092d95b630fb95926abd3308f9\", element=\"8d368406-10bd-4c06-984c-de4a362bb49d\")>,\n",
       " <selenium.webdriver.remote.webelement.WebElement (session=\"57949f092d95b630fb95926abd3308f9\", element=\"69680af0-6ba9-4797-9304-78eea4a6ddd9\")>,\n",
       " <selenium.webdriver.remote.webelement.WebElement (session=\"57949f092d95b630fb95926abd3308f9\", element=\"d266eb37-dffd-4552-8df3-f404e9a385b3\")>,\n",
       " <selenium.webdriver.remote.webelement.WebElement (session=\"57949f092d95b630fb95926abd3308f9\", element=\"e48d9297-4169-458b-a8c9-cd411905edb3\")>,\n",
       " <selenium.webdriver.remote.webelement.WebElement (session=\"57949f092d95b630fb95926abd3308f9\", element=\"aa3092eb-4768-4ff8-829a-60739dd98ee3\")>,\n",
       " <selenium.webdriver.remote.webelement.WebElement (session=\"57949f092d95b630fb95926abd3308f9\", element=\"7d9f32b8-4ad1-4d52-878e-055c38c9ffc1\")>,\n",
       " <selenium.webdriver.remote.webelement.WebElement (session=\"57949f092d95b630fb95926abd3308f9\", element=\"0098acdc-0db1-43a1-a51a-0d416c72bafa\")>,\n",
       " <selenium.webdriver.remote.webelement.WebElement (session=\"57949f092d95b630fb95926abd3308f9\", element=\"f564ba06-7a5c-4ba3-8df4-23a6b2010171\")>,\n",
       " <selenium.webdriver.remote.webelement.WebElement (session=\"57949f092d95b630fb95926abd3308f9\", element=\"e2a7ca19-558b-4e3c-9d83-61bd36e7dd9f\")>,\n",
       " <selenium.webdriver.remote.webelement.WebElement (session=\"57949f092d95b630fb95926abd3308f9\", element=\"8ab09f4d-8c43-4170-9112-19b0ba8eaf3c\")>,\n",
       " <selenium.webdriver.remote.webelement.WebElement (session=\"57949f092d95b630fb95926abd3308f9\", element=\"8d088e31-0262-42ad-9348-5db007a004f6\")>,\n",
       " <selenium.webdriver.remote.webelement.WebElement (session=\"57949f092d95b630fb95926abd3308f9\", element=\"7e6869a9-f124-45b1-88da-07d66dbb1054\")>,\n",
       " <selenium.webdriver.remote.webelement.WebElement (session=\"57949f092d95b630fb95926abd3308f9\", element=\"ec106fcf-53ae-4866-a324-d228a46f3d39\")>,\n",
       " <selenium.webdriver.remote.webelement.WebElement (session=\"57949f092d95b630fb95926abd3308f9\", element=\"9844bd23-759f-4e25-a4bc-b78d60125ad4\")>,\n",
       " <selenium.webdriver.remote.webelement.WebElement (session=\"57949f092d95b630fb95926abd3308f9\", element=\"e0a2ad35-3073-4f1d-a323-2d3591c01abe\")>,\n",
       " <selenium.webdriver.remote.webelement.WebElement (session=\"57949f092d95b630fb95926abd3308f9\", element=\"996c040d-8ef7-467a-a4ff-bdbb63982ab4\")>,\n",
       " <selenium.webdriver.remote.webelement.WebElement (session=\"57949f092d95b630fb95926abd3308f9\", element=\"2a9ebbcc-7494-471f-b598-82a1dcd1367b\")>,\n",
       " <selenium.webdriver.remote.webelement.WebElement (session=\"57949f092d95b630fb95926abd3308f9\", element=\"04fccba7-31e3-43ae-9e10-a3e7169d916d\")>,\n",
       " <selenium.webdriver.remote.webelement.WebElement (session=\"57949f092d95b630fb95926abd3308f9\", element=\"397b58b4-af07-4b45-9bc7-b4252caf8b49\")>,\n",
       " <selenium.webdriver.remote.webelement.WebElement (session=\"57949f092d95b630fb95926abd3308f9\", element=\"e75b530d-ad59-4175-8d3b-e866319c9ab7\")>,\n",
       " <selenium.webdriver.remote.webelement.WebElement (session=\"57949f092d95b630fb95926abd3308f9\", element=\"aadb8f4a-eb70-4756-bb7f-7ad45852167b\")>,\n",
       " <selenium.webdriver.remote.webelement.WebElement (session=\"57949f092d95b630fb95926abd3308f9\", element=\"38f05e12-771c-45f7-822c-89709782aee3\")>,\n",
       " <selenium.webdriver.remote.webelement.WebElement (session=\"57949f092d95b630fb95926abd3308f9\", element=\"6cb918b5-2925-4c2c-99eb-46c582637717\")>,\n",
       " <selenium.webdriver.remote.webelement.WebElement (session=\"57949f092d95b630fb95926abd3308f9\", element=\"e3919e31-0158-4d70-8f11-57383993a01d\")>,\n",
       " <selenium.webdriver.remote.webelement.WebElement (session=\"57949f092d95b630fb95926abd3308f9\", element=\"70a6bd43-b221-4bde-83fe-ec0ec5d81a11\")>,\n",
       " <selenium.webdriver.remote.webelement.WebElement (session=\"57949f092d95b630fb95926abd3308f9\", element=\"f3b7e56b-4f34-4aa5-9840-9b17c54ecd48\")>,\n",
       " <selenium.webdriver.remote.webelement.WebElement (session=\"57949f092d95b630fb95926abd3308f9\", element=\"f6c2eacd-e061-4154-a73b-ec7649b91658\")>,\n",
       " <selenium.webdriver.remote.webelement.WebElement (session=\"57949f092d95b630fb95926abd3308f9\", element=\"6eabd9eb-8456-4589-abf6-48489ddf93a8\")>,\n",
       " <selenium.webdriver.remote.webelement.WebElement (session=\"57949f092d95b630fb95926abd3308f9\", element=\"7508a4ee-cbaa-4f4e-962f-cee095ca317c\")>,\n",
       " <selenium.webdriver.remote.webelement.WebElement (session=\"57949f092d95b630fb95926abd3308f9\", element=\"36884f5d-0f61-4bb1-a1e0-45b9aff46793\")>,\n",
       " <selenium.webdriver.remote.webelement.WebElement (session=\"57949f092d95b630fb95926abd3308f9\", element=\"a1d8db2b-4756-42e1-8cd7-27ec6d14062c\")>,\n",
       " <selenium.webdriver.remote.webelement.WebElement (session=\"57949f092d95b630fb95926abd3308f9\", element=\"ebecaea4-a6fe-4323-afa2-ffe09179e611\")>,\n",
       " <selenium.webdriver.remote.webelement.WebElement (session=\"57949f092d95b630fb95926abd3308f9\", element=\"ce53a3f6-ec4d-471b-a1e3-04b74801af42\")>,\n",
       " <selenium.webdriver.remote.webelement.WebElement (session=\"57949f092d95b630fb95926abd3308f9\", element=\"1d0283ee-b883-4344-8254-4fce00dc3cfe\")>,\n",
       " <selenium.webdriver.remote.webelement.WebElement (session=\"57949f092d95b630fb95926abd3308f9\", element=\"6ac562a3-7109-4225-8f19-a67cdcb99e03\")>,\n",
       " <selenium.webdriver.remote.webelement.WebElement (session=\"57949f092d95b630fb95926abd3308f9\", element=\"6207252f-d68b-4b5c-9e5f-6d4adb346624\")>]"
      ]
     },
     "execution_count": 64,
     "metadata": {},
     "output_type": "execute_result"
    }
   ],
   "source": [
    "#extract all the tag having price\n",
    "price_tags=driver.find_elements_by_xpath(\"//div[@class='_30jeq3']\")\n",
    "price_tags[0:100]"
   ]
  },
  {
   "cell_type": "code",
   "execution_count": 65,
   "id": "947e7bba",
   "metadata": {},
   "outputs": [
    {
     "data": {
      "text/plain": [
       "['₹188',\n",
       " '₹248',\n",
       " '₹200',\n",
       " '₹259',\n",
       " '₹187',\n",
       " '₹189',\n",
       " '₹170',\n",
       " '₹383',\n",
       " '₹179',\n",
       " '₹274',\n",
       " '₹474',\n",
       " '₹699',\n",
       " '₹187',\n",
       " '₹319',\n",
       " '₹426',\n",
       " '₹259',\n",
       " '₹449',\n",
       " '₹175',\n",
       " '₹299',\n",
       " '₹187',\n",
       " '₹181',\n",
       " '₹194',\n",
       " '₹359',\n",
       " '₹271',\n",
       " '₹287',\n",
       " '₹163',\n",
       " '₹187',\n",
       " '₹694',\n",
       " '₹349',\n",
       " '₹359',\n",
       " '₹229',\n",
       " '₹164',\n",
       " '₹276',\n",
       " '₹299',\n",
       " '₹359',\n",
       " '₹211',\n",
       " '₹360',\n",
       " '₹196',\n",
       " '₹261',\n",
       " '₹664']"
      ]
     },
     "execution_count": 65,
     "metadata": {},
     "output_type": "execute_result"
    }
   ],
   "source": [
    "for i in price_tags:\n",
    "    price=i.text\n",
    "    price_list.append(price)\n",
    "price_list[0:100] "
   ]
  },
  {
   "cell_type": "code",
   "execution_count": 66,
   "id": "9a089e7c",
   "metadata": {},
   "outputs": [
    {
     "name": "stdout",
     "output_type": "stream",
     "text": [
      "40 40 40\n"
     ]
    }
   ],
   "source": [
    "print(len(brand_list),len(product_description),len(price_list))"
   ]
  },
  {
   "cell_type": "code",
   "execution_count": 67,
   "id": "5d6c470a",
   "metadata": {},
   "outputs": [],
   "source": [
    "sunglass=pd.DataFrame({})\n",
    "sunglass['brand']=brand_list\n",
    "sunglass['description']=product_description\n",
    "sunglass['price']=price_list\n",
    "\n"
   ]
  },
  {
   "cell_type": "code",
   "execution_count": 68,
   "id": "f166eed5",
   "metadata": {},
   "outputs": [
    {
     "data": {
      "text/html": [
       "<div>\n",
       "<style scoped>\n",
       "    .dataframe tbody tr th:only-of-type {\n",
       "        vertical-align: middle;\n",
       "    }\n",
       "\n",
       "    .dataframe tbody tr th {\n",
       "        vertical-align: top;\n",
       "    }\n",
       "\n",
       "    .dataframe thead th {\n",
       "        text-align: right;\n",
       "    }\n",
       "</style>\n",
       "<table border=\"1\" class=\"dataframe\">\n",
       "  <thead>\n",
       "    <tr style=\"text-align: right;\">\n",
       "      <th></th>\n",
       "      <th>brand</th>\n",
       "      <th>description</th>\n",
       "      <th>price</th>\n",
       "    </tr>\n",
       "  </thead>\n",
       "  <tbody>\n",
       "    <tr>\n",
       "      <th>0</th>\n",
       "      <td>SRPM</td>\n",
       "      <td>UV Protection Wayfarer Sunglasses (56)</td>\n",
       "      <td>₹188</td>\n",
       "    </tr>\n",
       "    <tr>\n",
       "      <th>1</th>\n",
       "      <td>Elligator</td>\n",
       "      <td>UV Protection Round Sunglasses (54)</td>\n",
       "      <td>₹248</td>\n",
       "    </tr>\n",
       "    <tr>\n",
       "      <th>2</th>\n",
       "      <td>PIRASO</td>\n",
       "      <td>UV Protection Aviator Sunglasses (54)</td>\n",
       "      <td>₹200</td>\n",
       "    </tr>\n",
       "    <tr>\n",
       "      <th>3</th>\n",
       "      <td>New Specs</td>\n",
       "      <td>UV Protection Rectangular Sunglasses (Free Size)</td>\n",
       "      <td>₹259</td>\n",
       "    </tr>\n",
       "    <tr>\n",
       "      <th>4</th>\n",
       "      <td>PIRASO</td>\n",
       "      <td>UV Protection Aviator Sunglasses (54)</td>\n",
       "      <td>₹187</td>\n",
       "    </tr>\n",
       "    <tr>\n",
       "      <th>5</th>\n",
       "      <td>kingsunglasses</td>\n",
       "      <td>UV Protection Round Sunglasses (54)</td>\n",
       "      <td>₹189</td>\n",
       "    </tr>\n",
       "    <tr>\n",
       "      <th>6</th>\n",
       "      <td>SHAAH COLLECTIONS</td>\n",
       "      <td>UV Protection, Polarized, Mirrored Rectangular...</td>\n",
       "      <td>₹170</td>\n",
       "    </tr>\n",
       "    <tr>\n",
       "      <th>7</th>\n",
       "      <td>ROZZETTA CRAFT</td>\n",
       "      <td>UV Protection, Gradient Rectangular Sunglasses...</td>\n",
       "      <td>₹383</td>\n",
       "    </tr>\n",
       "    <tr>\n",
       "      <th>8</th>\n",
       "      <td>PIRASO</td>\n",
       "      <td>UV Protection Aviator Sunglasses (55)</td>\n",
       "      <td>₹179</td>\n",
       "    </tr>\n",
       "    <tr>\n",
       "      <th>9</th>\n",
       "      <td>kingsunglasses</td>\n",
       "      <td>Mirrored, UV Protection Wayfarer Sunglasses (53)</td>\n",
       "      <td>₹274</td>\n",
       "    </tr>\n",
       "    <tr>\n",
       "      <th>10</th>\n",
       "      <td>ROZZETTA CRAFT</td>\n",
       "      <td>UV Protection Retro Square Sunglasses (Free Size)</td>\n",
       "      <td>₹474</td>\n",
       "    </tr>\n",
       "    <tr>\n",
       "      <th>11</th>\n",
       "      <td>Fastrack</td>\n",
       "      <td>UV Protection Wayfarer Sunglasses (Free Size)</td>\n",
       "      <td>₹699</td>\n",
       "    </tr>\n",
       "    <tr>\n",
       "      <th>12</th>\n",
       "      <td>kingsunglasses</td>\n",
       "      <td>UV Protection, Riding Glasses, Mirrored Wayfar...</td>\n",
       "      <td>₹187</td>\n",
       "    </tr>\n",
       "    <tr>\n",
       "      <th>13</th>\n",
       "      <td>PHENOMENAL</td>\n",
       "      <td>UV Protection Retro Square Sunglasses (Free Size)</td>\n",
       "      <td>₹319</td>\n",
       "    </tr>\n",
       "    <tr>\n",
       "      <th>14</th>\n",
       "      <td>ROZZETTA CRAFT</td>\n",
       "      <td>UV Protection Round Sunglasses (Free Size)</td>\n",
       "      <td>₹426</td>\n",
       "    </tr>\n",
       "    <tr>\n",
       "      <th>15</th>\n",
       "      <td>New Specs</td>\n",
       "      <td>Mirrored, UV Protection, Riding Glasses, Other...</td>\n",
       "      <td>₹259</td>\n",
       "    </tr>\n",
       "    <tr>\n",
       "      <th>16</th>\n",
       "      <td>ROYAL SON</td>\n",
       "      <td>UV Protection Rectangular Sunglasses (58)</td>\n",
       "      <td>₹449</td>\n",
       "    </tr>\n",
       "    <tr>\n",
       "      <th>17</th>\n",
       "      <td>Rich Club</td>\n",
       "      <td>Polarized Round Sunglasses (48)</td>\n",
       "      <td>₹175</td>\n",
       "    </tr>\n",
       "    <tr>\n",
       "      <th>18</th>\n",
       "      <td>PHENOMENAL</td>\n",
       "      <td>UV Protection, Mirrored Retro Square Sunglasse...</td>\n",
       "      <td>₹299</td>\n",
       "    </tr>\n",
       "    <tr>\n",
       "      <th>19</th>\n",
       "      <td>PIRASO</td>\n",
       "      <td>UV Protection Aviator Sunglasses (54)</td>\n",
       "      <td>₹187</td>\n",
       "    </tr>\n",
       "    <tr>\n",
       "      <th>20</th>\n",
       "      <td>SHAAH COLLECTIONS</td>\n",
       "      <td>UV Protection, Polarized, Mirrored Rectangular...</td>\n",
       "      <td>₹181</td>\n",
       "    </tr>\n",
       "    <tr>\n",
       "      <th>21</th>\n",
       "      <td>Singco India</td>\n",
       "      <td>Mirrored, Riding Glasses, Others Sports Sungla...</td>\n",
       "      <td>₹194</td>\n",
       "    </tr>\n",
       "    <tr>\n",
       "      <th>22</th>\n",
       "      <td>ROYAL SON</td>\n",
       "      <td>Mirrored Aviator Sunglasses (55)</td>\n",
       "      <td>₹359</td>\n",
       "    </tr>\n",
       "    <tr>\n",
       "      <th>23</th>\n",
       "      <td>SUNBEE</td>\n",
       "      <td>UV Protection, Polarized, Mirrored Round Sungl...</td>\n",
       "      <td>₹271</td>\n",
       "    </tr>\n",
       "    <tr>\n",
       "      <th>24</th>\n",
       "      <td>hipe</td>\n",
       "      <td>UV Protection Sports Sunglasses (Free Size)</td>\n",
       "      <td>₹287</td>\n",
       "    </tr>\n",
       "    <tr>\n",
       "      <th>25</th>\n",
       "      <td>Rich Club</td>\n",
       "      <td>Polarized Round Sunglasses (48)</td>\n",
       "      <td>₹163</td>\n",
       "    </tr>\n",
       "    <tr>\n",
       "      <th>26</th>\n",
       "      <td>PIRASO</td>\n",
       "      <td>UV Protection Wayfarer Sunglasses (32)</td>\n",
       "      <td>₹187</td>\n",
       "    </tr>\n",
       "    <tr>\n",
       "      <th>27</th>\n",
       "      <td>Fastrack</td>\n",
       "      <td>UV Protection Rectangular Sunglasses (Free Size)</td>\n",
       "      <td>₹694</td>\n",
       "    </tr>\n",
       "    <tr>\n",
       "      <th>28</th>\n",
       "      <td>ROZZETTA CRAFT</td>\n",
       "      <td>UV Protection, Gradient Retro Square Sunglasse...</td>\n",
       "      <td>₹349</td>\n",
       "    </tr>\n",
       "    <tr>\n",
       "      <th>29</th>\n",
       "      <td>PIRASO</td>\n",
       "      <td>UV Protection Butterfly Sunglasses (65)</td>\n",
       "      <td>₹359</td>\n",
       "    </tr>\n",
       "    <tr>\n",
       "      <th>30</th>\n",
       "      <td>Singco India</td>\n",
       "      <td>UV Protection, Riding Glasses, Others Aviator,...</td>\n",
       "      <td>₹229</td>\n",
       "    </tr>\n",
       "    <tr>\n",
       "      <th>31</th>\n",
       "      <td>PIRASO</td>\n",
       "      <td>UV Protection, Polarized Aviator Sunglasses (32)</td>\n",
       "      <td>₹164</td>\n",
       "    </tr>\n",
       "    <tr>\n",
       "      <th>32</th>\n",
       "      <td>Lee Topper</td>\n",
       "      <td>Riding Glasses, Night Vision Wrap-around Sungl...</td>\n",
       "      <td>₹276</td>\n",
       "    </tr>\n",
       "    <tr>\n",
       "      <th>33</th>\n",
       "      <td>PIRASO</td>\n",
       "      <td>UV Protection Aviator Sunglasses (58)</td>\n",
       "      <td>₹299</td>\n",
       "    </tr>\n",
       "    <tr>\n",
       "      <th>34</th>\n",
       "      <td>ROYAL SON</td>\n",
       "      <td>Mirrored Aviator Sunglasses (55)</td>\n",
       "      <td>₹359</td>\n",
       "    </tr>\n",
       "    <tr>\n",
       "      <th>35</th>\n",
       "      <td>kingsunglasses</td>\n",
       "      <td>Mirrored, UV Protection Aviator Sunglasses (56)</td>\n",
       "      <td>₹211</td>\n",
       "    </tr>\n",
       "    <tr>\n",
       "      <th>36</th>\n",
       "      <td>ROZZETTA CRAFT</td>\n",
       "      <td>UV Protection, Gradient Round Sunglasses (Free...</td>\n",
       "      <td>₹360</td>\n",
       "    </tr>\n",
       "    <tr>\n",
       "      <th>37</th>\n",
       "      <td>agera</td>\n",
       "      <td>Gradient Aviator Sunglasses (55)</td>\n",
       "      <td>₹196</td>\n",
       "    </tr>\n",
       "    <tr>\n",
       "      <th>38</th>\n",
       "      <td>PIRASO</td>\n",
       "      <td>UV Protection Aviator Sunglasses (Free Size)</td>\n",
       "      <td>₹261</td>\n",
       "    </tr>\n",
       "    <tr>\n",
       "      <th>39</th>\n",
       "      <td>ROYAL SON</td>\n",
       "      <td>UV Protection, Gradient Butterfly Sunglasses (57)</td>\n",
       "      <td>₹664</td>\n",
       "    </tr>\n",
       "  </tbody>\n",
       "</table>\n",
       "</div>"
      ],
      "text/plain": [
       "                brand                                        description price\n",
       "0                SRPM             UV Protection Wayfarer Sunglasses (56)  ₹188\n",
       "1           Elligator                UV Protection Round Sunglasses (54)  ₹248\n",
       "2              PIRASO              UV Protection Aviator Sunglasses (54)  ₹200\n",
       "3           New Specs   UV Protection Rectangular Sunglasses (Free Size)  ₹259\n",
       "4              PIRASO              UV Protection Aviator Sunglasses (54)  ₹187\n",
       "5      kingsunglasses                UV Protection Round Sunglasses (54)  ₹189\n",
       "6   SHAAH COLLECTIONS  UV Protection, Polarized, Mirrored Rectangular...  ₹170\n",
       "7      ROZZETTA CRAFT  UV Protection, Gradient Rectangular Sunglasses...  ₹383\n",
       "8              PIRASO              UV Protection Aviator Sunglasses (55)  ₹179\n",
       "9      kingsunglasses   Mirrored, UV Protection Wayfarer Sunglasses (53)  ₹274\n",
       "10     ROZZETTA CRAFT  UV Protection Retro Square Sunglasses (Free Size)  ₹474\n",
       "11           Fastrack      UV Protection Wayfarer Sunglasses (Free Size)  ₹699\n",
       "12     kingsunglasses  UV Protection, Riding Glasses, Mirrored Wayfar...  ₹187\n",
       "13         PHENOMENAL  UV Protection Retro Square Sunglasses (Free Size)  ₹319\n",
       "14     ROZZETTA CRAFT         UV Protection Round Sunglasses (Free Size)  ₹426\n",
       "15          New Specs  Mirrored, UV Protection, Riding Glasses, Other...  ₹259\n",
       "16          ROYAL SON          UV Protection Rectangular Sunglasses (58)  ₹449\n",
       "17          Rich Club                    Polarized Round Sunglasses (48)  ₹175\n",
       "18         PHENOMENAL  UV Protection, Mirrored Retro Square Sunglasse...  ₹299\n",
       "19             PIRASO              UV Protection Aviator Sunglasses (54)  ₹187\n",
       "20  SHAAH COLLECTIONS  UV Protection, Polarized, Mirrored Rectangular...  ₹181\n",
       "21       Singco India  Mirrored, Riding Glasses, Others Sports Sungla...  ₹194\n",
       "22          ROYAL SON                   Mirrored Aviator Sunglasses (55)  ₹359\n",
       "23             SUNBEE  UV Protection, Polarized, Mirrored Round Sungl...  ₹271\n",
       "24               hipe        UV Protection Sports Sunglasses (Free Size)  ₹287\n",
       "25          Rich Club                    Polarized Round Sunglasses (48)  ₹163\n",
       "26             PIRASO             UV Protection Wayfarer Sunglasses (32)  ₹187\n",
       "27           Fastrack   UV Protection Rectangular Sunglasses (Free Size)  ₹694\n",
       "28     ROZZETTA CRAFT  UV Protection, Gradient Retro Square Sunglasse...  ₹349\n",
       "29             PIRASO            UV Protection Butterfly Sunglasses (65)  ₹359\n",
       "30       Singco India  UV Protection, Riding Glasses, Others Aviator,...  ₹229\n",
       "31             PIRASO   UV Protection, Polarized Aviator Sunglasses (32)  ₹164\n",
       "32         Lee Topper  Riding Glasses, Night Vision Wrap-around Sungl...  ₹276\n",
       "33             PIRASO              UV Protection Aviator Sunglasses (58)  ₹299\n",
       "34          ROYAL SON                   Mirrored Aviator Sunglasses (55)  ₹359\n",
       "35     kingsunglasses    Mirrored, UV Protection Aviator Sunglasses (56)  ₹211\n",
       "36     ROZZETTA CRAFT  UV Protection, Gradient Round Sunglasses (Free...  ₹360\n",
       "37              agera                   Gradient Aviator Sunglasses (55)  ₹196\n",
       "38             PIRASO       UV Protection Aviator Sunglasses (Free Size)  ₹261\n",
       "39          ROYAL SON  UV Protection, Gradient Butterfly Sunglasses (57)  ₹664"
      ]
     },
     "execution_count": 68,
     "metadata": {},
     "output_type": "execute_result"
    }
   ],
   "source": [
    "sunglass[0:100]"
   ]
  },
  {
   "cell_type": "code",
   "execution_count": 69,
   "id": "ccfdaa4d",
   "metadata": {},
   "outputs": [],
   "source": [
    "#Q9\n",
    "driver = webdriver.Chrome(r\"C:/Users/SAI BABA/Downloads/chromedriver_win32/chromedriver.exe\")"
   ]
  },
  {
   "cell_type": "code",
   "execution_count": 70,
   "id": "85a655f0",
   "metadata": {},
   "outputs": [],
   "source": [
    "driver.get('https://www.ambitionbox.com/')"
   ]
  },
  {
   "cell_type": "code",
   "execution_count": 71,
   "id": "69d091dd",
   "metadata": {},
   "outputs": [],
   "source": [
    "url=\"https://www.ambitionbox.com/jobs\""
   ]
  },
  {
   "cell_type": "code",
   "execution_count": 72,
   "id": "6e2686f3",
   "metadata": {},
   "outputs": [],
   "source": [
    "driver.get(url)"
   ]
  },
  {
   "cell_type": "code",
   "execution_count": 73,
   "id": "c26b130f",
   "metadata": {},
   "outputs": [],
   "source": [
    "search_element=driver.find_element_by_xpath(\"//input[@class='input tt-input']\")\n",
    "search_element.send_keys(\"Data Scientist\")"
   ]
  },
  {
   "cell_type": "code",
   "execution_count": 74,
   "id": "8d9fef82",
   "metadata": {},
   "outputs": [],
   "source": [
    "search_btn=driver.find_element_by_xpath(\"//span[@class='ctas-btn-medium']\")\n",
    "search_btn.click()"
   ]
  },
  {
   "cell_type": "code",
   "execution_count": 75,
   "id": "d3e12798",
   "metadata": {},
   "outputs": [],
   "source": [
    "url=\"https://www.ambitionbox.com/jobs/search?tag=Data%20Scientist&location=Noida\""
   ]
  },
  {
   "cell_type": "code",
   "execution_count": 76,
   "id": "7db645c0",
   "metadata": {},
   "outputs": [],
   "source": [
    "driver.get(url)"
   ]
  },
  {
   "cell_type": "code",
   "execution_count": 77,
   "id": "3eadbdd1",
   "metadata": {},
   "outputs": [],
   "source": [
    "company_names=[]\n",
    "job_posted=[]\n",
    "company_rating=[]"
   ]
  },
  {
   "cell_type": "code",
   "execution_count": 78,
   "id": "f6dd5b10",
   "metadata": {
    "scrolled": true
   },
   "outputs": [
    {
     "data": {
      "text/plain": [
       "[<selenium.webdriver.remote.webelement.WebElement (session=\"76ab542be01d33ba8b92474cda21c8bb\", element=\"9b291f92-0e72-4644-9202-4367f78defb8\")>,\n",
       " <selenium.webdriver.remote.webelement.WebElement (session=\"76ab542be01d33ba8b92474cda21c8bb\", element=\"e20ad13d-0035-4b23-bc25-351cc517787d\")>,\n",
       " <selenium.webdriver.remote.webelement.WebElement (session=\"76ab542be01d33ba8b92474cda21c8bb\", element=\"b935071c-5a60-413c-96fa-89228fb56c15\")>,\n",
       " <selenium.webdriver.remote.webelement.WebElement (session=\"76ab542be01d33ba8b92474cda21c8bb\", element=\"caed2de0-c2fd-4c71-b841-0d7f08cb9bad\")>,\n",
       " <selenium.webdriver.remote.webelement.WebElement (session=\"76ab542be01d33ba8b92474cda21c8bb\", element=\"9176e758-fef5-4e95-a5e9-f624dc00c52c\")>,\n",
       " <selenium.webdriver.remote.webelement.WebElement (session=\"76ab542be01d33ba8b92474cda21c8bb\", element=\"9c8dc4fc-6fd7-45f5-abde-53b2ed899ff9\")>,\n",
       " <selenium.webdriver.remote.webelement.WebElement (session=\"76ab542be01d33ba8b92474cda21c8bb\", element=\"e074b55d-36e2-4117-b834-bf3d02511c3e\")>,\n",
       " <selenium.webdriver.remote.webelement.WebElement (session=\"76ab542be01d33ba8b92474cda21c8bb\", element=\"3b3b57b9-def6-43cb-8078-781dcf55df25\")>,\n",
       " <selenium.webdriver.remote.webelement.WebElement (session=\"76ab542be01d33ba8b92474cda21c8bb\", element=\"d794fc39-77f3-439d-8f69-2828f6d67c98\")>,\n",
       " <selenium.webdriver.remote.webelement.WebElement (session=\"76ab542be01d33ba8b92474cda21c8bb\", element=\"c7295b00-d378-4bbe-84df-ac668b0e2705\")>]"
      ]
     },
     "execution_count": 78,
     "metadata": {},
     "output_type": "execute_result"
    }
   ],
   "source": [
    "names_tags=driver.find_elements_by_xpath(\"//p[@class='company body-medium']\")\n",
    "names_tags[0:20]"
   ]
  },
  {
   "cell_type": "code",
   "execution_count": 79,
   "id": "78b0877f",
   "metadata": {},
   "outputs": [
    {
     "data": {
      "text/plain": [
       "['LG Electronics India Pvt. Ltd.',\n",
       " 'GENPACT India Private Limited',\n",
       " 'GENPACT India Private Limited',\n",
       " 'NTT Data Business Solutions Pvt Ltd',\n",
       " 'GENPACT India Private Limited',\n",
       " 'Paytm',\n",
       " 'GI Group',\n",
       " 'GI Group',\n",
       " 'GI Group',\n",
       " 'Steria India Ltd']"
      ]
     },
     "execution_count": 79,
     "metadata": {},
     "output_type": "execute_result"
    }
   ],
   "source": [
    "for i in names_tags:\n",
    "    name=i.text\n",
    "    company_names.append(name)\n",
    "company_names[0:20]  "
   ]
  },
  {
   "cell_type": "code",
   "execution_count": 80,
   "id": "b791f7b6",
   "metadata": {},
   "outputs": [
    {
     "data": {
      "text/plain": [
       "[<selenium.webdriver.remote.webelement.WebElement (session=\"76ab542be01d33ba8b92474cda21c8bb\", element=\"137d1313-548f-489a-8413-318d570065e5\")>,\n",
       " <selenium.webdriver.remote.webelement.WebElement (session=\"76ab542be01d33ba8b92474cda21c8bb\", element=\"75861b42-1ecb-46d0-8363-d51abb3ea224\")>,\n",
       " <selenium.webdriver.remote.webelement.WebElement (session=\"76ab542be01d33ba8b92474cda21c8bb\", element=\"850be087-b431-451b-8f45-d257aace0040\")>,\n",
       " <selenium.webdriver.remote.webelement.WebElement (session=\"76ab542be01d33ba8b92474cda21c8bb\", element=\"fb24940c-71eb-4313-ab21-d1777504b972\")>,\n",
       " <selenium.webdriver.remote.webelement.WebElement (session=\"76ab542be01d33ba8b92474cda21c8bb\", element=\"572c6045-ee46-4a61-a325-1e6b6776721d\")>,\n",
       " <selenium.webdriver.remote.webelement.WebElement (session=\"76ab542be01d33ba8b92474cda21c8bb\", element=\"677a85fc-d781-4777-9181-f9d54ddb792d\")>,\n",
       " <selenium.webdriver.remote.webelement.WebElement (session=\"76ab542be01d33ba8b92474cda21c8bb\", element=\"628c62df-0840-4fd4-99d3-0bbc9fd7ed7c\")>,\n",
       " <selenium.webdriver.remote.webelement.WebElement (session=\"76ab542be01d33ba8b92474cda21c8bb\", element=\"4b8f12f8-3e65-4aae-8356-b93b78c463fc\")>,\n",
       " <selenium.webdriver.remote.webelement.WebElement (session=\"76ab542be01d33ba8b92474cda21c8bb\", element=\"85ff5e19-dcd6-44d0-8b14-939e241c3e1d\")>,\n",
       " <selenium.webdriver.remote.webelement.WebElement (session=\"76ab542be01d33ba8b92474cda21c8bb\", element=\"5c3cc3e3-9459-4be9-bff4-9f08e33e0918\")>]"
      ]
     },
     "execution_count": 80,
     "metadata": {},
     "output_type": "execute_result"
    }
   ],
   "source": [
    "posted_tags=driver.find_elements_by_xpath(\"//span[@class='body-small-l']\")\n",
    "posted_tags[0:10]"
   ]
  },
  {
   "cell_type": "code",
   "execution_count": 81,
   "id": "dda88898",
   "metadata": {},
   "outputs": [
    {
     "data": {
      "text/plain": [
       "['9d ago',\n",
       " 'via naukri.com',\n",
       " '16d ago',\n",
       " 'via naukri.com',\n",
       " '16d ago',\n",
       " 'via naukri.com',\n",
       " '17d ago',\n",
       " 'via naukri.com',\n",
       " '18d ago',\n",
       " 'via naukri.com']"
      ]
     },
     "execution_count": 81,
     "metadata": {},
     "output_type": "execute_result"
    }
   ],
   "source": [
    "for i in posted_tags:\n",
    "    name=i.text\n",
    "    job_posted.append(name)\n",
    "job_posted[0:10] "
   ]
  },
  {
   "cell_type": "code",
   "execution_count": 82,
   "id": "1e0bc5ff",
   "metadata": {},
   "outputs": [
    {
     "data": {
      "text/plain": [
       "[<selenium.webdriver.remote.webelement.WebElement (session=\"76ab542be01d33ba8b92474cda21c8bb\", element=\"d04f7ffc-8444-4961-98fe-6c441a1c5891\")>,\n",
       " <selenium.webdriver.remote.webelement.WebElement (session=\"76ab542be01d33ba8b92474cda21c8bb\", element=\"f83ed3c9-9136-4d2a-beea-ac4897b213b7\")>,\n",
       " <selenium.webdriver.remote.webelement.WebElement (session=\"76ab542be01d33ba8b92474cda21c8bb\", element=\"5d56c906-91af-4a2f-831f-173978bbda8a\")>,\n",
       " <selenium.webdriver.remote.webelement.WebElement (session=\"76ab542be01d33ba8b92474cda21c8bb\", element=\"4bb5fced-de01-4a1f-983e-4431c7feb0f0\")>,\n",
       " <selenium.webdriver.remote.webelement.WebElement (session=\"76ab542be01d33ba8b92474cda21c8bb\", element=\"56f6934d-9304-415a-ad1f-9820302e6efc\")>,\n",
       " <selenium.webdriver.remote.webelement.WebElement (session=\"76ab542be01d33ba8b92474cda21c8bb\", element=\"5e9bc6aa-22ed-4107-a408-2079630feae9\")>,\n",
       " <selenium.webdriver.remote.webelement.WebElement (session=\"76ab542be01d33ba8b92474cda21c8bb\", element=\"9af73666-712c-4e0b-8a5b-2d9eaccc5374\")>,\n",
       " <selenium.webdriver.remote.webelement.WebElement (session=\"76ab542be01d33ba8b92474cda21c8bb\", element=\"4d4c0487-c194-4f3f-95b3-05eea6c93369\")>,\n",
       " <selenium.webdriver.remote.webelement.WebElement (session=\"76ab542be01d33ba8b92474cda21c8bb\", element=\"2b1d09b0-fe75-44dd-a82f-f63974e78070\")>,\n",
       " <selenium.webdriver.remote.webelement.WebElement (session=\"76ab542be01d33ba8b92474cda21c8bb\", element=\"1238952b-0e5f-438d-9652-fcd1e8c7a255\")>]"
      ]
     },
     "execution_count": 82,
     "metadata": {},
     "output_type": "execute_result"
    }
   ],
   "source": [
    "rating_tags=driver.find_elements_by_xpath(\"//span[@class='body-small']\")\n",
    "rating_tags[0:20]"
   ]
  },
  {
   "cell_type": "code",
   "execution_count": 83,
   "id": "cdea6354",
   "metadata": {},
   "outputs": [
    {
     "data": {
      "text/plain": [
       "['4.1', '4.0', '4.0', '3.8', '4.0', '3.7', '4.0', '4.0', '4.0', '4.1']"
      ]
     },
     "execution_count": 83,
     "metadata": {},
     "output_type": "execute_result"
    }
   ],
   "source": [
    "for i in rating_tags:\n",
    "    rating=i.text\n",
    "    company_rating.append(rating)\n",
    "company_rating[0:20] "
   ]
  },
  {
   "cell_type": "code",
   "execution_count": 84,
   "id": "68a597ae",
   "metadata": {},
   "outputs": [
    {
     "name": "stdout",
     "output_type": "stream",
     "text": [
      "10 20 10\n"
     ]
    }
   ],
   "source": [
    "print(len(company_names),len(job_posted),len(company_rating))"
   ]
  },
  {
   "cell_type": "code",
   "execution_count": 85,
   "id": "349f9793",
   "metadata": {},
   "outputs": [
    {
     "ename": "ValueError",
     "evalue": "Length of values (20) does not match length of index (10)",
     "output_type": "error",
     "traceback": [
      "\u001b[1;31m---------------------------------------------------------------------------\u001b[0m",
      "\u001b[1;31mValueError\u001b[0m                                Traceback (most recent call last)",
      "\u001b[1;32m<ipython-input-85-e346eafd7b75>\u001b[0m in \u001b[0;36m<module>\u001b[1;34m\u001b[0m\n\u001b[0;32m      1\u001b[0m \u001b[0mjobs\u001b[0m\u001b[1;33m=\u001b[0m\u001b[0mpd\u001b[0m\u001b[1;33m.\u001b[0m\u001b[0mDataFrame\u001b[0m\u001b[1;33m(\u001b[0m\u001b[1;33m{\u001b[0m\u001b[1;33m}\u001b[0m\u001b[1;33m)\u001b[0m\u001b[1;33m\u001b[0m\u001b[1;33m\u001b[0m\u001b[0m\n\u001b[0;32m      2\u001b[0m \u001b[0mjobs\u001b[0m\u001b[1;33m[\u001b[0m\u001b[1;34m'name'\u001b[0m\u001b[1;33m]\u001b[0m\u001b[1;33m=\u001b[0m\u001b[0mcompany_names\u001b[0m\u001b[1;33m\u001b[0m\u001b[1;33m\u001b[0m\u001b[0m\n\u001b[1;32m----> 3\u001b[1;33m \u001b[0mjobs\u001b[0m\u001b[1;33m[\u001b[0m\u001b[1;34m'posted_on'\u001b[0m\u001b[1;33m]\u001b[0m\u001b[1;33m=\u001b[0m\u001b[0mjob_posted\u001b[0m\u001b[1;33m\u001b[0m\u001b[1;33m\u001b[0m\u001b[0m\n\u001b[0m\u001b[0;32m      4\u001b[0m \u001b[0mjobs\u001b[0m\u001b[1;33m[\u001b[0m\u001b[1;34m'rating'\u001b[0m\u001b[1;33m]\u001b[0m\u001b[1;33m=\u001b[0m\u001b[0mcompany_rating\u001b[0m\u001b[1;33m\u001b[0m\u001b[1;33m\u001b[0m\u001b[0m\n",
      "\u001b[1;32m~\\anaconda3\\lib\\site-packages\\pandas\\core\\frame.py\u001b[0m in \u001b[0;36m__setitem__\u001b[1;34m(self, key, value)\u001b[0m\n\u001b[0;32m   3161\u001b[0m         \u001b[1;32melse\u001b[0m\u001b[1;33m:\u001b[0m\u001b[1;33m\u001b[0m\u001b[1;33m\u001b[0m\u001b[0m\n\u001b[0;32m   3162\u001b[0m             \u001b[1;31m# set column\u001b[0m\u001b[1;33m\u001b[0m\u001b[1;33m\u001b[0m\u001b[1;33m\u001b[0m\u001b[0m\n\u001b[1;32m-> 3163\u001b[1;33m             \u001b[0mself\u001b[0m\u001b[1;33m.\u001b[0m\u001b[0m_set_item\u001b[0m\u001b[1;33m(\u001b[0m\u001b[0mkey\u001b[0m\u001b[1;33m,\u001b[0m \u001b[0mvalue\u001b[0m\u001b[1;33m)\u001b[0m\u001b[1;33m\u001b[0m\u001b[1;33m\u001b[0m\u001b[0m\n\u001b[0m\u001b[0;32m   3164\u001b[0m \u001b[1;33m\u001b[0m\u001b[0m\n\u001b[0;32m   3165\u001b[0m     \u001b[1;32mdef\u001b[0m \u001b[0m_setitem_slice\u001b[0m\u001b[1;33m(\u001b[0m\u001b[0mself\u001b[0m\u001b[1;33m,\u001b[0m \u001b[0mkey\u001b[0m\u001b[1;33m:\u001b[0m \u001b[0mslice\u001b[0m\u001b[1;33m,\u001b[0m \u001b[0mvalue\u001b[0m\u001b[1;33m)\u001b[0m\u001b[1;33m:\u001b[0m\u001b[1;33m\u001b[0m\u001b[1;33m\u001b[0m\u001b[0m\n",
      "\u001b[1;32m~\\anaconda3\\lib\\site-packages\\pandas\\core\\frame.py\u001b[0m in \u001b[0;36m_set_item\u001b[1;34m(self, key, value)\u001b[0m\n\u001b[0;32m   3240\u001b[0m         \"\"\"\n\u001b[0;32m   3241\u001b[0m         \u001b[0mself\u001b[0m\u001b[1;33m.\u001b[0m\u001b[0m_ensure_valid_index\u001b[0m\u001b[1;33m(\u001b[0m\u001b[0mvalue\u001b[0m\u001b[1;33m)\u001b[0m\u001b[1;33m\u001b[0m\u001b[1;33m\u001b[0m\u001b[0m\n\u001b[1;32m-> 3242\u001b[1;33m         \u001b[0mvalue\u001b[0m \u001b[1;33m=\u001b[0m \u001b[0mself\u001b[0m\u001b[1;33m.\u001b[0m\u001b[0m_sanitize_column\u001b[0m\u001b[1;33m(\u001b[0m\u001b[0mkey\u001b[0m\u001b[1;33m,\u001b[0m \u001b[0mvalue\u001b[0m\u001b[1;33m)\u001b[0m\u001b[1;33m\u001b[0m\u001b[1;33m\u001b[0m\u001b[0m\n\u001b[0m\u001b[0;32m   3243\u001b[0m         \u001b[0mNDFrame\u001b[0m\u001b[1;33m.\u001b[0m\u001b[0m_set_item\u001b[0m\u001b[1;33m(\u001b[0m\u001b[0mself\u001b[0m\u001b[1;33m,\u001b[0m \u001b[0mkey\u001b[0m\u001b[1;33m,\u001b[0m \u001b[0mvalue\u001b[0m\u001b[1;33m)\u001b[0m\u001b[1;33m\u001b[0m\u001b[1;33m\u001b[0m\u001b[0m\n\u001b[0;32m   3244\u001b[0m \u001b[1;33m\u001b[0m\u001b[0m\n",
      "\u001b[1;32m~\\anaconda3\\lib\\site-packages\\pandas\\core\\frame.py\u001b[0m in \u001b[0;36m_sanitize_column\u001b[1;34m(self, key, value, broadcast)\u001b[0m\n\u001b[0;32m   3897\u001b[0m \u001b[1;33m\u001b[0m\u001b[0m\n\u001b[0;32m   3898\u001b[0m             \u001b[1;31m# turn me into an ndarray\u001b[0m\u001b[1;33m\u001b[0m\u001b[1;33m\u001b[0m\u001b[1;33m\u001b[0m\u001b[0m\n\u001b[1;32m-> 3899\u001b[1;33m             \u001b[0mvalue\u001b[0m \u001b[1;33m=\u001b[0m \u001b[0msanitize_index\u001b[0m\u001b[1;33m(\u001b[0m\u001b[0mvalue\u001b[0m\u001b[1;33m,\u001b[0m \u001b[0mself\u001b[0m\u001b[1;33m.\u001b[0m\u001b[0mindex\u001b[0m\u001b[1;33m)\u001b[0m\u001b[1;33m\u001b[0m\u001b[1;33m\u001b[0m\u001b[0m\n\u001b[0m\u001b[0;32m   3900\u001b[0m             \u001b[1;32mif\u001b[0m \u001b[1;32mnot\u001b[0m \u001b[0misinstance\u001b[0m\u001b[1;33m(\u001b[0m\u001b[0mvalue\u001b[0m\u001b[1;33m,\u001b[0m \u001b[1;33m(\u001b[0m\u001b[0mnp\u001b[0m\u001b[1;33m.\u001b[0m\u001b[0mndarray\u001b[0m\u001b[1;33m,\u001b[0m \u001b[0mIndex\u001b[0m\u001b[1;33m)\u001b[0m\u001b[1;33m)\u001b[0m\u001b[1;33m:\u001b[0m\u001b[1;33m\u001b[0m\u001b[1;33m\u001b[0m\u001b[0m\n\u001b[0;32m   3901\u001b[0m                 \u001b[1;32mif\u001b[0m \u001b[0misinstance\u001b[0m\u001b[1;33m(\u001b[0m\u001b[0mvalue\u001b[0m\u001b[1;33m,\u001b[0m \u001b[0mlist\u001b[0m\u001b[1;33m)\u001b[0m \u001b[1;32mand\u001b[0m \u001b[0mlen\u001b[0m\u001b[1;33m(\u001b[0m\u001b[0mvalue\u001b[0m\u001b[1;33m)\u001b[0m \u001b[1;33m>\u001b[0m \u001b[1;36m0\u001b[0m\u001b[1;33m:\u001b[0m\u001b[1;33m\u001b[0m\u001b[1;33m\u001b[0m\u001b[0m\n",
      "\u001b[1;32m~\\anaconda3\\lib\\site-packages\\pandas\\core\\internals\\construction.py\u001b[0m in \u001b[0;36msanitize_index\u001b[1;34m(data, index)\u001b[0m\n\u001b[0;32m    749\u001b[0m     \"\"\"\n\u001b[0;32m    750\u001b[0m     \u001b[1;32mif\u001b[0m \u001b[0mlen\u001b[0m\u001b[1;33m(\u001b[0m\u001b[0mdata\u001b[0m\u001b[1;33m)\u001b[0m \u001b[1;33m!=\u001b[0m \u001b[0mlen\u001b[0m\u001b[1;33m(\u001b[0m\u001b[0mindex\u001b[0m\u001b[1;33m)\u001b[0m\u001b[1;33m:\u001b[0m\u001b[1;33m\u001b[0m\u001b[1;33m\u001b[0m\u001b[0m\n\u001b[1;32m--> 751\u001b[1;33m         raise ValueError(\n\u001b[0m\u001b[0;32m    752\u001b[0m             \u001b[1;34m\"Length of values \"\u001b[0m\u001b[1;33m\u001b[0m\u001b[1;33m\u001b[0m\u001b[0m\n\u001b[0;32m    753\u001b[0m             \u001b[1;34mf\"({len(data)}) \"\u001b[0m\u001b[1;33m\u001b[0m\u001b[1;33m\u001b[0m\u001b[0m\n",
      "\u001b[1;31mValueError\u001b[0m: Length of values (20) does not match length of index (10)"
     ]
    }
   ],
   "source": [
    "jobs=pd.DataFrame({})\n",
    "jobs['name']=company_names\n",
    "jobs['posted_on']=job_posted\n",
    "jobs['rating']=company_rating\n"
   ]
  },
  {
   "cell_type": "code",
   "execution_count": 86,
   "id": "9ae740cc",
   "metadata": {},
   "outputs": [
    {
     "data": {
      "text/html": [
       "<div>\n",
       "<style scoped>\n",
       "    .dataframe tbody tr th:only-of-type {\n",
       "        vertical-align: middle;\n",
       "    }\n",
       "\n",
       "    .dataframe tbody tr th {\n",
       "        vertical-align: top;\n",
       "    }\n",
       "\n",
       "    .dataframe thead th {\n",
       "        text-align: right;\n",
       "    }\n",
       "</style>\n",
       "<table border=\"1\" class=\"dataframe\">\n",
       "  <thead>\n",
       "    <tr style=\"text-align: right;\">\n",
       "      <th></th>\n",
       "      <th>name</th>\n",
       "    </tr>\n",
       "  </thead>\n",
       "  <tbody>\n",
       "    <tr>\n",
       "      <th>0</th>\n",
       "      <td>LG Electronics India Pvt. Ltd.</td>\n",
       "    </tr>\n",
       "    <tr>\n",
       "      <th>1</th>\n",
       "      <td>GENPACT India Private Limited</td>\n",
       "    </tr>\n",
       "    <tr>\n",
       "      <th>2</th>\n",
       "      <td>GENPACT India Private Limited</td>\n",
       "    </tr>\n",
       "    <tr>\n",
       "      <th>3</th>\n",
       "      <td>NTT Data Business Solutions Pvt Ltd</td>\n",
       "    </tr>\n",
       "    <tr>\n",
       "      <th>4</th>\n",
       "      <td>GENPACT India Private Limited</td>\n",
       "    </tr>\n",
       "    <tr>\n",
       "      <th>5</th>\n",
       "      <td>Paytm</td>\n",
       "    </tr>\n",
       "    <tr>\n",
       "      <th>6</th>\n",
       "      <td>GI Group</td>\n",
       "    </tr>\n",
       "    <tr>\n",
       "      <th>7</th>\n",
       "      <td>GI Group</td>\n",
       "    </tr>\n",
       "    <tr>\n",
       "      <th>8</th>\n",
       "      <td>GI Group</td>\n",
       "    </tr>\n",
       "    <tr>\n",
       "      <th>9</th>\n",
       "      <td>Steria India Ltd</td>\n",
       "    </tr>\n",
       "  </tbody>\n",
       "</table>\n",
       "</div>"
      ],
      "text/plain": [
       "                                  name\n",
       "0       LG Electronics India Pvt. Ltd.\n",
       "1        GENPACT India Private Limited\n",
       "2        GENPACT India Private Limited\n",
       "3  NTT Data Business Solutions Pvt Ltd\n",
       "4        GENPACT India Private Limited\n",
       "5                                Paytm\n",
       "6                             GI Group\n",
       "7                             GI Group\n",
       "8                             GI Group\n",
       "9                     Steria India Ltd"
      ]
     },
     "execution_count": 86,
     "metadata": {},
     "output_type": "execute_result"
    }
   ],
   "source": [
    "jobs[0:10]"
   ]
  },
  {
   "cell_type": "code",
   "execution_count": 106,
   "id": "39a2b3d1",
   "metadata": {},
   "outputs": [],
   "source": [
    "#Q10\n",
    "driver = webdriver.Chrome(r\"C:/Users/SAI BABA/Downloads/chromedriver_win32/chromedriver.exe\")"
   ]
  },
  {
   "cell_type": "code",
   "execution_count": 107,
   "id": "904836d6",
   "metadata": {},
   "outputs": [],
   "source": [
    "driver.get('https://www.ambitionbox.com/')"
   ]
  },
  {
   "cell_type": "code",
   "execution_count": 108,
   "id": "28df4484",
   "metadata": {},
   "outputs": [],
   "source": [
    "url=\"https://www.ambitionbox.com/salaries\""
   ]
  },
  {
   "cell_type": "code",
   "execution_count": 109,
   "id": "6a60c347",
   "metadata": {},
   "outputs": [],
   "source": [
    "driver.get(url)"
   ]
  },
  {
   "cell_type": "code",
   "execution_count": 110,
   "id": "0f979609",
   "metadata": {},
   "outputs": [],
   "source": [
    "search_element=driver.find_element_by_xpath(\"//input[@id='jobProfileSearchbox']\")\n",
    "search_element.send_keys(\"Data Scientist\")"
   ]
  },
  {
   "cell_type": "code",
   "execution_count": 93,
   "id": "94aaacc5",
   "metadata": {},
   "outputs": [],
   "source": [
    "company_names=[]\n",
    "average_salary=[]\n",
    "minimum_salary=[]\n",
    "maximum_salary=[]\n",
    "experiance_req=[]"
   ]
  },
  {
   "cell_type": "code",
   "execution_count": 95,
   "id": "0c981f39",
   "metadata": {},
   "outputs": [
    {
     "data": {
      "text/plain": [
       "[<selenium.webdriver.remote.webelement.WebElement (session=\"1457f8cd0c35ddb7045720dbc030a6fe\", element=\"bbf78d48-db07-4dac-a765-48cd32e31287\")>,\n",
       " <selenium.webdriver.remote.webelement.WebElement (session=\"1457f8cd0c35ddb7045720dbc030a6fe\", element=\"82a40fe0-5786-451b-af3d-a39138b6b916\")>,\n",
       " <selenium.webdriver.remote.webelement.WebElement (session=\"1457f8cd0c35ddb7045720dbc030a6fe\", element=\"77e7cded-5934-40c6-a3e9-062089678440\")>,\n",
       " <selenium.webdriver.remote.webelement.WebElement (session=\"1457f8cd0c35ddb7045720dbc030a6fe\", element=\"2a1d48bf-4d27-4254-b72f-c28e034d9a2b\")>,\n",
       " <selenium.webdriver.remote.webelement.WebElement (session=\"1457f8cd0c35ddb7045720dbc030a6fe\", element=\"c942e0f6-c50a-443f-a983-9b62bb99aa59\")>,\n",
       " <selenium.webdriver.remote.webelement.WebElement (session=\"1457f8cd0c35ddb7045720dbc030a6fe\", element=\"4f903178-0c73-42d8-aab5-75ee25eff666\")>,\n",
       " <selenium.webdriver.remote.webelement.WebElement (session=\"1457f8cd0c35ddb7045720dbc030a6fe\", element=\"36dacfa5-f695-413a-8545-83f1fd4d5134\")>,\n",
       " <selenium.webdriver.remote.webelement.WebElement (session=\"1457f8cd0c35ddb7045720dbc030a6fe\", element=\"cbed866a-239c-4090-8a22-2ff8778b6e85\")>,\n",
       " <selenium.webdriver.remote.webelement.WebElement (session=\"1457f8cd0c35ddb7045720dbc030a6fe\", element=\"b08881d0-94e1-4c9c-bb78-f9b86a6a9d42\")>,\n",
       " <selenium.webdriver.remote.webelement.WebElement (session=\"1457f8cd0c35ddb7045720dbc030a6fe\", element=\"545ddc5f-2cb5-441e-bde2-6273b6dd4fb2\")>]"
      ]
     },
     "execution_count": 95,
     "metadata": {},
     "output_type": "execute_result"
    }
   ],
   "source": [
    "names_tags=driver.find_elements_by_xpath(\"//div[@class='name']\")\n",
    "names_tags[0:10]"
   ]
  },
  {
   "cell_type": "code",
   "execution_count": 96,
   "id": "03a3d5e1",
   "metadata": {},
   "outputs": [
    {
     "data": {
      "text/plain": [
       "['Ab Inbev\\nbased on 20 salaries',\n",
       " 'ZS\\nbased on 12 salaries',\n",
       " 'Optum\\nbased on 23 salaries',\n",
       " 'Fractal Analytics\\nbased on 66 salaries',\n",
       " 'UnitedHealth\\nbased on 47 salaries',\n",
       " 'Tiger Analytics\\nbased on 26 salaries',\n",
       " 'Verizon\\nbased on 14 salaries',\n",
       " 'Ganit Business Solutions\\nbased on 13 salaries',\n",
       " 'Ericsson\\nbased on 42 salaries',\n",
       " 'Deloitte\\nbased on 49 salaries']"
      ]
     },
     "execution_count": 96,
     "metadata": {},
     "output_type": "execute_result"
    }
   ],
   "source": [
    "for i in names_tags:\n",
    "    name=i.text\n",
    "    company_names.append(name)\n",
    "company_names[0:10]  "
   ]
  },
  {
   "cell_type": "code",
   "execution_count": 97,
   "id": "6f2a2245",
   "metadata": {},
   "outputs": [
    {
     "data": {
      "text/plain": [
       "[<selenium.webdriver.remote.webelement.WebElement (session=\"1457f8cd0c35ddb7045720dbc030a6fe\", element=\"412e2505-7afe-4650-bbc1-ca973e31bb44\")>,\n",
       " <selenium.webdriver.remote.webelement.WebElement (session=\"1457f8cd0c35ddb7045720dbc030a6fe\", element=\"df64ca45-3172-4656-bc69-3ecac358f260\")>,\n",
       " <selenium.webdriver.remote.webelement.WebElement (session=\"1457f8cd0c35ddb7045720dbc030a6fe\", element=\"a1779bc2-5a9f-466b-910c-a843a7d68273\")>,\n",
       " <selenium.webdriver.remote.webelement.WebElement (session=\"1457f8cd0c35ddb7045720dbc030a6fe\", element=\"9b0fb0ed-c99a-4315-95c9-1af77a140dab\")>,\n",
       " <selenium.webdriver.remote.webelement.WebElement (session=\"1457f8cd0c35ddb7045720dbc030a6fe\", element=\"68970ae3-85eb-4d20-befe-9b857935a01e\")>,\n",
       " <selenium.webdriver.remote.webelement.WebElement (session=\"1457f8cd0c35ddb7045720dbc030a6fe\", element=\"cc8a1ce5-824b-42f6-a438-b4be4786c52f\")>,\n",
       " <selenium.webdriver.remote.webelement.WebElement (session=\"1457f8cd0c35ddb7045720dbc030a6fe\", element=\"ca08f152-0950-4c91-b711-99091f0c20c1\")>,\n",
       " <selenium.webdriver.remote.webelement.WebElement (session=\"1457f8cd0c35ddb7045720dbc030a6fe\", element=\"ad11cee9-83de-4cce-9960-5c6915b48e19\")>,\n",
       " <selenium.webdriver.remote.webelement.WebElement (session=\"1457f8cd0c35ddb7045720dbc030a6fe\", element=\"ad750459-9fac-418f-bc4d-1494984966ad\")>,\n",
       " <selenium.webdriver.remote.webelement.WebElement (session=\"1457f8cd0c35ddb7045720dbc030a6fe\", element=\"f8902fc1-9ada-4ac3-8527-4bddcc01efc1\")>]"
      ]
     },
     "execution_count": 97,
     "metadata": {},
     "output_type": "execute_result"
    }
   ],
   "source": [
    "average_salary_tags=driver.find_elements_by_xpath(\"//p[@class='averageCtc']\")\n",
    "average_salary_tags[0:10]"
   ]
  },
  {
   "cell_type": "code",
   "execution_count": 99,
   "id": "56339a2e",
   "metadata": {},
   "outputs": [
    {
     "data": {
      "text/plain": [
       "['₹ 19.0L',\n",
       " '₹ 15.3L',\n",
       " '₹ 15.0L',\n",
       " '₹ 15.0L',\n",
       " '₹ 13.5L',\n",
       " '₹ 13.5L',\n",
       " '₹ 12.7L',\n",
       " '₹ 12.4L',\n",
       " '₹ 11.7L',\n",
       " '₹ 11.2L']"
      ]
     },
     "execution_count": 99,
     "metadata": {},
     "output_type": "execute_result"
    }
   ],
   "source": [
    "for i in average_salary_tags:\n",
    "    total_salary=i.text\n",
    "    average_salary.append(total_salary)\n",
    "average_salary[0:10]  "
   ]
  },
  {
   "cell_type": "code",
   "execution_count": 102,
   "id": "0d4fcc9a",
   "metadata": {},
   "outputs": [
    {
     "data": {
      "text/plain": [
       "[<selenium.webdriver.remote.webelement.WebElement (session=\"1457f8cd0c35ddb7045720dbc030a6fe\", element=\"550860d7-9367-4531-9471-b9082fdef3e3\")>,\n",
       " <selenium.webdriver.remote.webelement.WebElement (session=\"1457f8cd0c35ddb7045720dbc030a6fe\", element=\"1b5bc1d9-e0b0-4024-86ab-409951af5b70\")>,\n",
       " <selenium.webdriver.remote.webelement.WebElement (session=\"1457f8cd0c35ddb7045720dbc030a6fe\", element=\"a26f3f81-169e-4c65-a163-77ef09172229\")>,\n",
       " <selenium.webdriver.remote.webelement.WebElement (session=\"1457f8cd0c35ddb7045720dbc030a6fe\", element=\"e1caf437-0f00-4f9e-9450-617f2b1e374d\")>,\n",
       " <selenium.webdriver.remote.webelement.WebElement (session=\"1457f8cd0c35ddb7045720dbc030a6fe\", element=\"8ad83385-654e-4433-ba26-cf89fc8e5a33\")>,\n",
       " <selenium.webdriver.remote.webelement.WebElement (session=\"1457f8cd0c35ddb7045720dbc030a6fe\", element=\"6b656f1f-d581-4989-93aa-ad0a5f401102\")>,\n",
       " <selenium.webdriver.remote.webelement.WebElement (session=\"1457f8cd0c35ddb7045720dbc030a6fe\", element=\"b790cef8-326d-42f1-80f3-c2cf7f7a86f1\")>,\n",
       " <selenium.webdriver.remote.webelement.WebElement (session=\"1457f8cd0c35ddb7045720dbc030a6fe\", element=\"26ad597c-6560-46d3-8af8-fb15f2aea78e\")>,\n",
       " <selenium.webdriver.remote.webelement.WebElement (session=\"1457f8cd0c35ddb7045720dbc030a6fe\", element=\"2758f5d2-6b9e-4c4d-93f8-be31fb9819f9\")>,\n",
       " <selenium.webdriver.remote.webelement.WebElement (session=\"1457f8cd0c35ddb7045720dbc030a6fe\", element=\"e868e627-909e-446f-9377-0de4837a5cfe\")>]"
      ]
     },
     "execution_count": 102,
     "metadata": {},
     "output_type": "execute_result"
    }
   ],
   "source": [
    "minimum_salary_tags=driver.find_elements_by_xpath(\"//div[@class='salary-values']\")\n",
    "minimum_salary_tags[0:10]"
   ]
  },
  {
   "cell_type": "code",
   "execution_count": 103,
   "id": "bb115310",
   "metadata": {},
   "outputs": [
    {
     "data": {
      "text/plain": [
       "['₹ 15.0L',\n",
       " '₹ 23.0L',\n",
       " '₹ 9.8L',\n",
       " '₹ 19.5L',\n",
       " '₹ 11.0L',\n",
       " '₹ 21.3L',\n",
       " '₹ 9.5L',\n",
       " '₹ 22.0L',\n",
       " '₹ 7.2L',\n",
       " '₹ 20.5L']"
      ]
     },
     "execution_count": 103,
     "metadata": {},
     "output_type": "execute_result"
    }
   ],
   "source": [
    "for i in minimum_salary_tags:\n",
    "    salary=i.text\n",
    "    minimum_salary.append(salary)\n",
    "minimum_salary[0:10]  "
   ]
  },
  {
   "cell_type": "code",
   "execution_count": 104,
   "id": "ea3bc576",
   "metadata": {},
   "outputs": [
    {
     "data": {
      "text/plain": [
       "[<selenium.webdriver.remote.webelement.WebElement (session=\"1457f8cd0c35ddb7045720dbc030a6fe\", element=\"ee4b496e-520a-44ac-96dd-8b7f96b7cc73\")>,\n",
       " <selenium.webdriver.remote.webelement.WebElement (session=\"1457f8cd0c35ddb7045720dbc030a6fe\", element=\"723c5b27-69d0-452a-b7d5-a017cbff7740\")>,\n",
       " <selenium.webdriver.remote.webelement.WebElement (session=\"1457f8cd0c35ddb7045720dbc030a6fe\", element=\"b8b5259c-d931-4967-afbf-52ffcc18c672\")>,\n",
       " <selenium.webdriver.remote.webelement.WebElement (session=\"1457f8cd0c35ddb7045720dbc030a6fe\", element=\"015a5792-eb06-4d68-9138-8b8cec203987\")>,\n",
       " <selenium.webdriver.remote.webelement.WebElement (session=\"1457f8cd0c35ddb7045720dbc030a6fe\", element=\"9bd89634-a0ba-4c04-bad9-5b4d909e678e\")>,\n",
       " <selenium.webdriver.remote.webelement.WebElement (session=\"1457f8cd0c35ddb7045720dbc030a6fe\", element=\"62ac6356-a7bd-4366-99a9-fe0c9d4e03ba\")>,\n",
       " <selenium.webdriver.remote.webelement.WebElement (session=\"1457f8cd0c35ddb7045720dbc030a6fe\", element=\"1a9cffec-15da-4925-98dc-d0daffab53a5\")>,\n",
       " <selenium.webdriver.remote.webelement.WebElement (session=\"1457f8cd0c35ddb7045720dbc030a6fe\", element=\"80529040-cfc8-4c2c-8820-a383e2ef7b68\")>,\n",
       " <selenium.webdriver.remote.webelement.WebElement (session=\"1457f8cd0c35ddb7045720dbc030a6fe\", element=\"be2f52b9-1e87-448c-a13b-845d7d55c278\")>,\n",
       " <selenium.webdriver.remote.webelement.WebElement (session=\"1457f8cd0c35ddb7045720dbc030a6fe\", element=\"50cad56a-cf6b-466f-9573-cabf0042cf2c\")>]"
      ]
     },
     "execution_count": 104,
     "metadata": {},
     "output_type": "execute_result"
    }
   ],
   "source": [
    "maximum_salary_tags=driver.find_elements_by_xpath(\"//div[@class='value body-medium']\")\n",
    "maximum_salary_tags[0:10]"
   ]
  },
  {
   "cell_type": "code",
   "execution_count": 105,
   "id": "8c4e9cb8",
   "metadata": {},
   "outputs": [
    {
     "data": {
      "text/plain": [
       "['₹ 15.0L',\n",
       " '₹ 23.0L',\n",
       " '₹ 9.8L',\n",
       " '₹ 19.5L',\n",
       " '₹ 11.0L',\n",
       " '₹ 21.3L',\n",
       " '₹ 9.5L',\n",
       " '₹ 22.0L',\n",
       " '₹ 7.2L',\n",
       " '₹ 20.5L']"
      ]
     },
     "execution_count": 105,
     "metadata": {},
     "output_type": "execute_result"
    }
   ],
   "source": [
    "for i in maximum_salary_tags:\n",
    "    salary=i.text\n",
    "    maximum_salary.append(salary)\n",
    "maximum_salary[0:10]  "
   ]
  },
  {
   "cell_type": "code",
   "execution_count": 111,
   "id": "1d967b95",
   "metadata": {},
   "outputs": [
    {
     "data": {
      "text/plain": [
       "[<selenium.webdriver.remote.webelement.WebElement (session=\"b66b84bd6363369b190acac3da7a194e\", element=\"e64083a6-feeb-46d1-b3e8-10f48ffe39cf\")>,\n",
       " <selenium.webdriver.remote.webelement.WebElement (session=\"b66b84bd6363369b190acac3da7a194e\", element=\"87d56eee-44de-4aa9-8112-f7126f57c7ca\")>,\n",
       " <selenium.webdriver.remote.webelement.WebElement (session=\"b66b84bd6363369b190acac3da7a194e\", element=\"4d885712-852f-43ac-acc3-ae13ca16dd1b\")>,\n",
       " <selenium.webdriver.remote.webelement.WebElement (session=\"b66b84bd6363369b190acac3da7a194e\", element=\"dd3dc4b6-60f2-4cfa-aceb-d5ef3d6a7afa\")>,\n",
       " <selenium.webdriver.remote.webelement.WebElement (session=\"b66b84bd6363369b190acac3da7a194e\", element=\"b18d3d9a-110b-4964-a78f-6f766619073d\")>,\n",
       " <selenium.webdriver.remote.webelement.WebElement (session=\"b66b84bd6363369b190acac3da7a194e\", element=\"3cbf54ed-fee0-465e-bb53-923eb8a1cdb5\")>,\n",
       " <selenium.webdriver.remote.webelement.WebElement (session=\"b66b84bd6363369b190acac3da7a194e\", element=\"a8d94a98-4f6e-41a7-b41a-ebba2e256d21\")>,\n",
       " <selenium.webdriver.remote.webelement.WebElement (session=\"b66b84bd6363369b190acac3da7a194e\", element=\"f8930a0c-b8d1-49e1-82fe-c1a847047359\")>,\n",
       " <selenium.webdriver.remote.webelement.WebElement (session=\"b66b84bd6363369b190acac3da7a194e\", element=\"2807c1fb-aeeb-401c-af6e-a8e738de66cc\")>,\n",
       " <selenium.webdriver.remote.webelement.WebElement (session=\"b66b84bd6363369b190acac3da7a194e\", element=\"6ccd5737-dbae-4d6a-aff8-f76953096f85\")>]"
      ]
     },
     "execution_count": 111,
     "metadata": {},
     "output_type": "execute_result"
    }
   ],
   "source": [
    "experiance_req_tags=driver.find_elements_by_xpath(\"//div[@class='salaries sbold-list-header']\")\n",
    "experiance_req_tags[0:10]"
   ]
  },
  {
   "cell_type": "code",
   "execution_count": 112,
   "id": "babff88f",
   "metadata": {},
   "outputs": [
    {
     "data": {
      "text/plain": [
       "['Data Scientist\\n . \\n3-4 yrs exp',\n",
       " 'Data Scientist\\n . \\n2 yrs exp',\n",
       " 'Data Scientist\\n . \\n3-4 yrs exp',\n",
       " 'Data Scientist\\n . \\n2-4 yrs exp',\n",
       " 'Data Scientist\\n . \\n2-4 yrs exp',\n",
       " 'Data Scientist\\n . \\n3-4 yrs exp',\n",
       " 'Data Scientist\\n . \\n4 yrs exp',\n",
       " 'Data Scientist\\n . \\n4 yrs exp',\n",
       " 'Data Scientist\\n . \\n3-4 yrs exp',\n",
       " 'Data Scientist\\n . \\n2-4 yrs exp']"
      ]
     },
     "execution_count": 112,
     "metadata": {},
     "output_type": "execute_result"
    }
   ],
   "source": [
    "for i in experiance_req_tags:\n",
    "    experiance=i.text\n",
    "    experiance_req.append(experiance)\n",
    "experiance_req[0:10]  "
   ]
  },
  {
   "cell_type": "code",
   "execution_count": 113,
   "id": "7e24785e",
   "metadata": {},
   "outputs": [
    {
     "name": "stdout",
     "output_type": "stream",
     "text": [
      "10 10 30 20 10\n"
     ]
    }
   ],
   "source": [
    "print(len(company_names),len(average_salary),len(minimum_salary),len(maximum_salary),len(experiance_req))"
   ]
  },
  {
   "cell_type": "code",
   "execution_count": 3,
   "id": "99dce205",
   "metadata": {},
   "outputs": [],
   "source": [
    "#Q6\n",
    "driver = webdriver.Chrome(r\"C:/Users/SAI BABA/Downloads/chromedriver_win32/chromedriver.exe\")"
   ]
  },
  {
   "cell_type": "code",
   "execution_count": 4,
   "id": "d3e69b9e",
   "metadata": {},
   "outputs": [],
   "source": [
    "driver.get('https://www.flipkart.com/')"
   ]
  },
  {
   "cell_type": "code",
   "execution_count": 5,
   "id": "ca8493b6",
   "metadata": {},
   "outputs": [],
   "source": [
    "\n",
    "search_loc=driver.find_element_by_xpath(\"//input[@class='_3704LK']\")\n",
    "search_loc.send_keys(\"sneakers\")"
   ]
  },
  {
   "cell_type": "code",
   "execution_count": 6,
   "id": "95b7c28a",
   "metadata": {},
   "outputs": [],
   "source": [
    "search_btn=driver.find_element_by_xpath(\"//button[@class='L0Z3Pu']\")\n",
    "search_btn.click()"
   ]
  },
  {
   "cell_type": "code",
   "execution_count": 7,
   "id": "b6275f59",
   "metadata": {},
   "outputs": [],
   "source": [
    "brand_list=[]\n",
    "product_description=[]\n",
    "price_list=[]"
   ]
  },
  {
   "cell_type": "code",
   "execution_count": 8,
   "id": "731adf8f",
   "metadata": {},
   "outputs": [
    {
     "data": {
      "text/plain": [
       "[<selenium.webdriver.remote.webelement.WebElement (session=\"5723289ace2f7dcd4b058355f3812a93\", element=\"6728710e-3645-4693-8691-6f735f510168\")>,\n",
       " <selenium.webdriver.remote.webelement.WebElement (session=\"5723289ace2f7dcd4b058355f3812a93\", element=\"8fb39b4f-40a8-44aa-8ec7-146631ce12e4\")>,\n",
       " <selenium.webdriver.remote.webelement.WebElement (session=\"5723289ace2f7dcd4b058355f3812a93\", element=\"1ee5db5c-ca41-4c3f-8f20-766039a32276\")>,\n",
       " <selenium.webdriver.remote.webelement.WebElement (session=\"5723289ace2f7dcd4b058355f3812a93\", element=\"5f70b6e4-d9a2-45ea-8329-d6d25d322ac8\")>,\n",
       " <selenium.webdriver.remote.webelement.WebElement (session=\"5723289ace2f7dcd4b058355f3812a93\", element=\"4c3d94d2-c5c6-4f6b-a200-7439d2a4b6d1\")>,\n",
       " <selenium.webdriver.remote.webelement.WebElement (session=\"5723289ace2f7dcd4b058355f3812a93\", element=\"b62de3d3-848c-4567-b7f4-c169f13b3474\")>,\n",
       " <selenium.webdriver.remote.webelement.WebElement (session=\"5723289ace2f7dcd4b058355f3812a93\", element=\"9f78ce3e-61ac-4813-8c2d-1095268eb1d1\")>,\n",
       " <selenium.webdriver.remote.webelement.WebElement (session=\"5723289ace2f7dcd4b058355f3812a93\", element=\"f598d201-d359-4974-a652-58bf743dcb1a\")>,\n",
       " <selenium.webdriver.remote.webelement.WebElement (session=\"5723289ace2f7dcd4b058355f3812a93\", element=\"037a40a9-a450-41f1-8679-40c80d8adece\")>,\n",
       " <selenium.webdriver.remote.webelement.WebElement (session=\"5723289ace2f7dcd4b058355f3812a93\", element=\"5cc1898a-99f2-48d0-a0cc-ab17217ab8d7\")>,\n",
       " <selenium.webdriver.remote.webelement.WebElement (session=\"5723289ace2f7dcd4b058355f3812a93\", element=\"906dfdb3-f7a0-41e7-b923-81116a6e5ccd\")>,\n",
       " <selenium.webdriver.remote.webelement.WebElement (session=\"5723289ace2f7dcd4b058355f3812a93\", element=\"695e56b1-3b7a-4b79-96f8-46f9d3ffe447\")>,\n",
       " <selenium.webdriver.remote.webelement.WebElement (session=\"5723289ace2f7dcd4b058355f3812a93\", element=\"fed67359-c3fc-48ca-97b7-99f7c2f58f5b\")>,\n",
       " <selenium.webdriver.remote.webelement.WebElement (session=\"5723289ace2f7dcd4b058355f3812a93\", element=\"9d92e8c6-6da0-43da-8ac2-131657127a4a\")>,\n",
       " <selenium.webdriver.remote.webelement.WebElement (session=\"5723289ace2f7dcd4b058355f3812a93\", element=\"d6acd5d2-26e5-420a-b9dc-4b3977746ff1\")>,\n",
       " <selenium.webdriver.remote.webelement.WebElement (session=\"5723289ace2f7dcd4b058355f3812a93\", element=\"8ed4fcea-c3f0-415c-bfec-df998a2769b7\")>,\n",
       " <selenium.webdriver.remote.webelement.WebElement (session=\"5723289ace2f7dcd4b058355f3812a93\", element=\"ac93f2cf-1a16-45b2-9b3c-14b33fb789a7\")>,\n",
       " <selenium.webdriver.remote.webelement.WebElement (session=\"5723289ace2f7dcd4b058355f3812a93\", element=\"15883e08-4d4d-42f6-b9f6-4cb6703b698f\")>,\n",
       " <selenium.webdriver.remote.webelement.WebElement (session=\"5723289ace2f7dcd4b058355f3812a93\", element=\"e2084ebd-0818-4c69-ae01-b078e5136e33\")>,\n",
       " <selenium.webdriver.remote.webelement.WebElement (session=\"5723289ace2f7dcd4b058355f3812a93\", element=\"bee53455-396a-48a4-821f-07a9887791c5\")>,\n",
       " <selenium.webdriver.remote.webelement.WebElement (session=\"5723289ace2f7dcd4b058355f3812a93\", element=\"e69b0a0a-4ce8-44d3-b2e3-f5afe28e8fcc\")>,\n",
       " <selenium.webdriver.remote.webelement.WebElement (session=\"5723289ace2f7dcd4b058355f3812a93\", element=\"93629c56-3ee5-4d66-b225-12b812276592\")>,\n",
       " <selenium.webdriver.remote.webelement.WebElement (session=\"5723289ace2f7dcd4b058355f3812a93\", element=\"6e307acc-a085-4328-8018-c5a15a0483da\")>,\n",
       " <selenium.webdriver.remote.webelement.WebElement (session=\"5723289ace2f7dcd4b058355f3812a93\", element=\"362ef893-f1dc-4f87-98a0-526f5b512f68\")>,\n",
       " <selenium.webdriver.remote.webelement.WebElement (session=\"5723289ace2f7dcd4b058355f3812a93\", element=\"306d7c3b-1fe8-444b-b9c1-28a1902fd997\")>,\n",
       " <selenium.webdriver.remote.webelement.WebElement (session=\"5723289ace2f7dcd4b058355f3812a93\", element=\"281e3c87-d03e-4911-b452-2abe800bd826\")>,\n",
       " <selenium.webdriver.remote.webelement.WebElement (session=\"5723289ace2f7dcd4b058355f3812a93\", element=\"7736f6fc-d9c4-48f5-95ad-7893df23371f\")>,\n",
       " <selenium.webdriver.remote.webelement.WebElement (session=\"5723289ace2f7dcd4b058355f3812a93\", element=\"7d036a7e-6566-44c3-9be2-f15fc35c26f4\")>,\n",
       " <selenium.webdriver.remote.webelement.WebElement (session=\"5723289ace2f7dcd4b058355f3812a93\", element=\"58b59e19-08ec-4af4-8612-e5e09f8e108a\")>,\n",
       " <selenium.webdriver.remote.webelement.WebElement (session=\"5723289ace2f7dcd4b058355f3812a93\", element=\"8bdd0226-42c0-4051-b992-c1d2bdd06a31\")>,\n",
       " <selenium.webdriver.remote.webelement.WebElement (session=\"5723289ace2f7dcd4b058355f3812a93\", element=\"dd1cb1e8-2a9c-453b-8b0f-362940433333\")>,\n",
       " <selenium.webdriver.remote.webelement.WebElement (session=\"5723289ace2f7dcd4b058355f3812a93\", element=\"785afa88-277d-4e44-92ab-ae694606b0c2\")>,\n",
       " <selenium.webdriver.remote.webelement.WebElement (session=\"5723289ace2f7dcd4b058355f3812a93\", element=\"ab4c371d-fe1a-41cb-8eee-2d286ae64f75\")>,\n",
       " <selenium.webdriver.remote.webelement.WebElement (session=\"5723289ace2f7dcd4b058355f3812a93\", element=\"90c379af-5069-4c7f-8e13-37c2cdc9e17a\")>,\n",
       " <selenium.webdriver.remote.webelement.WebElement (session=\"5723289ace2f7dcd4b058355f3812a93\", element=\"dd5b10e4-1b34-4095-800a-6fc2f2cf38f6\")>,\n",
       " <selenium.webdriver.remote.webelement.WebElement (session=\"5723289ace2f7dcd4b058355f3812a93\", element=\"cd1fc98d-45d5-4bb1-851e-48942ef9c937\")>,\n",
       " <selenium.webdriver.remote.webelement.WebElement (session=\"5723289ace2f7dcd4b058355f3812a93\", element=\"80ecc10b-21ee-448e-9ff7-e249c1cd4103\")>,\n",
       " <selenium.webdriver.remote.webelement.WebElement (session=\"5723289ace2f7dcd4b058355f3812a93\", element=\"36896dcd-39a5-42ec-8285-b8b2dd11468d\")>,\n",
       " <selenium.webdriver.remote.webelement.WebElement (session=\"5723289ace2f7dcd4b058355f3812a93\", element=\"de195af4-9729-4467-b1b2-9be14eadfdcd\")>,\n",
       " <selenium.webdriver.remote.webelement.WebElement (session=\"5723289ace2f7dcd4b058355f3812a93\", element=\"315a87de-6282-4a74-af1e-be120b41b89c\")>]"
      ]
     },
     "execution_count": 8,
     "metadata": {},
     "output_type": "execute_result"
    }
   ],
   "source": [
    "#so lets extract all the tag having brand name\n",
    "brand_tags=driver.find_elements_by_xpath(\"//div[@class='_2WkVRV']\")\n",
    "brand_tags[0:100]"
   ]
  },
  {
   "cell_type": "code",
   "execution_count": 9,
   "id": "f53a0a70",
   "metadata": {},
   "outputs": [
    {
     "data": {
      "text/plain": [
       "['LEE COOPER',\n",
       " 'PUMA',\n",
       " 'URBANBOX',\n",
       " 'BRUTON',\n",
       " 'BIRDE',\n",
       " 'T-ROCK',\n",
       " 'Edoeviv',\n",
       " 'RED TAPE',\n",
       " 'Shoes Bank',\n",
       " 'Chevit',\n",
       " 'RapidBox',\n",
       " 'BIRDE',\n",
       " 'Numenzo',\n",
       " 'Rzisbo',\n",
       " 'Kraasa',\n",
       " 'RED TAPE',\n",
       " 'aadi',\n",
       " 'ganpati traders',\n",
       " 'SCATCHITE',\n",
       " 'RED TAPE',\n",
       " 'BIRDE',\n",
       " 'Numenzo',\n",
       " 'BRUTON',\n",
       " 'RED TAPE',\n",
       " 'Trendmode',\n",
       " 'URBANBOX',\n",
       " 'Robbie jones',\n",
       " 'HRX by Hrithik Roshan',\n",
       " 'Clymb',\n",
       " 'Chevit',\n",
       " 'Numenzo',\n",
       " 'LEE COOPER',\n",
       " 'Robbie jones',\n",
       " 'D-SNEAKERZ',\n",
       " 'Chevit',\n",
       " 'PUMA',\n",
       " 'PACIFIER',\n",
       " 'India hub',\n",
       " 'Extoes',\n",
       " 'RED TAPE']"
      ]
     },
     "execution_count": 9,
     "metadata": {},
     "output_type": "execute_result"
    }
   ],
   "source": [
    "for i in brand_tags:\n",
    "    brand=i.text\n",
    "    brand_list.append(brand)\n",
    "brand_list[0:100]  "
   ]
  },
  {
   "cell_type": "code",
   "execution_count": 10,
   "id": "99469aed",
   "metadata": {},
   "outputs": [
    {
     "data": {
      "text/plain": [
       "[<selenium.webdriver.remote.webelement.WebElement (session=\"5723289ace2f7dcd4b058355f3812a93\", element=\"85cd3bda-e7a9-4a1f-b9a0-7cfe355763cc\")>,\n",
       " <selenium.webdriver.remote.webelement.WebElement (session=\"5723289ace2f7dcd4b058355f3812a93\", element=\"5045a353-4f46-4ec6-b9f5-1cd356832f18\")>,\n",
       " <selenium.webdriver.remote.webelement.WebElement (session=\"5723289ace2f7dcd4b058355f3812a93\", element=\"6f389c9f-1163-454e-a564-e421a6677741\")>,\n",
       " <selenium.webdriver.remote.webelement.WebElement (session=\"5723289ace2f7dcd4b058355f3812a93\", element=\"752810f9-3bb2-4014-9f32-dfd7fec90e8d\")>,\n",
       " <selenium.webdriver.remote.webelement.WebElement (session=\"5723289ace2f7dcd4b058355f3812a93\", element=\"74a2393b-8a51-41e7-9ae4-7fb85c90b5cb\")>,\n",
       " <selenium.webdriver.remote.webelement.WebElement (session=\"5723289ace2f7dcd4b058355f3812a93\", element=\"7df8c137-82cb-4f7a-bb29-e07417d431f2\")>,\n",
       " <selenium.webdriver.remote.webelement.WebElement (session=\"5723289ace2f7dcd4b058355f3812a93\", element=\"0c11eb3c-f7c0-4a19-92f8-d85708d5ebe4\")>,\n",
       " <selenium.webdriver.remote.webelement.WebElement (session=\"5723289ace2f7dcd4b058355f3812a93\", element=\"c1c7c745-3aa8-4fc7-9539-d4c67aa731d4\")>,\n",
       " <selenium.webdriver.remote.webelement.WebElement (session=\"5723289ace2f7dcd4b058355f3812a93\", element=\"ccd84df8-1e57-4de9-b46d-568c378430e1\")>,\n",
       " <selenium.webdriver.remote.webelement.WebElement (session=\"5723289ace2f7dcd4b058355f3812a93\", element=\"ae9b6f2e-c2a2-413d-bb7e-12aeb75c846f\")>,\n",
       " <selenium.webdriver.remote.webelement.WebElement (session=\"5723289ace2f7dcd4b058355f3812a93\", element=\"96f9acc5-8e43-447c-ba0e-748be3fbc2ce\")>,\n",
       " <selenium.webdriver.remote.webelement.WebElement (session=\"5723289ace2f7dcd4b058355f3812a93\", element=\"c8dd7477-3fc2-4004-97d6-4c872b91d82c\")>,\n",
       " <selenium.webdriver.remote.webelement.WebElement (session=\"5723289ace2f7dcd4b058355f3812a93\", element=\"0db473c3-aea1-4655-a5d0-df2236f0fed3\")>,\n",
       " <selenium.webdriver.remote.webelement.WebElement (session=\"5723289ace2f7dcd4b058355f3812a93\", element=\"a6acd9ea-049d-46b8-9527-33423cceb81c\")>,\n",
       " <selenium.webdriver.remote.webelement.WebElement (session=\"5723289ace2f7dcd4b058355f3812a93\", element=\"1846a714-4a0e-4733-851b-1a026920d7d2\")>,\n",
       " <selenium.webdriver.remote.webelement.WebElement (session=\"5723289ace2f7dcd4b058355f3812a93\", element=\"0d2d57ba-d69f-4d97-8ccd-a38b763f369c\")>,\n",
       " <selenium.webdriver.remote.webelement.WebElement (session=\"5723289ace2f7dcd4b058355f3812a93\", element=\"35a870f1-7470-4512-9cd0-fae09b4a7195\")>,\n",
       " <selenium.webdriver.remote.webelement.WebElement (session=\"5723289ace2f7dcd4b058355f3812a93\", element=\"fb14f093-2946-49d1-8594-753579af14ef\")>,\n",
       " <selenium.webdriver.remote.webelement.WebElement (session=\"5723289ace2f7dcd4b058355f3812a93\", element=\"ed776129-5f9d-4861-98fb-34cb029eb31c\")>,\n",
       " <selenium.webdriver.remote.webelement.WebElement (session=\"5723289ace2f7dcd4b058355f3812a93\", element=\"ea0d3567-101d-47d3-8ee6-6049895608bd\")>,\n",
       " <selenium.webdriver.remote.webelement.WebElement (session=\"5723289ace2f7dcd4b058355f3812a93\", element=\"5524597e-8307-4b07-a11f-f70193b2d95f\")>,\n",
       " <selenium.webdriver.remote.webelement.WebElement (session=\"5723289ace2f7dcd4b058355f3812a93\", element=\"11c52b74-c144-4298-b4af-252b9e78a79c\")>,\n",
       " <selenium.webdriver.remote.webelement.WebElement (session=\"5723289ace2f7dcd4b058355f3812a93\", element=\"95140432-e0a5-4123-819d-9a617abeafb4\")>,\n",
       " <selenium.webdriver.remote.webelement.WebElement (session=\"5723289ace2f7dcd4b058355f3812a93\", element=\"62166e0a-9f32-4498-aeb1-84b16b04dc8b\")>,\n",
       " <selenium.webdriver.remote.webelement.WebElement (session=\"5723289ace2f7dcd4b058355f3812a93\", element=\"649e26ad-69bf-4b4b-85be-c4ca6088bbda\")>,\n",
       " <selenium.webdriver.remote.webelement.WebElement (session=\"5723289ace2f7dcd4b058355f3812a93\", element=\"90ec08ae-0cd5-41c3-aea3-4239a1e8ce05\")>,\n",
       " <selenium.webdriver.remote.webelement.WebElement (session=\"5723289ace2f7dcd4b058355f3812a93\", element=\"bdb69bbd-1214-42cd-80ba-b8e0fbd01d60\")>,\n",
       " <selenium.webdriver.remote.webelement.WebElement (session=\"5723289ace2f7dcd4b058355f3812a93\", element=\"701d3aca-327c-48b6-9def-88c294bce88a\")>,\n",
       " <selenium.webdriver.remote.webelement.WebElement (session=\"5723289ace2f7dcd4b058355f3812a93\", element=\"c08e143b-43e3-4b76-b51f-ebaccc20900e\")>,\n",
       " <selenium.webdriver.remote.webelement.WebElement (session=\"5723289ace2f7dcd4b058355f3812a93\", element=\"a346b1f9-256b-4110-9159-09c2acddb191\")>,\n",
       " <selenium.webdriver.remote.webelement.WebElement (session=\"5723289ace2f7dcd4b058355f3812a93\", element=\"1df6718f-bd8a-4122-9fde-e6f98697ed4c\")>,\n",
       " <selenium.webdriver.remote.webelement.WebElement (session=\"5723289ace2f7dcd4b058355f3812a93\", element=\"49aad83f-5ea3-4f1a-9361-6089fec4f752\")>,\n",
       " <selenium.webdriver.remote.webelement.WebElement (session=\"5723289ace2f7dcd4b058355f3812a93\", element=\"2bc51b90-d43b-4463-8d2c-9274d098f94c\")>,\n",
       " <selenium.webdriver.remote.webelement.WebElement (session=\"5723289ace2f7dcd4b058355f3812a93\", element=\"421711d2-da71-441e-b358-c946328528cf\")>,\n",
       " <selenium.webdriver.remote.webelement.WebElement (session=\"5723289ace2f7dcd4b058355f3812a93\", element=\"3a6bb7bb-9283-4f36-a16d-1240a651cb14\")>,\n",
       " <selenium.webdriver.remote.webelement.WebElement (session=\"5723289ace2f7dcd4b058355f3812a93\", element=\"726212e1-31cf-463e-848e-6216330258cc\")>]"
      ]
     },
     "execution_count": 10,
     "metadata": {},
     "output_type": "execute_result"
    }
   ],
   "source": [
    "#extract all the tag having description\n",
    "description_tags=driver.find_elements_by_xpath(\"//a[@class='IRpwTa']\")\n",
    "description_tags[0:40]"
   ]
  },
  {
   "cell_type": "code",
   "execution_count": 11,
   "id": "7b08e6a1",
   "metadata": {},
   "outputs": [
    {
     "data": {
      "text/plain": [
       "['Sneakers For Men',\n",
       " 'Puma Smash v2 Buck Sneakers For Men',\n",
       " 'Modern Trendy Sneakers Shoes Sneakers For Men',\n",
       " 'Sports Running Shoes Sneakers For Men',\n",
       " 'Synthetic Leather Casual Partywear Wedding Sneakers Sho...',\n",
       " \"Luxury Branded Fashionable Men's Casual Walking Partywe...\",\n",
       " 'Classic Sneakers For Men',\n",
       " \"White Sneaker For Men's/Boy's Sneakers For Men\",\n",
       " 'Super Stylish & Trendy Combo Pack of 02 Pairs Sneakers ...',\n",
       " 'Combo Pack of 2 Casual Shoes Sneakers For Men',\n",
       " 'White Sneaker For Men Sneakers For Men',\n",
       " 'Sneakers For Men',\n",
       " 'Shark-41 Sneakers For Men',\n",
       " 'Sneakers For Men',\n",
       " 'Sneakers For Men',\n",
       " 'Sneakers Sneakers For Men',\n",
       " 'Sneakers For Men',\n",
       " 'Combo Pack of 2 Casual Shoes Sneakers For Men',\n",
       " '411 Casual Sneakers For Men',\n",
       " 'Lattest Sneakers Shoe Sneakers For Men',\n",
       " 'Sneakers For Men',\n",
       " 'Sneakers For Men',\n",
       " 'Casual Sneakers Black Shoes For Men Sneakers For Men',\n",
       " 'Sneakers For Men',\n",
       " 'Sneakers For Men',\n",
       " 'Combo Pack of 4 Casual Sneakers With Sneakers For Men',\n",
       " 'Numenzo Black Sneaker For Men Sneakers For Men',\n",
       " 'Sneakers For Men',\n",
       " 'Sneakers For Men',\n",
       " \"Casual , Partywear Sneakers Shoes For Men's And Boys Wh...\",\n",
       " 'Unique & Perfect Collection Combo Pack of 02 Shoes for ...',\n",
       " 'Anzarun Lite Sneakers For Men',\n",
       " 'Sneakers For Men',\n",
       " 'Fashionable casual sneakers shoes Sneakers For Men',\n",
       " 'Modern Trendy Shoes Combo pack of 4 Sneakers For Men',\n",
       " 'Sneakers For Men']"
      ]
     },
     "execution_count": 11,
     "metadata": {},
     "output_type": "execute_result"
    }
   ],
   "source": [
    "for i in description_tags:\n",
    "    description=i.text\n",
    "    product_description.append(description)\n",
    "product_description[0:40]  "
   ]
  },
  {
   "cell_type": "code",
   "execution_count": 12,
   "id": "e24142bc",
   "metadata": {},
   "outputs": [
    {
     "data": {
      "text/plain": [
       "[<selenium.webdriver.remote.webelement.WebElement (session=\"5723289ace2f7dcd4b058355f3812a93\", element=\"4e0bc58f-4b6b-4511-b811-509e2878f3d9\")>,\n",
       " <selenium.webdriver.remote.webelement.WebElement (session=\"5723289ace2f7dcd4b058355f3812a93\", element=\"d3ad990b-be6e-4fd3-a12a-a158bd9eac47\")>,\n",
       " <selenium.webdriver.remote.webelement.WebElement (session=\"5723289ace2f7dcd4b058355f3812a93\", element=\"41843ebf-b4e0-4874-bbe2-1d5831422430\")>,\n",
       " <selenium.webdriver.remote.webelement.WebElement (session=\"5723289ace2f7dcd4b058355f3812a93\", element=\"4858b253-6781-41e1-9bb3-496c012a44da\")>,\n",
       " <selenium.webdriver.remote.webelement.WebElement (session=\"5723289ace2f7dcd4b058355f3812a93\", element=\"fdd321c6-260c-4211-92e9-1c890a73a1a3\")>,\n",
       " <selenium.webdriver.remote.webelement.WebElement (session=\"5723289ace2f7dcd4b058355f3812a93\", element=\"4d22bce1-2fb4-4a97-a210-4528922cd429\")>,\n",
       " <selenium.webdriver.remote.webelement.WebElement (session=\"5723289ace2f7dcd4b058355f3812a93\", element=\"44742565-b688-4d1f-a686-9a25e77b1f97\")>,\n",
       " <selenium.webdriver.remote.webelement.WebElement (session=\"5723289ace2f7dcd4b058355f3812a93\", element=\"2faecd33-2318-4fbc-8a86-acfe92c42fd2\")>,\n",
       " <selenium.webdriver.remote.webelement.WebElement (session=\"5723289ace2f7dcd4b058355f3812a93\", element=\"fea34d3d-e373-4ca5-bab1-20c2ff1b8e78\")>,\n",
       " <selenium.webdriver.remote.webelement.WebElement (session=\"5723289ace2f7dcd4b058355f3812a93\", element=\"9f07f3fd-e4d2-4c82-a315-a9e3bb7a0485\")>,\n",
       " <selenium.webdriver.remote.webelement.WebElement (session=\"5723289ace2f7dcd4b058355f3812a93\", element=\"8ce3754c-b43b-4852-9a6e-5fd81bd32e9c\")>,\n",
       " <selenium.webdriver.remote.webelement.WebElement (session=\"5723289ace2f7dcd4b058355f3812a93\", element=\"b507e8e8-d266-4857-b0af-abf1cb705073\")>,\n",
       " <selenium.webdriver.remote.webelement.WebElement (session=\"5723289ace2f7dcd4b058355f3812a93\", element=\"04db8407-b982-49b2-b083-e0519b488b41\")>,\n",
       " <selenium.webdriver.remote.webelement.WebElement (session=\"5723289ace2f7dcd4b058355f3812a93\", element=\"6774c5f4-4618-4390-ac80-52dc719c8d60\")>,\n",
       " <selenium.webdriver.remote.webelement.WebElement (session=\"5723289ace2f7dcd4b058355f3812a93\", element=\"8392511c-5abd-4549-8c11-1e8169fda112\")>,\n",
       " <selenium.webdriver.remote.webelement.WebElement (session=\"5723289ace2f7dcd4b058355f3812a93\", element=\"fa1c9308-9c8b-439b-8840-c9085621d151\")>,\n",
       " <selenium.webdriver.remote.webelement.WebElement (session=\"5723289ace2f7dcd4b058355f3812a93\", element=\"843d4491-bdd1-438a-a594-1aaa93d9d4ef\")>,\n",
       " <selenium.webdriver.remote.webelement.WebElement (session=\"5723289ace2f7dcd4b058355f3812a93\", element=\"7eecd5a6-2783-49d8-b21b-3624c411ba9b\")>,\n",
       " <selenium.webdriver.remote.webelement.WebElement (session=\"5723289ace2f7dcd4b058355f3812a93\", element=\"860c909e-1541-4b49-b474-a7bab9e2e748\")>,\n",
       " <selenium.webdriver.remote.webelement.WebElement (session=\"5723289ace2f7dcd4b058355f3812a93\", element=\"3b3bb0ef-0571-4f83-9b4a-9fb2f4d71534\")>,\n",
       " <selenium.webdriver.remote.webelement.WebElement (session=\"5723289ace2f7dcd4b058355f3812a93\", element=\"b9de7ad8-c4be-4b28-8c75-5a7e62149568\")>,\n",
       " <selenium.webdriver.remote.webelement.WebElement (session=\"5723289ace2f7dcd4b058355f3812a93\", element=\"a98f0e63-2f80-492b-b4d2-f1c674cad302\")>,\n",
       " <selenium.webdriver.remote.webelement.WebElement (session=\"5723289ace2f7dcd4b058355f3812a93\", element=\"1a879aa2-f6f3-4519-8f46-e8bdd10f6088\")>,\n",
       " <selenium.webdriver.remote.webelement.WebElement (session=\"5723289ace2f7dcd4b058355f3812a93\", element=\"45461938-c2b3-4c37-8926-6f57a1669f3a\")>,\n",
       " <selenium.webdriver.remote.webelement.WebElement (session=\"5723289ace2f7dcd4b058355f3812a93\", element=\"e3fd5bd3-e0c2-4923-a8ac-7a6df5847bb6\")>,\n",
       " <selenium.webdriver.remote.webelement.WebElement (session=\"5723289ace2f7dcd4b058355f3812a93\", element=\"41e05c0c-bb00-4ee0-8779-5fa694338400\")>,\n",
       " <selenium.webdriver.remote.webelement.WebElement (session=\"5723289ace2f7dcd4b058355f3812a93\", element=\"4889a148-3e21-45d0-91f5-ae4b60dec1b0\")>,\n",
       " <selenium.webdriver.remote.webelement.WebElement (session=\"5723289ace2f7dcd4b058355f3812a93\", element=\"afd30d07-0123-46f1-ad64-483612ba9d22\")>,\n",
       " <selenium.webdriver.remote.webelement.WebElement (session=\"5723289ace2f7dcd4b058355f3812a93\", element=\"0e0fd78f-57ee-41b6-bc99-ea1cf3084922\")>,\n",
       " <selenium.webdriver.remote.webelement.WebElement (session=\"5723289ace2f7dcd4b058355f3812a93\", element=\"03732c0f-d644-453d-a343-59fd47ca4275\")>,\n",
       " <selenium.webdriver.remote.webelement.WebElement (session=\"5723289ace2f7dcd4b058355f3812a93\", element=\"f7fd9bf4-931a-40b9-946f-9b7ec961bf31\")>,\n",
       " <selenium.webdriver.remote.webelement.WebElement (session=\"5723289ace2f7dcd4b058355f3812a93\", element=\"3250605e-2d03-4459-997c-fc151955503e\")>,\n",
       " <selenium.webdriver.remote.webelement.WebElement (session=\"5723289ace2f7dcd4b058355f3812a93\", element=\"245671c2-32e9-4c88-a417-d39f7bcc9657\")>,\n",
       " <selenium.webdriver.remote.webelement.WebElement (session=\"5723289ace2f7dcd4b058355f3812a93\", element=\"570f0221-2472-4a5c-b0c7-993e8ea2cc4d\")>,\n",
       " <selenium.webdriver.remote.webelement.WebElement (session=\"5723289ace2f7dcd4b058355f3812a93\", element=\"a8da807d-21d4-483c-ad64-bf85f373f030\")>,\n",
       " <selenium.webdriver.remote.webelement.WebElement (session=\"5723289ace2f7dcd4b058355f3812a93\", element=\"0e501b9a-c384-4b9d-bb29-2341e7da6f10\")>,\n",
       " <selenium.webdriver.remote.webelement.WebElement (session=\"5723289ace2f7dcd4b058355f3812a93\", element=\"db677ee5-914c-4e12-af32-d0545451f310\")>,\n",
       " <selenium.webdriver.remote.webelement.WebElement (session=\"5723289ace2f7dcd4b058355f3812a93\", element=\"67cd6471-efcf-48f6-82eb-69b10557da9a\")>,\n",
       " <selenium.webdriver.remote.webelement.WebElement (session=\"5723289ace2f7dcd4b058355f3812a93\", element=\"dd10c1a4-60ff-4535-84a1-5b3ec9a9b5be\")>,\n",
       " <selenium.webdriver.remote.webelement.WebElement (session=\"5723289ace2f7dcd4b058355f3812a93\", element=\"53f5a18a-1cce-4bd4-9a65-316f23207cad\")>]"
      ]
     },
     "execution_count": 12,
     "metadata": {},
     "output_type": "execute_result"
    }
   ],
   "source": [
    "#extract all the tag having price\n",
    "price_tags=driver.find_elements_by_xpath(\"//div[@class='_30jeq3']\")\n",
    "price_tags[0:100]"
   ]
  },
  {
   "cell_type": "code",
   "execution_count": 13,
   "id": "ba709588",
   "metadata": {},
   "outputs": [
    {
     "data": {
      "text/plain": [
       "['₹1,484',\n",
       " '₹1,749',\n",
       " '₹247',\n",
       " '₹299',\n",
       " '₹299',\n",
       " '₹379',\n",
       " '₹499',\n",
       " '₹1,398',\n",
       " '₹331',\n",
       " '₹536',\n",
       " '₹680',\n",
       " '₹423',\n",
       " '₹479',\n",
       " '₹549',\n",
       " '₹444',\n",
       " '₹1,049',\n",
       " '₹399',\n",
       " '₹183',\n",
       " '₹398',\n",
       " '₹1,373',\n",
       " '₹422',\n",
       " '₹499',\n",
       " '₹299',\n",
       " '₹1,373',\n",
       " '₹249',\n",
       " '₹220',\n",
       " '₹451',\n",
       " '₹1,599',\n",
       " '₹649',\n",
       " '₹769',\n",
       " '₹499',\n",
       " '₹1,374',\n",
       " '₹474',\n",
       " '₹348',\n",
       " '₹420',\n",
       " '₹1,799',\n",
       " '₹499',\n",
       " '₹449',\n",
       " '₹898',\n",
       " '₹1,373']"
      ]
     },
     "execution_count": 13,
     "metadata": {},
     "output_type": "execute_result"
    }
   ],
   "source": [
    "for i in price_tags:\n",
    "    price=i.text\n",
    "    price_list.append(price)\n",
    "price_list[0:100] "
   ]
  },
  {
   "cell_type": "code",
   "execution_count": 14,
   "id": "b82d41ba",
   "metadata": {},
   "outputs": [
    {
     "name": "stdout",
     "output_type": "stream",
     "text": [
      "40 36 40\n"
     ]
    }
   ],
   "source": [
    "print(len(brand_list),len(product_description),len(price_list))"
   ]
  },
  {
   "cell_type": "code",
   "execution_count": 15,
   "id": "56dfa3b1",
   "metadata": {},
   "outputs": [
    {
     "ename": "ValueError",
     "evalue": "Length of values (36) does not match length of index (40)",
     "output_type": "error",
     "traceback": [
      "\u001b[1;31m---------------------------------------------------------------------------\u001b[0m",
      "\u001b[1;31mValueError\u001b[0m                                Traceback (most recent call last)",
      "\u001b[1;32m<ipython-input-15-af8c0aa29ce0>\u001b[0m in \u001b[0;36m<module>\u001b[1;34m\u001b[0m\n\u001b[0;32m      1\u001b[0m \u001b[0msneakers\u001b[0m\u001b[1;33m=\u001b[0m\u001b[0mpd\u001b[0m\u001b[1;33m.\u001b[0m\u001b[0mDataFrame\u001b[0m\u001b[1;33m(\u001b[0m\u001b[1;33m{\u001b[0m\u001b[1;33m}\u001b[0m\u001b[1;33m)\u001b[0m\u001b[1;33m\u001b[0m\u001b[1;33m\u001b[0m\u001b[0m\n\u001b[0;32m      2\u001b[0m \u001b[0msneakers\u001b[0m\u001b[1;33m[\u001b[0m\u001b[1;34m'brand'\u001b[0m\u001b[1;33m]\u001b[0m\u001b[1;33m=\u001b[0m\u001b[0mbrand_list\u001b[0m\u001b[1;33m\u001b[0m\u001b[1;33m\u001b[0m\u001b[0m\n\u001b[1;32m----> 3\u001b[1;33m \u001b[0msneakers\u001b[0m\u001b[1;33m[\u001b[0m\u001b[1;34m'description'\u001b[0m\u001b[1;33m]\u001b[0m\u001b[1;33m=\u001b[0m\u001b[0mproduct_description\u001b[0m\u001b[1;33m\u001b[0m\u001b[1;33m\u001b[0m\u001b[0m\n\u001b[0m\u001b[0;32m      4\u001b[0m \u001b[0msneakers\u001b[0m\u001b[1;33m[\u001b[0m\u001b[1;34m'price'\u001b[0m\u001b[1;33m]\u001b[0m\u001b[1;33m=\u001b[0m\u001b[0mprice_list\u001b[0m\u001b[1;33m\u001b[0m\u001b[1;33m\u001b[0m\u001b[0m\n",
      "\u001b[1;32m~\\anaconda3\\lib\\site-packages\\pandas\\core\\frame.py\u001b[0m in \u001b[0;36m__setitem__\u001b[1;34m(self, key, value)\u001b[0m\n\u001b[0;32m   3161\u001b[0m         \u001b[1;32melse\u001b[0m\u001b[1;33m:\u001b[0m\u001b[1;33m\u001b[0m\u001b[1;33m\u001b[0m\u001b[0m\n\u001b[0;32m   3162\u001b[0m             \u001b[1;31m# set column\u001b[0m\u001b[1;33m\u001b[0m\u001b[1;33m\u001b[0m\u001b[1;33m\u001b[0m\u001b[0m\n\u001b[1;32m-> 3163\u001b[1;33m             \u001b[0mself\u001b[0m\u001b[1;33m.\u001b[0m\u001b[0m_set_item\u001b[0m\u001b[1;33m(\u001b[0m\u001b[0mkey\u001b[0m\u001b[1;33m,\u001b[0m \u001b[0mvalue\u001b[0m\u001b[1;33m)\u001b[0m\u001b[1;33m\u001b[0m\u001b[1;33m\u001b[0m\u001b[0m\n\u001b[0m\u001b[0;32m   3164\u001b[0m \u001b[1;33m\u001b[0m\u001b[0m\n\u001b[0;32m   3165\u001b[0m     \u001b[1;32mdef\u001b[0m \u001b[0m_setitem_slice\u001b[0m\u001b[1;33m(\u001b[0m\u001b[0mself\u001b[0m\u001b[1;33m,\u001b[0m \u001b[0mkey\u001b[0m\u001b[1;33m:\u001b[0m \u001b[0mslice\u001b[0m\u001b[1;33m,\u001b[0m \u001b[0mvalue\u001b[0m\u001b[1;33m)\u001b[0m\u001b[1;33m:\u001b[0m\u001b[1;33m\u001b[0m\u001b[1;33m\u001b[0m\u001b[0m\n",
      "\u001b[1;32m~\\anaconda3\\lib\\site-packages\\pandas\\core\\frame.py\u001b[0m in \u001b[0;36m_set_item\u001b[1;34m(self, key, value)\u001b[0m\n\u001b[0;32m   3240\u001b[0m         \"\"\"\n\u001b[0;32m   3241\u001b[0m         \u001b[0mself\u001b[0m\u001b[1;33m.\u001b[0m\u001b[0m_ensure_valid_index\u001b[0m\u001b[1;33m(\u001b[0m\u001b[0mvalue\u001b[0m\u001b[1;33m)\u001b[0m\u001b[1;33m\u001b[0m\u001b[1;33m\u001b[0m\u001b[0m\n\u001b[1;32m-> 3242\u001b[1;33m         \u001b[0mvalue\u001b[0m \u001b[1;33m=\u001b[0m \u001b[0mself\u001b[0m\u001b[1;33m.\u001b[0m\u001b[0m_sanitize_column\u001b[0m\u001b[1;33m(\u001b[0m\u001b[0mkey\u001b[0m\u001b[1;33m,\u001b[0m \u001b[0mvalue\u001b[0m\u001b[1;33m)\u001b[0m\u001b[1;33m\u001b[0m\u001b[1;33m\u001b[0m\u001b[0m\n\u001b[0m\u001b[0;32m   3243\u001b[0m         \u001b[0mNDFrame\u001b[0m\u001b[1;33m.\u001b[0m\u001b[0m_set_item\u001b[0m\u001b[1;33m(\u001b[0m\u001b[0mself\u001b[0m\u001b[1;33m,\u001b[0m \u001b[0mkey\u001b[0m\u001b[1;33m,\u001b[0m \u001b[0mvalue\u001b[0m\u001b[1;33m)\u001b[0m\u001b[1;33m\u001b[0m\u001b[1;33m\u001b[0m\u001b[0m\n\u001b[0;32m   3244\u001b[0m \u001b[1;33m\u001b[0m\u001b[0m\n",
      "\u001b[1;32m~\\anaconda3\\lib\\site-packages\\pandas\\core\\frame.py\u001b[0m in \u001b[0;36m_sanitize_column\u001b[1;34m(self, key, value, broadcast)\u001b[0m\n\u001b[0;32m   3897\u001b[0m \u001b[1;33m\u001b[0m\u001b[0m\n\u001b[0;32m   3898\u001b[0m             \u001b[1;31m# turn me into an ndarray\u001b[0m\u001b[1;33m\u001b[0m\u001b[1;33m\u001b[0m\u001b[1;33m\u001b[0m\u001b[0m\n\u001b[1;32m-> 3899\u001b[1;33m             \u001b[0mvalue\u001b[0m \u001b[1;33m=\u001b[0m \u001b[0msanitize_index\u001b[0m\u001b[1;33m(\u001b[0m\u001b[0mvalue\u001b[0m\u001b[1;33m,\u001b[0m \u001b[0mself\u001b[0m\u001b[1;33m.\u001b[0m\u001b[0mindex\u001b[0m\u001b[1;33m)\u001b[0m\u001b[1;33m\u001b[0m\u001b[1;33m\u001b[0m\u001b[0m\n\u001b[0m\u001b[0;32m   3900\u001b[0m             \u001b[1;32mif\u001b[0m \u001b[1;32mnot\u001b[0m \u001b[0misinstance\u001b[0m\u001b[1;33m(\u001b[0m\u001b[0mvalue\u001b[0m\u001b[1;33m,\u001b[0m \u001b[1;33m(\u001b[0m\u001b[0mnp\u001b[0m\u001b[1;33m.\u001b[0m\u001b[0mndarray\u001b[0m\u001b[1;33m,\u001b[0m \u001b[0mIndex\u001b[0m\u001b[1;33m)\u001b[0m\u001b[1;33m)\u001b[0m\u001b[1;33m:\u001b[0m\u001b[1;33m\u001b[0m\u001b[1;33m\u001b[0m\u001b[0m\n\u001b[0;32m   3901\u001b[0m                 \u001b[1;32mif\u001b[0m \u001b[0misinstance\u001b[0m\u001b[1;33m(\u001b[0m\u001b[0mvalue\u001b[0m\u001b[1;33m,\u001b[0m \u001b[0mlist\u001b[0m\u001b[1;33m)\u001b[0m \u001b[1;32mand\u001b[0m \u001b[0mlen\u001b[0m\u001b[1;33m(\u001b[0m\u001b[0mvalue\u001b[0m\u001b[1;33m)\u001b[0m \u001b[1;33m>\u001b[0m \u001b[1;36m0\u001b[0m\u001b[1;33m:\u001b[0m\u001b[1;33m\u001b[0m\u001b[1;33m\u001b[0m\u001b[0m\n",
      "\u001b[1;32m~\\anaconda3\\lib\\site-packages\\pandas\\core\\internals\\construction.py\u001b[0m in \u001b[0;36msanitize_index\u001b[1;34m(data, index)\u001b[0m\n\u001b[0;32m    749\u001b[0m     \"\"\"\n\u001b[0;32m    750\u001b[0m     \u001b[1;32mif\u001b[0m \u001b[0mlen\u001b[0m\u001b[1;33m(\u001b[0m\u001b[0mdata\u001b[0m\u001b[1;33m)\u001b[0m \u001b[1;33m!=\u001b[0m \u001b[0mlen\u001b[0m\u001b[1;33m(\u001b[0m\u001b[0mindex\u001b[0m\u001b[1;33m)\u001b[0m\u001b[1;33m:\u001b[0m\u001b[1;33m\u001b[0m\u001b[1;33m\u001b[0m\u001b[0m\n\u001b[1;32m--> 751\u001b[1;33m         raise ValueError(\n\u001b[0m\u001b[0;32m    752\u001b[0m             \u001b[1;34m\"Length of values \"\u001b[0m\u001b[1;33m\u001b[0m\u001b[1;33m\u001b[0m\u001b[0m\n\u001b[0;32m    753\u001b[0m             \u001b[1;34mf\"({len(data)}) \"\u001b[0m\u001b[1;33m\u001b[0m\u001b[1;33m\u001b[0m\u001b[0m\n",
      "\u001b[1;31mValueError\u001b[0m: Length of values (36) does not match length of index (40)"
     ]
    }
   ],
   "source": [
    "sneakers=pd.DataFrame({})\n",
    "sneakers['brand']=brand_list\n",
    "sneakers['description']=product_description\n",
    "sneakers['price']=price_list\n"
   ]
  },
  {
   "cell_type": "code",
   "execution_count": 3,
   "id": "44d01703",
   "metadata": {},
   "outputs": [],
   "source": [
    "#Q7\n",
    "driver = webdriver.Chrome(r\"C:/Users/SAI BABA/Downloads/chromedriver_win32/chromedriver.exe\")"
   ]
  },
  {
   "cell_type": "code",
   "execution_count": 4,
   "id": "86d4662f",
   "metadata": {},
   "outputs": [],
   "source": [
    "driver.get('https://www.myntra.com/shoes')"
   ]
  },
  {
   "cell_type": "code",
   "execution_count": 5,
   "id": "5aa15b55",
   "metadata": {},
   "outputs": [],
   "source": [
    "url=\"https://www.myntra.com/shoes?f=Color%3ABlack_36454f&rf=Price%3A6129.0_12019.0_6129.0%20TO%2012019.0\""
   ]
  },
  {
   "cell_type": "code",
   "execution_count": 6,
   "id": "3a51408d",
   "metadata": {},
   "outputs": [],
   "source": [
    "driver.get(url)"
   ]
  },
  {
   "cell_type": "code",
   "execution_count": 7,
   "id": "576ebbb9",
   "metadata": {},
   "outputs": [],
   "source": [
    "brand_list=[]\n",
    "product_description=[]\n",
    "price_list=[]"
   ]
  },
  {
   "cell_type": "code",
   "execution_count": 8,
   "id": "8da337e3",
   "metadata": {},
   "outputs": [
    {
     "data": {
      "text/plain": [
       "[<selenium.webdriver.remote.webelement.WebElement (session=\"4c57cfcfe75a8819929e8ed2ce0e06ca\", element=\"c8043fb9-5338-41be-848c-399578c8965f\")>,\n",
       " <selenium.webdriver.remote.webelement.WebElement (session=\"4c57cfcfe75a8819929e8ed2ce0e06ca\", element=\"02861ff4-19bd-426a-a053-edff07f39196\")>,\n",
       " <selenium.webdriver.remote.webelement.WebElement (session=\"4c57cfcfe75a8819929e8ed2ce0e06ca\", element=\"a2bc3bc1-8431-456f-9bdd-adc2cfa8b1ec\")>,\n",
       " <selenium.webdriver.remote.webelement.WebElement (session=\"4c57cfcfe75a8819929e8ed2ce0e06ca\", element=\"5205a881-ad99-4f16-8a7c-1c57f126d930\")>,\n",
       " <selenium.webdriver.remote.webelement.WebElement (session=\"4c57cfcfe75a8819929e8ed2ce0e06ca\", element=\"24f9205a-85de-403a-82fd-c69f2f1ef4ec\")>,\n",
       " <selenium.webdriver.remote.webelement.WebElement (session=\"4c57cfcfe75a8819929e8ed2ce0e06ca\", element=\"ae31f3cb-a51a-4e55-a079-5afdb70b1ec0\")>,\n",
       " <selenium.webdriver.remote.webelement.WebElement (session=\"4c57cfcfe75a8819929e8ed2ce0e06ca\", element=\"a4b1e112-fd0f-42a4-8678-7f434e0a6a58\")>,\n",
       " <selenium.webdriver.remote.webelement.WebElement (session=\"4c57cfcfe75a8819929e8ed2ce0e06ca\", element=\"77064939-2ed6-486d-8c67-dbc8cacd9ef7\")>,\n",
       " <selenium.webdriver.remote.webelement.WebElement (session=\"4c57cfcfe75a8819929e8ed2ce0e06ca\", element=\"954f9984-29e5-420c-a77d-17da7f416221\")>,\n",
       " <selenium.webdriver.remote.webelement.WebElement (session=\"4c57cfcfe75a8819929e8ed2ce0e06ca\", element=\"dbf7a764-334a-4f24-8286-e31f300da28d\")>,\n",
       " <selenium.webdriver.remote.webelement.WebElement (session=\"4c57cfcfe75a8819929e8ed2ce0e06ca\", element=\"68f31d45-4894-49ee-aea9-eb2693e9201e\")>,\n",
       " <selenium.webdriver.remote.webelement.WebElement (session=\"4c57cfcfe75a8819929e8ed2ce0e06ca\", element=\"b1677cfc-9319-45c2-8317-300d0c70a7bc\")>,\n",
       " <selenium.webdriver.remote.webelement.WebElement (session=\"4c57cfcfe75a8819929e8ed2ce0e06ca\", element=\"a114baf3-e292-42ac-8f65-0dd0d3870592\")>,\n",
       " <selenium.webdriver.remote.webelement.WebElement (session=\"4c57cfcfe75a8819929e8ed2ce0e06ca\", element=\"ca8ce2eb-ea12-44b9-864a-a11c0cd45e30\")>,\n",
       " <selenium.webdriver.remote.webelement.WebElement (session=\"4c57cfcfe75a8819929e8ed2ce0e06ca\", element=\"d8b88c0a-65f9-4c9d-9136-0dc0f0a7aa70\")>,\n",
       " <selenium.webdriver.remote.webelement.WebElement (session=\"4c57cfcfe75a8819929e8ed2ce0e06ca\", element=\"7608271a-eeff-4e36-81b4-cc70e2b2bb3e\")>,\n",
       " <selenium.webdriver.remote.webelement.WebElement (session=\"4c57cfcfe75a8819929e8ed2ce0e06ca\", element=\"d96ad578-47ae-4024-9eec-fce86b8df21a\")>,\n",
       " <selenium.webdriver.remote.webelement.WebElement (session=\"4c57cfcfe75a8819929e8ed2ce0e06ca\", element=\"60c6faf0-64cc-444a-9c52-5fef8549791b\")>,\n",
       " <selenium.webdriver.remote.webelement.WebElement (session=\"4c57cfcfe75a8819929e8ed2ce0e06ca\", element=\"015a5efe-de96-44a9-a194-3254b20c2c1b\")>,\n",
       " <selenium.webdriver.remote.webelement.WebElement (session=\"4c57cfcfe75a8819929e8ed2ce0e06ca\", element=\"aea55bce-8243-48ac-9d25-9301a2529e12\")>,\n",
       " <selenium.webdriver.remote.webelement.WebElement (session=\"4c57cfcfe75a8819929e8ed2ce0e06ca\", element=\"c2ed65a3-bcca-433c-b60d-39ae8bb0d573\")>,\n",
       " <selenium.webdriver.remote.webelement.WebElement (session=\"4c57cfcfe75a8819929e8ed2ce0e06ca\", element=\"1164c2af-e240-4f07-9118-14803b8195ee\")>,\n",
       " <selenium.webdriver.remote.webelement.WebElement (session=\"4c57cfcfe75a8819929e8ed2ce0e06ca\", element=\"ecf69567-56f3-4339-a2b9-55179cdbb07d\")>,\n",
       " <selenium.webdriver.remote.webelement.WebElement (session=\"4c57cfcfe75a8819929e8ed2ce0e06ca\", element=\"f92aa3d4-0e09-41f1-89bb-31d0c7e082f7\")>,\n",
       " <selenium.webdriver.remote.webelement.WebElement (session=\"4c57cfcfe75a8819929e8ed2ce0e06ca\", element=\"73f74a1d-1c65-4d02-a2a8-7b7140ea9f57\")>,\n",
       " <selenium.webdriver.remote.webelement.WebElement (session=\"4c57cfcfe75a8819929e8ed2ce0e06ca\", element=\"f08c2621-0d98-4765-b152-ba4e22434290\")>,\n",
       " <selenium.webdriver.remote.webelement.WebElement (session=\"4c57cfcfe75a8819929e8ed2ce0e06ca\", element=\"2b7fdbeb-d0bc-4436-9c86-d180feca3171\")>,\n",
       " <selenium.webdriver.remote.webelement.WebElement (session=\"4c57cfcfe75a8819929e8ed2ce0e06ca\", element=\"22e40092-f4c8-4bbd-a4e2-f25fad7d0084\")>,\n",
       " <selenium.webdriver.remote.webelement.WebElement (session=\"4c57cfcfe75a8819929e8ed2ce0e06ca\", element=\"f0731b9b-0bde-45cb-b6dd-86ed69c5a798\")>,\n",
       " <selenium.webdriver.remote.webelement.WebElement (session=\"4c57cfcfe75a8819929e8ed2ce0e06ca\", element=\"0ed2d1b7-82dd-4350-bcc6-368a003f4b09\")>,\n",
       " <selenium.webdriver.remote.webelement.WebElement (session=\"4c57cfcfe75a8819929e8ed2ce0e06ca\", element=\"540f4f3f-c417-4372-ba41-d219906d8ce1\")>,\n",
       " <selenium.webdriver.remote.webelement.WebElement (session=\"4c57cfcfe75a8819929e8ed2ce0e06ca\", element=\"3c053b3e-5b7e-481d-a799-5108f17b55d6\")>,\n",
       " <selenium.webdriver.remote.webelement.WebElement (session=\"4c57cfcfe75a8819929e8ed2ce0e06ca\", element=\"d2cdd5f0-88ae-43bb-a0ad-1fbab1e653b1\")>,\n",
       " <selenium.webdriver.remote.webelement.WebElement (session=\"4c57cfcfe75a8819929e8ed2ce0e06ca\", element=\"d54c38ba-661b-4a80-b701-0e2a0f413710\")>,\n",
       " <selenium.webdriver.remote.webelement.WebElement (session=\"4c57cfcfe75a8819929e8ed2ce0e06ca\", element=\"b37b2384-982f-442c-90f7-ecfc9bd1200d\")>,\n",
       " <selenium.webdriver.remote.webelement.WebElement (session=\"4c57cfcfe75a8819929e8ed2ce0e06ca\", element=\"7edbdf33-3c7d-479d-bd70-441a08db96f4\")>,\n",
       " <selenium.webdriver.remote.webelement.WebElement (session=\"4c57cfcfe75a8819929e8ed2ce0e06ca\", element=\"85d8fb01-390b-48cf-b244-aa4de36a348b\")>,\n",
       " <selenium.webdriver.remote.webelement.WebElement (session=\"4c57cfcfe75a8819929e8ed2ce0e06ca\", element=\"ab8bcd44-3abe-499a-b78e-5e88969f365c\")>,\n",
       " <selenium.webdriver.remote.webelement.WebElement (session=\"4c57cfcfe75a8819929e8ed2ce0e06ca\", element=\"905d57fa-9b04-4877-a671-94985fb10efe\")>,\n",
       " <selenium.webdriver.remote.webelement.WebElement (session=\"4c57cfcfe75a8819929e8ed2ce0e06ca\", element=\"c715052a-6265-4dcf-adc5-64f1e898ed0c\")>,\n",
       " <selenium.webdriver.remote.webelement.WebElement (session=\"4c57cfcfe75a8819929e8ed2ce0e06ca\", element=\"77c873be-4c33-4c4d-825d-13eead906c05\")>,\n",
       " <selenium.webdriver.remote.webelement.WebElement (session=\"4c57cfcfe75a8819929e8ed2ce0e06ca\", element=\"b8abe1d9-e386-417a-bbf3-421d333fb8b2\")>,\n",
       " <selenium.webdriver.remote.webelement.WebElement (session=\"4c57cfcfe75a8819929e8ed2ce0e06ca\", element=\"69c1b7b4-4058-4fd3-bcb1-110f6922d7ac\")>,\n",
       " <selenium.webdriver.remote.webelement.WebElement (session=\"4c57cfcfe75a8819929e8ed2ce0e06ca\", element=\"8cfd4368-0847-44eb-bb9d-98c97d1e6f06\")>,\n",
       " <selenium.webdriver.remote.webelement.WebElement (session=\"4c57cfcfe75a8819929e8ed2ce0e06ca\", element=\"7d77a2f9-356a-4517-bcf6-6801edc1fbbc\")>,\n",
       " <selenium.webdriver.remote.webelement.WebElement (session=\"4c57cfcfe75a8819929e8ed2ce0e06ca\", element=\"ee63b788-d442-4409-b940-21210d23f13c\")>,\n",
       " <selenium.webdriver.remote.webelement.WebElement (session=\"4c57cfcfe75a8819929e8ed2ce0e06ca\", element=\"9c896dda-8776-4cf5-8ea1-804d74c189dc\")>,\n",
       " <selenium.webdriver.remote.webelement.WebElement (session=\"4c57cfcfe75a8819929e8ed2ce0e06ca\", element=\"834639d1-32f1-4652-ad37-b1ace9798240\")>,\n",
       " <selenium.webdriver.remote.webelement.WebElement (session=\"4c57cfcfe75a8819929e8ed2ce0e06ca\", element=\"b49debc6-3b0a-4932-b777-294cdc692968\")>,\n",
       " <selenium.webdriver.remote.webelement.WebElement (session=\"4c57cfcfe75a8819929e8ed2ce0e06ca\", element=\"4d120be0-6d23-4aec-9081-ae9e2874febe\")>]"
      ]
     },
     "execution_count": 8,
     "metadata": {},
     "output_type": "execute_result"
    }
   ],
   "source": [
    "#so lets extract all the tag having brand name\n",
    "brand_tags=driver.find_elements_by_xpath(\"//h3[@class='product-brand']\")\n",
    "brand_tags[0:50]"
   ]
  },
  {
   "cell_type": "code",
   "execution_count": 9,
   "id": "dccfa582",
   "metadata": {},
   "outputs": [
    {
     "data": {
      "text/plain": [
       "['ASICS',\n",
       " 'ADIDAS',\n",
       " 'Puma',\n",
       " 'Puma',\n",
       " 'Nike',\n",
       " 'Puma',\n",
       " 'FORCLAZ By Decathlon',\n",
       " 'Hush Puppies',\n",
       " 'ASICS',\n",
       " 'Hush Puppies',\n",
       " 'Puma',\n",
       " 'Hush Puppies',\n",
       " 'Hush Puppies',\n",
       " 'Xtep',\n",
       " 'Saint G',\n",
       " 'UNDER ARMOUR',\n",
       " 'Hush Puppies',\n",
       " 'Heel & Buckle London',\n",
       " 'Bugatti',\n",
       " 'ASICS',\n",
       " 'Puma',\n",
       " 'Saint G',\n",
       " 'ASICS',\n",
       " 'Hush Puppies',\n",
       " 'Hush Puppies',\n",
       " 'Skechers',\n",
       " 'Saint G',\n",
       " 'Skechers',\n",
       " 'Bugatti',\n",
       " 'Saint G',\n",
       " 'Ruosh',\n",
       " 'Geox',\n",
       " 'Pavers England',\n",
       " 'DAVINCHI',\n",
       " 'DAVINCHI',\n",
       " 'Cole Haan',\n",
       " 'ASICS',\n",
       " 'Saint G',\n",
       " 'Bugatti',\n",
       " 'Hush Puppies',\n",
       " 'ASICS',\n",
       " 'J.FONTINI',\n",
       " 'RARE RABBIT',\n",
       " 'MANGO',\n",
       " 'Geox',\n",
       " 'Clarks',\n",
       " 'DAVINCHI',\n",
       " 'Heel & Buckle London',\n",
       " 'Ruosh',\n",
       " 'J.FONTINI']"
      ]
     },
     "execution_count": 9,
     "metadata": {},
     "output_type": "execute_result"
    }
   ],
   "source": [
    "for i in brand_tags:\n",
    "    brand=i.text\n",
    "    brand_list.append(brand)\n",
    "brand_list[0:50]  "
   ]
  },
  {
   "cell_type": "code",
   "execution_count": 10,
   "id": "f3130030",
   "metadata": {},
   "outputs": [
    {
     "data": {
      "text/plain": [
       "[<selenium.webdriver.remote.webelement.WebElement (session=\"4c57cfcfe75a8819929e8ed2ce0e06ca\", element=\"a26c290a-3fcc-4566-b3e8-2efcb01099b9\")>,\n",
       " <selenium.webdriver.remote.webelement.WebElement (session=\"4c57cfcfe75a8819929e8ed2ce0e06ca\", element=\"7664dd25-e436-47d5-ab0d-12288713fc11\")>,\n",
       " <selenium.webdriver.remote.webelement.WebElement (session=\"4c57cfcfe75a8819929e8ed2ce0e06ca\", element=\"efb393a0-d2b9-43d6-8341-c72845774dca\")>,\n",
       " <selenium.webdriver.remote.webelement.WebElement (session=\"4c57cfcfe75a8819929e8ed2ce0e06ca\", element=\"3c4ee11b-0267-4114-9d79-8396b2f96701\")>,\n",
       " <selenium.webdriver.remote.webelement.WebElement (session=\"4c57cfcfe75a8819929e8ed2ce0e06ca\", element=\"60600765-88eb-44b6-be78-46e48bcd8dfc\")>,\n",
       " <selenium.webdriver.remote.webelement.WebElement (session=\"4c57cfcfe75a8819929e8ed2ce0e06ca\", element=\"462de04b-c15d-45b7-aee3-f8f5907766e3\")>,\n",
       " <selenium.webdriver.remote.webelement.WebElement (session=\"4c57cfcfe75a8819929e8ed2ce0e06ca\", element=\"9b9b293a-25cd-4ec0-83af-12c2bb245b60\")>,\n",
       " <selenium.webdriver.remote.webelement.WebElement (session=\"4c57cfcfe75a8819929e8ed2ce0e06ca\", element=\"ba54073f-4a03-43f7-b895-ade933c22679\")>,\n",
       " <selenium.webdriver.remote.webelement.WebElement (session=\"4c57cfcfe75a8819929e8ed2ce0e06ca\", element=\"3f215d83-b10a-4c08-9462-1c0f38549a03\")>,\n",
       " <selenium.webdriver.remote.webelement.WebElement (session=\"4c57cfcfe75a8819929e8ed2ce0e06ca\", element=\"556a0409-e42c-44c4-9351-3df680d5bf3d\")>,\n",
       " <selenium.webdriver.remote.webelement.WebElement (session=\"4c57cfcfe75a8819929e8ed2ce0e06ca\", element=\"c9aac418-56be-4f3f-b305-2bab748ef131\")>,\n",
       " <selenium.webdriver.remote.webelement.WebElement (session=\"4c57cfcfe75a8819929e8ed2ce0e06ca\", element=\"6d64206e-d891-4be5-8f34-5ea8f34b942f\")>,\n",
       " <selenium.webdriver.remote.webelement.WebElement (session=\"4c57cfcfe75a8819929e8ed2ce0e06ca\", element=\"69657bfa-a07a-4fa8-b214-cc261c2b00b9\")>,\n",
       " <selenium.webdriver.remote.webelement.WebElement (session=\"4c57cfcfe75a8819929e8ed2ce0e06ca\", element=\"f1d69d79-b18f-49ab-b829-4f500129a166\")>,\n",
       " <selenium.webdriver.remote.webelement.WebElement (session=\"4c57cfcfe75a8819929e8ed2ce0e06ca\", element=\"10513862-b27d-439e-8a98-478ccffb2009\")>,\n",
       " <selenium.webdriver.remote.webelement.WebElement (session=\"4c57cfcfe75a8819929e8ed2ce0e06ca\", element=\"fc2c50ea-3744-4e08-afa1-d5646c007912\")>,\n",
       " <selenium.webdriver.remote.webelement.WebElement (session=\"4c57cfcfe75a8819929e8ed2ce0e06ca\", element=\"17a7f25f-f75d-4404-a47e-a7d32381fa87\")>,\n",
       " <selenium.webdriver.remote.webelement.WebElement (session=\"4c57cfcfe75a8819929e8ed2ce0e06ca\", element=\"f2659fd2-84e4-4966-af16-50cd63703a42\")>,\n",
       " <selenium.webdriver.remote.webelement.WebElement (session=\"4c57cfcfe75a8819929e8ed2ce0e06ca\", element=\"f766c573-5a6f-4e37-9576-0a8bf85a5dbc\")>,\n",
       " <selenium.webdriver.remote.webelement.WebElement (session=\"4c57cfcfe75a8819929e8ed2ce0e06ca\", element=\"0b7dc022-c26f-494b-a238-660f2a80a657\")>,\n",
       " <selenium.webdriver.remote.webelement.WebElement (session=\"4c57cfcfe75a8819929e8ed2ce0e06ca\", element=\"a4848f7c-11c4-406c-8800-8618de4084f5\")>,\n",
       " <selenium.webdriver.remote.webelement.WebElement (session=\"4c57cfcfe75a8819929e8ed2ce0e06ca\", element=\"69178638-77d6-4328-9f6e-2242c5f13b54\")>,\n",
       " <selenium.webdriver.remote.webelement.WebElement (session=\"4c57cfcfe75a8819929e8ed2ce0e06ca\", element=\"f3ef7681-d571-45fc-b5a5-64611ef2a1e1\")>,\n",
       " <selenium.webdriver.remote.webelement.WebElement (session=\"4c57cfcfe75a8819929e8ed2ce0e06ca\", element=\"fcc387d1-9fb1-47a3-b16b-39eccbab8b4a\")>,\n",
       " <selenium.webdriver.remote.webelement.WebElement (session=\"4c57cfcfe75a8819929e8ed2ce0e06ca\", element=\"ed594da6-161b-4f02-a092-f26c965659c9\")>,\n",
       " <selenium.webdriver.remote.webelement.WebElement (session=\"4c57cfcfe75a8819929e8ed2ce0e06ca\", element=\"82e8527a-21fd-42d1-8235-7e86289fa3b2\")>,\n",
       " <selenium.webdriver.remote.webelement.WebElement (session=\"4c57cfcfe75a8819929e8ed2ce0e06ca\", element=\"246beeac-f941-4f70-af8c-c887d7cfc978\")>,\n",
       " <selenium.webdriver.remote.webelement.WebElement (session=\"4c57cfcfe75a8819929e8ed2ce0e06ca\", element=\"c6efdadb-5175-4138-866d-2aec84c7f8fc\")>,\n",
       " <selenium.webdriver.remote.webelement.WebElement (session=\"4c57cfcfe75a8819929e8ed2ce0e06ca\", element=\"3d0a0ba0-ef0a-4771-9cb0-2811c092dbbf\")>,\n",
       " <selenium.webdriver.remote.webelement.WebElement (session=\"4c57cfcfe75a8819929e8ed2ce0e06ca\", element=\"3caed95e-48de-4b99-b360-a2398b7dd257\")>,\n",
       " <selenium.webdriver.remote.webelement.WebElement (session=\"4c57cfcfe75a8819929e8ed2ce0e06ca\", element=\"898e10dd-ad52-4e78-a2a2-845530a0c33e\")>,\n",
       " <selenium.webdriver.remote.webelement.WebElement (session=\"4c57cfcfe75a8819929e8ed2ce0e06ca\", element=\"4a55ad03-65e8-403a-a3d4-384a14621bf0\")>,\n",
       " <selenium.webdriver.remote.webelement.WebElement (session=\"4c57cfcfe75a8819929e8ed2ce0e06ca\", element=\"6a42b9c1-98a9-4c10-a0df-217c5bd47c63\")>,\n",
       " <selenium.webdriver.remote.webelement.WebElement (session=\"4c57cfcfe75a8819929e8ed2ce0e06ca\", element=\"a113553b-81c4-48f7-8fb3-162f3bf89f9e\")>,\n",
       " <selenium.webdriver.remote.webelement.WebElement (session=\"4c57cfcfe75a8819929e8ed2ce0e06ca\", element=\"105e2323-17f3-4c16-9f9d-43e002d8608a\")>,\n",
       " <selenium.webdriver.remote.webelement.WebElement (session=\"4c57cfcfe75a8819929e8ed2ce0e06ca\", element=\"8277d43c-d601-4344-918f-ea146ade8f65\")>,\n",
       " <selenium.webdriver.remote.webelement.WebElement (session=\"4c57cfcfe75a8819929e8ed2ce0e06ca\", element=\"b2a6c82e-1166-4ec2-8d98-e7244b43b4c4\")>,\n",
       " <selenium.webdriver.remote.webelement.WebElement (session=\"4c57cfcfe75a8819929e8ed2ce0e06ca\", element=\"8eb93cf5-6a69-407d-8c72-d229e2365b3d\")>,\n",
       " <selenium.webdriver.remote.webelement.WebElement (session=\"4c57cfcfe75a8819929e8ed2ce0e06ca\", element=\"0c34db73-442c-4024-a788-ca273665da2e\")>,\n",
       " <selenium.webdriver.remote.webelement.WebElement (session=\"4c57cfcfe75a8819929e8ed2ce0e06ca\", element=\"f8ed053f-63f0-4e13-81f0-f40ed68783c7\")>,\n",
       " <selenium.webdriver.remote.webelement.WebElement (session=\"4c57cfcfe75a8819929e8ed2ce0e06ca\", element=\"7572d0ef-d07e-4978-9b06-c8fea851d04b\")>,\n",
       " <selenium.webdriver.remote.webelement.WebElement (session=\"4c57cfcfe75a8819929e8ed2ce0e06ca\", element=\"4f415bce-f132-479f-a169-22362649ca39\")>,\n",
       " <selenium.webdriver.remote.webelement.WebElement (session=\"4c57cfcfe75a8819929e8ed2ce0e06ca\", element=\"646d6e27-e933-4861-9845-f9c1053023d1\")>,\n",
       " <selenium.webdriver.remote.webelement.WebElement (session=\"4c57cfcfe75a8819929e8ed2ce0e06ca\", element=\"96d286cc-76f4-47b7-afaf-943b37ccbfc3\")>,\n",
       " <selenium.webdriver.remote.webelement.WebElement (session=\"4c57cfcfe75a8819929e8ed2ce0e06ca\", element=\"fe838aff-553b-45b8-ab87-b43351bb0909\")>,\n",
       " <selenium.webdriver.remote.webelement.WebElement (session=\"4c57cfcfe75a8819929e8ed2ce0e06ca\", element=\"6483a016-4277-4ef7-8ba5-88672c88b71b\")>,\n",
       " <selenium.webdriver.remote.webelement.WebElement (session=\"4c57cfcfe75a8819929e8ed2ce0e06ca\", element=\"82ade16a-b067-4d8d-8b7b-82ba87020301\")>,\n",
       " <selenium.webdriver.remote.webelement.WebElement (session=\"4c57cfcfe75a8819929e8ed2ce0e06ca\", element=\"d511bd71-8678-49ed-9bb5-01bd10575211\")>,\n",
       " <selenium.webdriver.remote.webelement.WebElement (session=\"4c57cfcfe75a8819929e8ed2ce0e06ca\", element=\"5966e215-2716-4427-b579-107e7f66c86c\")>,\n",
       " <selenium.webdriver.remote.webelement.WebElement (session=\"4c57cfcfe75a8819929e8ed2ce0e06ca\", element=\"538117eb-97c2-4163-acd3-ad4422991938\")>]"
      ]
     },
     "execution_count": 10,
     "metadata": {},
     "output_type": "execute_result"
    }
   ],
   "source": [
    "#extract all the tag having description\n",
    "description_tags=driver.find_elements_by_xpath(\"//span[@class='product-sizeNoInventoryPresent']\")\n",
    "description_tags[0:50]"
   ]
  },
  {
   "cell_type": "code",
   "execution_count": 11,
   "id": "d5055435",
   "metadata": {},
   "outputs": [
    {
     "data": {
      "text/plain": [
       "['',\n",
       " '',\n",
       " '',\n",
       " '',\n",
       " '',\n",
       " '',\n",
       " '',\n",
       " '',\n",
       " '',\n",
       " '',\n",
       " '',\n",
       " '',\n",
       " '',\n",
       " '',\n",
       " '',\n",
       " '',\n",
       " '',\n",
       " '',\n",
       " '',\n",
       " '',\n",
       " '',\n",
       " '',\n",
       " '',\n",
       " '',\n",
       " '',\n",
       " '',\n",
       " '',\n",
       " '',\n",
       " '',\n",
       " '',\n",
       " '',\n",
       " '',\n",
       " '',\n",
       " '',\n",
       " '',\n",
       " '',\n",
       " '',\n",
       " '',\n",
       " '',\n",
       " '',\n",
       " '',\n",
       " '',\n",
       " '',\n",
       " '',\n",
       " '',\n",
       " '',\n",
       " '',\n",
       " '',\n",
       " '',\n",
       " '']"
      ]
     },
     "execution_count": 11,
     "metadata": {},
     "output_type": "execute_result"
    }
   ],
   "source": [
    "for i in description_tags:\n",
    "    description=i.text\n",
    "    product_description.append(description)\n",
    "product_description[0:50] "
   ]
  },
  {
   "cell_type": "code",
   "execution_count": 12,
   "id": "c2f7c185",
   "metadata": {},
   "outputs": [
    {
     "data": {
      "text/plain": [
       "[<selenium.webdriver.remote.webelement.WebElement (session=\"4c57cfcfe75a8819929e8ed2ce0e06ca\", element=\"3b0a2dbd-ca8d-46c7-9d51-547454d12412\")>,\n",
       " <selenium.webdriver.remote.webelement.WebElement (session=\"4c57cfcfe75a8819929e8ed2ce0e06ca\", element=\"6e738c65-3c0b-4def-841d-14fb4f0b3cad\")>,\n",
       " <selenium.webdriver.remote.webelement.WebElement (session=\"4c57cfcfe75a8819929e8ed2ce0e06ca\", element=\"0008f899-1161-4841-b27f-c64c052415e9\")>,\n",
       " <selenium.webdriver.remote.webelement.WebElement (session=\"4c57cfcfe75a8819929e8ed2ce0e06ca\", element=\"83f172d2-b832-4d37-a22f-30fbee969eb0\")>,\n",
       " <selenium.webdriver.remote.webelement.WebElement (session=\"4c57cfcfe75a8819929e8ed2ce0e06ca\", element=\"f54e7770-0347-4315-b7a1-3cfdbe42ffcf\")>,\n",
       " <selenium.webdriver.remote.webelement.WebElement (session=\"4c57cfcfe75a8819929e8ed2ce0e06ca\", element=\"b066a852-8709-43d3-8194-239c6dfe84ee\")>,\n",
       " <selenium.webdriver.remote.webelement.WebElement (session=\"4c57cfcfe75a8819929e8ed2ce0e06ca\", element=\"18685e6f-eac2-47e2-853e-a54f501168d5\")>,\n",
       " <selenium.webdriver.remote.webelement.WebElement (session=\"4c57cfcfe75a8819929e8ed2ce0e06ca\", element=\"def43eb5-5bf8-4c58-95fc-5deef1f050bc\")>,\n",
       " <selenium.webdriver.remote.webelement.WebElement (session=\"4c57cfcfe75a8819929e8ed2ce0e06ca\", element=\"89106dc6-4f79-4792-bc11-ba41d029bd36\")>,\n",
       " <selenium.webdriver.remote.webelement.WebElement (session=\"4c57cfcfe75a8819929e8ed2ce0e06ca\", element=\"005bd670-ce81-42c0-9f04-bc10aea65a69\")>,\n",
       " <selenium.webdriver.remote.webelement.WebElement (session=\"4c57cfcfe75a8819929e8ed2ce0e06ca\", element=\"1ce5e404-0397-468c-9e04-dc289caf110a\")>,\n",
       " <selenium.webdriver.remote.webelement.WebElement (session=\"4c57cfcfe75a8819929e8ed2ce0e06ca\", element=\"b08cb6e7-4087-41ff-85da-253d83d32ee4\")>,\n",
       " <selenium.webdriver.remote.webelement.WebElement (session=\"4c57cfcfe75a8819929e8ed2ce0e06ca\", element=\"c9e5f4fc-5bad-48be-b1f4-7d3e408319d1\")>,\n",
       " <selenium.webdriver.remote.webelement.WebElement (session=\"4c57cfcfe75a8819929e8ed2ce0e06ca\", element=\"b5a760c6-70ce-4178-9593-48481ea432ba\")>,\n",
       " <selenium.webdriver.remote.webelement.WebElement (session=\"4c57cfcfe75a8819929e8ed2ce0e06ca\", element=\"942f01c1-27cf-4fad-a6c6-9d4993b4c01e\")>,\n",
       " <selenium.webdriver.remote.webelement.WebElement (session=\"4c57cfcfe75a8819929e8ed2ce0e06ca\", element=\"366a461b-3c19-4104-b07f-6f09a59f4ff5\")>,\n",
       " <selenium.webdriver.remote.webelement.WebElement (session=\"4c57cfcfe75a8819929e8ed2ce0e06ca\", element=\"a6e2ac6d-7712-442b-aa25-c5b5c85df111\")>,\n",
       " <selenium.webdriver.remote.webelement.WebElement (session=\"4c57cfcfe75a8819929e8ed2ce0e06ca\", element=\"a7cea9c3-aebd-433c-bc93-780a7b99b6c0\")>,\n",
       " <selenium.webdriver.remote.webelement.WebElement (session=\"4c57cfcfe75a8819929e8ed2ce0e06ca\", element=\"b804d32d-ddcf-4ab2-92b9-4290609ec92e\")>,\n",
       " <selenium.webdriver.remote.webelement.WebElement (session=\"4c57cfcfe75a8819929e8ed2ce0e06ca\", element=\"b5a65eca-cdeb-4183-aa74-dd978093d102\")>,\n",
       " <selenium.webdriver.remote.webelement.WebElement (session=\"4c57cfcfe75a8819929e8ed2ce0e06ca\", element=\"75ba0fe3-e02c-4142-a98e-478fbe3077eb\")>,\n",
       " <selenium.webdriver.remote.webelement.WebElement (session=\"4c57cfcfe75a8819929e8ed2ce0e06ca\", element=\"a7cb13d4-c38e-4fdc-b0fc-40da940d42c9\")>,\n",
       " <selenium.webdriver.remote.webelement.WebElement (session=\"4c57cfcfe75a8819929e8ed2ce0e06ca\", element=\"034ca201-6aa8-4fef-a379-55023cf36973\")>,\n",
       " <selenium.webdriver.remote.webelement.WebElement (session=\"4c57cfcfe75a8819929e8ed2ce0e06ca\", element=\"d8b329ed-512c-434c-9ac9-9189f57e1cf8\")>,\n",
       " <selenium.webdriver.remote.webelement.WebElement (session=\"4c57cfcfe75a8819929e8ed2ce0e06ca\", element=\"246b1d48-bd1b-4ed4-83a5-b8bb8e48c979\")>,\n",
       " <selenium.webdriver.remote.webelement.WebElement (session=\"4c57cfcfe75a8819929e8ed2ce0e06ca\", element=\"24c3d71c-ac99-42a8-89c8-ca8136a5aaca\")>]"
      ]
     },
     "execution_count": 12,
     "metadata": {},
     "output_type": "execute_result"
    }
   ],
   "source": [
    "#extract all the tag having price\n",
    "price_tags=driver.find_elements_by_xpath(\"//span[@class='product-discountedPrice']\")\n",
    "price_tags[0:50]"
   ]
  },
  {
   "cell_type": "code",
   "execution_count": 13,
   "id": "f5f30cba",
   "metadata": {},
   "outputs": [
    {
     "data": {
      "text/plain": [
       "['Rs. 10499',\n",
       " 'Rs. 6499',\n",
       " 'Rs. 8249',\n",
       " 'Rs. 6499',\n",
       " 'Rs. 6299',\n",
       " 'Rs. 8099',\n",
       " 'Rs. 7799',\n",
       " 'Rs. 8999',\n",
       " 'Rs. 8999',\n",
       " 'Rs. 11900',\n",
       " 'Rs. 8999',\n",
       " 'Rs. 6293',\n",
       " 'Rs. 6499',\n",
       " 'Rs. 9810',\n",
       " 'Rs. 7999',\n",
       " 'Rs. 8999',\n",
       " 'Rs. 10350',\n",
       " 'Rs. 9800',\n",
       " 'Rs. 10399',\n",
       " 'Rs. 8999',\n",
       " 'Rs. 6900',\n",
       " 'Rs. 8799',\n",
       " 'Rs. 6299',\n",
       " 'Rs. 6499',\n",
       " 'Rs. 6791',\n",
       " 'Rs. 7693']"
      ]
     },
     "execution_count": 13,
     "metadata": {},
     "output_type": "execute_result"
    }
   ],
   "source": [
    "for i in price_tags:\n",
    "    price=i.text\n",
    "    price_list.append(price)\n",
    "price_list[0:50] "
   ]
  },
  {
   "cell_type": "code",
   "execution_count": 14,
   "id": "64035820",
   "metadata": {},
   "outputs": [
    {
     "name": "stdout",
     "output_type": "stream",
     "text": [
      "50 323 26\n"
     ]
    }
   ],
   "source": [
    "print(len(brand_list),len(product_description),len(price_list))"
   ]
  },
  {
   "cell_type": "code",
   "execution_count": 15,
   "id": "f40063e2",
   "metadata": {},
   "outputs": [
    {
     "ename": "ValueError",
     "evalue": "Length of values (323) does not match length of index (50)",
     "output_type": "error",
     "traceback": [
      "\u001b[1;31m---------------------------------------------------------------------------\u001b[0m",
      "\u001b[1;31mValueError\u001b[0m                                Traceback (most recent call last)",
      "\u001b[1;32m<ipython-input-15-08e57cbcdded>\u001b[0m in \u001b[0;36m<module>\u001b[1;34m\u001b[0m\n\u001b[0;32m      1\u001b[0m \u001b[0msneakers\u001b[0m\u001b[1;33m=\u001b[0m\u001b[0mpd\u001b[0m\u001b[1;33m.\u001b[0m\u001b[0mDataFrame\u001b[0m\u001b[1;33m(\u001b[0m\u001b[1;33m{\u001b[0m\u001b[1;33m}\u001b[0m\u001b[1;33m)\u001b[0m\u001b[1;33m\u001b[0m\u001b[1;33m\u001b[0m\u001b[0m\n\u001b[0;32m      2\u001b[0m \u001b[0msneakers\u001b[0m\u001b[1;33m[\u001b[0m\u001b[1;34m'brand'\u001b[0m\u001b[1;33m]\u001b[0m\u001b[1;33m=\u001b[0m\u001b[0mbrand_list\u001b[0m\u001b[1;33m\u001b[0m\u001b[1;33m\u001b[0m\u001b[0m\n\u001b[1;32m----> 3\u001b[1;33m \u001b[0msneakers\u001b[0m\u001b[1;33m[\u001b[0m\u001b[1;34m'description'\u001b[0m\u001b[1;33m]\u001b[0m\u001b[1;33m=\u001b[0m\u001b[0mproduct_description\u001b[0m\u001b[1;33m\u001b[0m\u001b[1;33m\u001b[0m\u001b[0m\n\u001b[0m\u001b[0;32m      4\u001b[0m \u001b[0msneakers\u001b[0m\u001b[1;33m[\u001b[0m\u001b[1;34m'price'\u001b[0m\u001b[1;33m]\u001b[0m\u001b[1;33m=\u001b[0m\u001b[0mprice_list\u001b[0m\u001b[1;33m\u001b[0m\u001b[1;33m\u001b[0m\u001b[0m\n\u001b[0;32m      5\u001b[0m \u001b[0msneakers\u001b[0m\u001b[1;33m[\u001b[0m\u001b[1;36m0\u001b[0m\u001b[1;33m:\u001b[0m\u001b[1;36m100\u001b[0m\u001b[1;33m]\u001b[0m\u001b[1;33m\u001b[0m\u001b[1;33m\u001b[0m\u001b[0m\n",
      "\u001b[1;32m~\\anaconda3\\lib\\site-packages\\pandas\\core\\frame.py\u001b[0m in \u001b[0;36m__setitem__\u001b[1;34m(self, key, value)\u001b[0m\n\u001b[0;32m   3161\u001b[0m         \u001b[1;32melse\u001b[0m\u001b[1;33m:\u001b[0m\u001b[1;33m\u001b[0m\u001b[1;33m\u001b[0m\u001b[0m\n\u001b[0;32m   3162\u001b[0m             \u001b[1;31m# set column\u001b[0m\u001b[1;33m\u001b[0m\u001b[1;33m\u001b[0m\u001b[1;33m\u001b[0m\u001b[0m\n\u001b[1;32m-> 3163\u001b[1;33m             \u001b[0mself\u001b[0m\u001b[1;33m.\u001b[0m\u001b[0m_set_item\u001b[0m\u001b[1;33m(\u001b[0m\u001b[0mkey\u001b[0m\u001b[1;33m,\u001b[0m \u001b[0mvalue\u001b[0m\u001b[1;33m)\u001b[0m\u001b[1;33m\u001b[0m\u001b[1;33m\u001b[0m\u001b[0m\n\u001b[0m\u001b[0;32m   3164\u001b[0m \u001b[1;33m\u001b[0m\u001b[0m\n\u001b[0;32m   3165\u001b[0m     \u001b[1;32mdef\u001b[0m \u001b[0m_setitem_slice\u001b[0m\u001b[1;33m(\u001b[0m\u001b[0mself\u001b[0m\u001b[1;33m,\u001b[0m \u001b[0mkey\u001b[0m\u001b[1;33m:\u001b[0m \u001b[0mslice\u001b[0m\u001b[1;33m,\u001b[0m \u001b[0mvalue\u001b[0m\u001b[1;33m)\u001b[0m\u001b[1;33m:\u001b[0m\u001b[1;33m\u001b[0m\u001b[1;33m\u001b[0m\u001b[0m\n",
      "\u001b[1;32m~\\anaconda3\\lib\\site-packages\\pandas\\core\\frame.py\u001b[0m in \u001b[0;36m_set_item\u001b[1;34m(self, key, value)\u001b[0m\n\u001b[0;32m   3240\u001b[0m         \"\"\"\n\u001b[0;32m   3241\u001b[0m         \u001b[0mself\u001b[0m\u001b[1;33m.\u001b[0m\u001b[0m_ensure_valid_index\u001b[0m\u001b[1;33m(\u001b[0m\u001b[0mvalue\u001b[0m\u001b[1;33m)\u001b[0m\u001b[1;33m\u001b[0m\u001b[1;33m\u001b[0m\u001b[0m\n\u001b[1;32m-> 3242\u001b[1;33m         \u001b[0mvalue\u001b[0m \u001b[1;33m=\u001b[0m \u001b[0mself\u001b[0m\u001b[1;33m.\u001b[0m\u001b[0m_sanitize_column\u001b[0m\u001b[1;33m(\u001b[0m\u001b[0mkey\u001b[0m\u001b[1;33m,\u001b[0m \u001b[0mvalue\u001b[0m\u001b[1;33m)\u001b[0m\u001b[1;33m\u001b[0m\u001b[1;33m\u001b[0m\u001b[0m\n\u001b[0m\u001b[0;32m   3243\u001b[0m         \u001b[0mNDFrame\u001b[0m\u001b[1;33m.\u001b[0m\u001b[0m_set_item\u001b[0m\u001b[1;33m(\u001b[0m\u001b[0mself\u001b[0m\u001b[1;33m,\u001b[0m \u001b[0mkey\u001b[0m\u001b[1;33m,\u001b[0m \u001b[0mvalue\u001b[0m\u001b[1;33m)\u001b[0m\u001b[1;33m\u001b[0m\u001b[1;33m\u001b[0m\u001b[0m\n\u001b[0;32m   3244\u001b[0m \u001b[1;33m\u001b[0m\u001b[0m\n",
      "\u001b[1;32m~\\anaconda3\\lib\\site-packages\\pandas\\core\\frame.py\u001b[0m in \u001b[0;36m_sanitize_column\u001b[1;34m(self, key, value, broadcast)\u001b[0m\n\u001b[0;32m   3897\u001b[0m \u001b[1;33m\u001b[0m\u001b[0m\n\u001b[0;32m   3898\u001b[0m             \u001b[1;31m# turn me into an ndarray\u001b[0m\u001b[1;33m\u001b[0m\u001b[1;33m\u001b[0m\u001b[1;33m\u001b[0m\u001b[0m\n\u001b[1;32m-> 3899\u001b[1;33m             \u001b[0mvalue\u001b[0m \u001b[1;33m=\u001b[0m \u001b[0msanitize_index\u001b[0m\u001b[1;33m(\u001b[0m\u001b[0mvalue\u001b[0m\u001b[1;33m,\u001b[0m \u001b[0mself\u001b[0m\u001b[1;33m.\u001b[0m\u001b[0mindex\u001b[0m\u001b[1;33m)\u001b[0m\u001b[1;33m\u001b[0m\u001b[1;33m\u001b[0m\u001b[0m\n\u001b[0m\u001b[0;32m   3900\u001b[0m             \u001b[1;32mif\u001b[0m \u001b[1;32mnot\u001b[0m \u001b[0misinstance\u001b[0m\u001b[1;33m(\u001b[0m\u001b[0mvalue\u001b[0m\u001b[1;33m,\u001b[0m \u001b[1;33m(\u001b[0m\u001b[0mnp\u001b[0m\u001b[1;33m.\u001b[0m\u001b[0mndarray\u001b[0m\u001b[1;33m,\u001b[0m \u001b[0mIndex\u001b[0m\u001b[1;33m)\u001b[0m\u001b[1;33m)\u001b[0m\u001b[1;33m:\u001b[0m\u001b[1;33m\u001b[0m\u001b[1;33m\u001b[0m\u001b[0m\n\u001b[0;32m   3901\u001b[0m                 \u001b[1;32mif\u001b[0m \u001b[0misinstance\u001b[0m\u001b[1;33m(\u001b[0m\u001b[0mvalue\u001b[0m\u001b[1;33m,\u001b[0m \u001b[0mlist\u001b[0m\u001b[1;33m)\u001b[0m \u001b[1;32mand\u001b[0m \u001b[0mlen\u001b[0m\u001b[1;33m(\u001b[0m\u001b[0mvalue\u001b[0m\u001b[1;33m)\u001b[0m \u001b[1;33m>\u001b[0m \u001b[1;36m0\u001b[0m\u001b[1;33m:\u001b[0m\u001b[1;33m\u001b[0m\u001b[1;33m\u001b[0m\u001b[0m\n",
      "\u001b[1;32m~\\anaconda3\\lib\\site-packages\\pandas\\core\\internals\\construction.py\u001b[0m in \u001b[0;36msanitize_index\u001b[1;34m(data, index)\u001b[0m\n\u001b[0;32m    749\u001b[0m     \"\"\"\n\u001b[0;32m    750\u001b[0m     \u001b[1;32mif\u001b[0m \u001b[0mlen\u001b[0m\u001b[1;33m(\u001b[0m\u001b[0mdata\u001b[0m\u001b[1;33m)\u001b[0m \u001b[1;33m!=\u001b[0m \u001b[0mlen\u001b[0m\u001b[1;33m(\u001b[0m\u001b[0mindex\u001b[0m\u001b[1;33m)\u001b[0m\u001b[1;33m:\u001b[0m\u001b[1;33m\u001b[0m\u001b[1;33m\u001b[0m\u001b[0m\n\u001b[1;32m--> 751\u001b[1;33m         raise ValueError(\n\u001b[0m\u001b[0;32m    752\u001b[0m             \u001b[1;34m\"Length of values \"\u001b[0m\u001b[1;33m\u001b[0m\u001b[1;33m\u001b[0m\u001b[0m\n\u001b[0;32m    753\u001b[0m             \u001b[1;34mf\"({len(data)}) \"\u001b[0m\u001b[1;33m\u001b[0m\u001b[1;33m\u001b[0m\u001b[0m\n",
      "\u001b[1;31mValueError\u001b[0m: Length of values (323) does not match length of index (50)"
     ]
    }
   ],
   "source": [
    "sneakers=pd.DataFrame({})\n",
    "sneakers['brand']=brand_list\n",
    "sneakers['description']=product_description\n",
    "sneakers['price']=price_list\n",
    "sneakers[0:100]"
   ]
  },
  {
   "cell_type": "code",
   "execution_count": 3,
   "id": "701fe05c",
   "metadata": {},
   "outputs": [],
   "source": [
    "#Q8\n",
    "driver = webdriver.Chrome(r\"C:/Users/SAI BABA/Downloads/chromedriver_win32/chromedriver.exe\")"
   ]
  },
  {
   "cell_type": "code",
   "execution_count": 5,
   "id": "6a9219a0",
   "metadata": {},
   "outputs": [],
   "source": [
    "driver.get('https://www.amazon.in/')"
   ]
  },
  {
   "cell_type": "code",
   "execution_count": 6,
   "id": "dd62283b",
   "metadata": {},
   "outputs": [],
   "source": [
    "search_element=driver.find_element_by_xpath(\"//input[@id='twotabsearchtextbox']\")\n",
    "search_element.send_keys(\"laptop\")"
   ]
  },
  {
   "cell_type": "code",
   "execution_count": 7,
   "id": "c2fa2d19",
   "metadata": {},
   "outputs": [],
   "source": [
    "search_btn=driver.find_element_by_xpath(\"//div[@class='nav-search-submit nav-sprite']\")\n",
    "search_btn.click()"
   ]
  },
  {
   "cell_type": "code",
   "execution_count": 8,
   "id": "3253d0f3",
   "metadata": {},
   "outputs": [],
   "source": [
    "url=\"https://www.amazon.in/s?k=laptop&rh=n%3A1375424031%2Cp_n_feature_thirteen_browse-bin%3A12598163031&dc&crid=2AD71PI2M6X9A&qid=1639930155&rnid=12598141031&sprefix=laptop%2Caps%2C1202&ref=sr_nr_p_n_feature_thirteen_browse-bin_12\""
   ]
  },
  {
   "cell_type": "code",
   "execution_count": 9,
   "id": "0f86b0a6",
   "metadata": {},
   "outputs": [],
   "source": [
    "driver.get(url)"
   ]
  },
  {
   "cell_type": "code",
   "execution_count": 10,
   "id": "ba79556f",
   "metadata": {},
   "outputs": [],
   "source": [
    "title_list=[]\n",
    "laptop_rating=[]\n",
    "price_list=[]"
   ]
  },
  {
   "cell_type": "code",
   "execution_count": 11,
   "id": "337bf1a3",
   "metadata": {},
   "outputs": [
    {
     "data": {
      "text/plain": [
       "[<selenium.webdriver.remote.webelement.WebElement (session=\"9ac2509265b8de2de1d5c766384a1191\", element=\"60e0226c-ddfb-47cc-babe-6496f341ae72\")>,\n",
       " <selenium.webdriver.remote.webelement.WebElement (session=\"9ac2509265b8de2de1d5c766384a1191\", element=\"a4150bfc-076b-4f9b-8c85-4d3f233437eb\")>,\n",
       " <selenium.webdriver.remote.webelement.WebElement (session=\"9ac2509265b8de2de1d5c766384a1191\", element=\"dd1a0b4c-69a6-42ac-a505-9cdf70b4dde9\")>,\n",
       " <selenium.webdriver.remote.webelement.WebElement (session=\"9ac2509265b8de2de1d5c766384a1191\", element=\"85f65e78-a6a2-4c51-955e-c3fa9aafbb16\")>,\n",
       " <selenium.webdriver.remote.webelement.WebElement (session=\"9ac2509265b8de2de1d5c766384a1191\", element=\"776f83bd-7281-4db2-aadf-36a53ca0f6ee\")>,\n",
       " <selenium.webdriver.remote.webelement.WebElement (session=\"9ac2509265b8de2de1d5c766384a1191\", element=\"25576312-35b9-4689-9525-85b8c013a4c2\")>,\n",
       " <selenium.webdriver.remote.webelement.WebElement (session=\"9ac2509265b8de2de1d5c766384a1191\", element=\"960f6a5c-37b2-4a7e-af4c-fcec8d60a705\")>,\n",
       " <selenium.webdriver.remote.webelement.WebElement (session=\"9ac2509265b8de2de1d5c766384a1191\", element=\"15ec3503-cb85-4b04-8f05-b23f0dbf5b6c\")>,\n",
       " <selenium.webdriver.remote.webelement.WebElement (session=\"9ac2509265b8de2de1d5c766384a1191\", element=\"f3e524c0-5a3a-4227-add4-6e806cf3a529\")>,\n",
       " <selenium.webdriver.remote.webelement.WebElement (session=\"9ac2509265b8de2de1d5c766384a1191\", element=\"f354152a-9785-453a-88f7-cbb042a8a8c2\")>]"
      ]
     },
     "execution_count": 11,
     "metadata": {},
     "output_type": "execute_result"
    }
   ],
   "source": [
    "titles_tags=driver.find_elements_by_xpath(\"//h2[@class='a-size-mini a-spacing-none a-color-base s-line-clamp-2']\")\n",
    "titles_tags[0:10]"
   ]
  },
  {
   "cell_type": "code",
   "execution_count": 12,
   "id": "bcd3a3a2",
   "metadata": {},
   "outputs": [
    {
     "data": {
      "text/plain": [
       "['Acer Nitro 5 AN515-57 Gaming Laptop | Intel Core i7-11800H |NVIDIA GeForce RTX 3050 Ti Laptop Graphics |15.6\" FHD 144Hz IPS Display |16GB DDR4 |256GB SSD+1TB HDD |Killer Wi-Fi 6 |RGB Backlit Keyboard',\n",
       " 'Fujitsu UH-X 11th Gen Intel i7 Core 13.3 inches FHD IPS 400Nits Thin and Light Business Laptop (16GB/512GB SSD/Windows 10/Office/Iris Xe Graphics/Backlit Kb/ Fingerprint Reader/Black/0.878kg), 4ZR1D67596',\n",
       " 'HP Pavilion (2021) Intel 11th Gen Core i7 14 inches FHD Screen Thin & Light Laptop, 16 GB RAM, 1TB SSD, Iris Xe Graphics, Windows 10, MS Office, Backlit Keyboard, 1.41kg (14-dv0058TU)',\n",
       " 'Mi Notebook Ultra 3.2K resolution display Intel Core i7-11370H 11th Gen 15.6-inch(39.62 cm) Thin and Light laptop (16GB/512GB SSD/Iris Xe Graphics/Win 10/MS Office/Backlit KB/Fingerprint sensor/1.7Kg)',\n",
       " 'Mi Notebook Pro QHD+ IPS Anti Glare Display Intel Core i7-11370H 11th Gen 14-inch(35.56 cms) Thin and Light Laptop (16GB/512GB SSD/Iris Xe Graphics/Win 10/Backlit KB/Fingerprint Sensor/1.4 Kg)',\n",
       " 'Mi Notebook Horizon Edition 14 Intel Core i7-10510U 10th Gen 14-inch (35.56 cms) Thin and Light Laptop(8GB/512GB SSD/Windows 10/Nvidia MX350 2GB Graphics/Grey/1.35Kg), XMA1904-AF+Webcam',\n",
       " 'Acer Nitro 5 AN515-57 Gaming Laptop | Intel Core i7-11800H |NVIDIA GeForce RTX 3050 Ti Laptop Graphics |15.6\" FHD 144Hz IPS Display |16GB DDR4 |256GB SSD+1TB HDD |Killer Wi-Fi 6 |RGB Backlit Keyboard',\n",
       " 'ASUS TUF Dash F15 (2021) 15.6-inch (39.62 cms) FHD 144Hz, Intel Core i7-11370H 11th Gen, RTX 3060 6GB Graphics, Gaming Laptop (16GB/512GB SSD/Office 2019/Windows 10/Gray/2 Kg), FX516PM-HN175TS',\n",
       " 'MSI GF75 Thin, Intel i7-10750H, 17.3\" (43.9 cm) FHD IPS-Level 144Hz Panel Laptop (8GB/512GB NVMe SSD/Windows 10 Home/Nvidia GTX1650 4GB GDDR6/Black/2.2Kg), 10SCXR-654IN',\n",
       " 'Lenovo IdeaPad Gaming 3 11th Gen Intel Core i7-11370H 15.6\" (39.63cm) FHD IPS Gaming Laptop (8GB/512GB SSD/Windows 10/NVIDIA RTX 3050 4GB/120Hz Refresh Display/Shadow Black/2.25Kg), 82K1004EIN']"
      ]
     },
     "execution_count": 12,
     "metadata": {},
     "output_type": "execute_result"
    }
   ],
   "source": [
    "for i in titles_tags:\n",
    "    titles=i.text\n",
    "    title_list.append(titles)\n",
    "title_list[0:10]  "
   ]
  },
  {
   "cell_type": "code",
   "execution_count": 29,
   "id": "358cd661",
   "metadata": {},
   "outputs": [
    {
     "data": {
      "text/plain": [
       "[]"
      ]
     },
     "execution_count": 29,
     "metadata": {},
     "output_type": "execute_result"
    }
   ],
   "source": [
    "rating_tags=driver.find_elements_by_xpath(\"//span[@class='4.0 out of 5 stars']\")\n",
    "rating_tags[0:10]"
   ]
  },
  {
   "cell_type": "code",
   "execution_count": 21,
   "id": "04eb0540",
   "metadata": {},
   "outputs": [
    {
     "data": {
      "text/plain": [
       "['Sponsored', '', '', 'Sponsored', '', '', '', '', '', '(2 new offers)']"
      ]
     },
     "execution_count": 21,
     "metadata": {},
     "output_type": "execute_result"
    }
   ],
   "source": [
    "for i in rating_tags:\n",
    "    rating=i.text\n",
    "    laptop_rating.append(rating)\n",
    "laptop_rating[0:10] "
   ]
  },
  {
   "cell_type": "code",
   "execution_count": 22,
   "id": "eba7279c",
   "metadata": {},
   "outputs": [
    {
     "data": {
      "text/plain": [
       "[<selenium.webdriver.remote.webelement.WebElement (session=\"9ac2509265b8de2de1d5c766384a1191\", element=\"cd88e6f2-e3d4-4893-acf8-9b9bac718003\")>,\n",
       " <selenium.webdriver.remote.webelement.WebElement (session=\"9ac2509265b8de2de1d5c766384a1191\", element=\"850c1abf-1b97-4db6-9d9f-b7a2fc1eecff\")>,\n",
       " <selenium.webdriver.remote.webelement.WebElement (session=\"9ac2509265b8de2de1d5c766384a1191\", element=\"add945f9-f886-42b9-b823-ef71b0aaa764\")>,\n",
       " <selenium.webdriver.remote.webelement.WebElement (session=\"9ac2509265b8de2de1d5c766384a1191\", element=\"1aae4bd2-7d73-412d-a56b-99e14c6d58e7\")>,\n",
       " <selenium.webdriver.remote.webelement.WebElement (session=\"9ac2509265b8de2de1d5c766384a1191\", element=\"a9fa9a69-5f6c-49c7-87a3-19e7db32d143\")>,\n",
       " <selenium.webdriver.remote.webelement.WebElement (session=\"9ac2509265b8de2de1d5c766384a1191\", element=\"f106b96f-b8e0-48ce-b136-70593e821790\")>,\n",
       " <selenium.webdriver.remote.webelement.WebElement (session=\"9ac2509265b8de2de1d5c766384a1191\", element=\"84115e8d-1f3d-45c2-9ff4-e6eff50479bd\")>,\n",
       " <selenium.webdriver.remote.webelement.WebElement (session=\"9ac2509265b8de2de1d5c766384a1191\", element=\"9edd54b6-1d61-4bd1-9223-6482478bd630\")>,\n",
       " <selenium.webdriver.remote.webelement.WebElement (session=\"9ac2509265b8de2de1d5c766384a1191\", element=\"d5acf7e1-8e41-4aa2-9889-50c04ce3233c\")>,\n",
       " <selenium.webdriver.remote.webelement.WebElement (session=\"9ac2509265b8de2de1d5c766384a1191\", element=\"3941aa85-8534-4952-8571-d433b6142ac8\")>]"
      ]
     },
     "execution_count": 22,
     "metadata": {},
     "output_type": "execute_result"
    }
   ],
   "source": [
    "price_tags=driver.find_elements_by_xpath(\"//span[@class='a-price-whole']\")\n",
    "price_tags[0:10]"
   ]
  },
  {
   "cell_type": "code",
   "execution_count": 23,
   "id": "1bff8155",
   "metadata": {},
   "outputs": [
    {
     "data": {
      "text/plain": [
       "['89,990',\n",
       " '92,990',\n",
       " '84,990',\n",
       " '77,999',\n",
       " '73,999',\n",
       " '54,498',\n",
       " '89,990',\n",
       " '1,09,990',\n",
       " '72,990',\n",
       " '82,990']"
      ]
     },
     "execution_count": 23,
     "metadata": {},
     "output_type": "execute_result"
    }
   ],
   "source": [
    "for i in price_tags:\n",
    "    price=i.text\n",
    "    price_list.append(price)\n",
    "price_list[0:10] "
   ]
  },
  {
   "cell_type": "code",
   "execution_count": 25,
   "id": "7370698f",
   "metadata": {},
   "outputs": [
    {
     "name": "stdout",
     "output_type": "stream",
     "text": [
      "30 75 30\n"
     ]
    }
   ],
   "source": [
    "print(len(title_list),len(laptop_rating),len(price_list))"
   ]
  },
  {
   "cell_type": "code",
   "execution_count": null,
   "id": "fcb47e74",
   "metadata": {},
   "outputs": [],
   "source": [
    "sunglass=pd.DataFrame({})\n",
    "sunglass['brand']=brand_list\n",
    "sunglass['description']=product_description\n",
    "sunglass['price']=price_list\n",
    "\n"
   ]
  }
 ],
 "metadata": {
  "kernelspec": {
   "display_name": "Python 3",
   "language": "python",
   "name": "python3"
  },
  "language_info": {
   "codemirror_mode": {
    "name": "ipython",
    "version": 3
   },
   "file_extension": ".py",
   "mimetype": "text/x-python",
   "name": "python",
   "nbconvert_exporter": "python",
   "pygments_lexer": "ipython3",
   "version": "3.8.8"
  }
 },
 "nbformat": 4,
 "nbformat_minor": 5
}
